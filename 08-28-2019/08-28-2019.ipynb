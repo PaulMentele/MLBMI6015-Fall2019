{
 "cells": [
  {
   "attachments": {
    "image.png": {
     "image/png": "[encoded data removed]"
    }
   },
   "cell_type": "markdown",
   "metadata": {},
   "source": [
    "# [Linear regression][1]\n",
    "\n",
    "A linear model makes a prediction by simply computing <u><b> a weighted sum of the input features </b></u>, plus a constant called <u><b> the bias term (also called the intercept term) </b></u>: --- Examples [1][2] and [2][3]\n",
    "\n",
    "1. Simple Linear equation: $y^-=mx+c$ where $x$ is the independent variable, $m$ is the weight or the slope, $c$ is the bias term or the intercept, and $y^-$ is the prediction or dependent variable.\n",
    "\n",
    "\n",
    "![image.png](attachment:image.png) \n",
    "\n",
    "\n",
    "We have data of and the independent vs. dependent variables:\n",
    "\n",
    "<img style=\"float: center\" src=\"./images/Y_X_Regression.png\" alt=\"drawing\" height=\"300\" width=\"400\"/>\n",
    "\n",
    "We need to model the data with a linear equation:\n",
    "\n",
    "<img style=\"float: center\" src=\"./images/Y_X_Regression_Prediction.png\" alt=\"drawing\" height=\"300\" width=\"400\"/>\n",
    "\n",
    "\n",
    "\n",
    "\n",
    "2. multi-variable equation: $y^-=\\theta_0 +\\theta_1x_1+\\theta_2x_2+....+\\theta_nx_n$ where $n$ is the number of parameters. \n",
    "\n",
    "\n",
    "The cost or loss function to minimize: $MSE(X,h_\\theta)=\\frac{1}{m}\\sum_{i=1}^m(\\theta^T.x^{(i)}-y^{(i)})^2$ where $m$ is the data points to predict\n",
    "\n",
    "\n",
    " \n",
    "\n",
    "\n",
    "\n",
    "\n",
    "[1]:https://www.youtube.com/watch?v=E5RjzSK0fvY\n",
    "[2]:https://towardsdatascience.com/linear-regression-using-gradient-descent-97a6c8700931\n",
    "[3]:https://ml-cheatsheet.readthedocs.io/en/latest/linear_regression.html\n"
   ]
  },
  {
   "cell_type": "markdown",
   "metadata": {},
   "source": [
    "# [Gradient Descent][1]\n",
    "\n",
    "<b>Gradient descent:</b> is an optimization algorithm used to minimize some function by iteratively moving in the direction of steepest descent as defined by the negative of the gradient. TThe general idea of Gradient Descent is to tweak parameters iteratively in order to minimize a cost function.\n",
    "\n",
    "## In the linear regression:\n",
    "\n",
    "We have to tweak $\\theta$ parameters with the following gradient descent:\n",
    "\n",
    "<img style=\"float: center\" src=\"./images/GD-1.png\" alt=\"drawing\" height=\"300\" width=\"400\"/>\n",
    "\n",
    "<u> Learning rate too small</u>:\n",
    "\n",
    "<img style=\"float: center\" src=\"./images/GD-2.jpg\" alt=\"drawing\" height=\"300\" width=\"400\"/>\n",
    "\n",
    "<u> Learning rate too large</u>:\n",
    "\n",
    "<img style=\"float: center\" src=\"./images/GD-3.jpg\" alt=\"drawing\" height=\"300\" width=\"400\"/>\n",
    "\n",
    "if the random initialization starts the algorithm on the left, then it will converge to <u>a local minimum</u>, which is not as good as the global minimum. If it starts on the right, then it will take a very long time to cross <u>the plateau</u>, and if you stop too early you will never reach the global minimum.\n",
    "\n",
    "<img style=\"float: center\" src=\"./images/GD-4.jpg\" alt=\"drawing\" height=\"300\" width=\"400\"/>\n",
    "\n",
    "We need <u>feature scaling with gradient descent</u> to goes straight forward towards the minimum:\n",
    "\n",
    "<img style=\"float: center\" src=\"./images/FS-GD.jpg\" alt=\"drawing\" height=\"300\" width=\"400\"/>\n",
    "\n",
    "### Partial Derivatives of the cost function\n",
    "\n",
    "<center> $\\frac{\\partial}{\\partial\\theta_j} MSE(\\theta)=\\frac{2}{m}\\sum_{i=1}^m(\\theta^T.x^{i}-y^{(i)})x_j^{(i)} $ </center>\n",
    "\n",
    "\n",
    "### Gradient vector of the cost function\n",
    "\n",
    "<center>\n",
    "$\\nabla_{\\theta_j}MSE(\\theta)=\\begin{pmatrix} \n",
    "      \\frac{\\partial}{\\partial\\theta_0} MSE(\\theta)\\\\\n",
    "      \\frac{\\partial}{\\partial\\theta_0} MSE(\\theta) \\\\\n",
    "      .......\\\\\n",
    "      .......\\\\\n",
    "      \\frac{\\partial}{\\partial\\theta_n} MSE(\\theta) \n",
    "   \\end{pmatrix} \n",
    "   =\\frac{2}{m}X^T(X.\\theta-y)\n",
    "$\n",
    "</center>\n",
    "\n",
    "### Gradient descent step\n",
    "\n",
    "<center> $\\theta^{(next step)}=\\theta-\\eta\\nabla_{\\theta}MSE(\\theta)$ </center> \n",
    "\n",
    "where $\\nabla$ is the learning rate. We repeat this step till loss function becomes <b>zero</b>.\n",
    "\n",
    "\n",
    "[1]:https://ml-cheatsheet.readthedocs.io/en/latest/gradient_descent.html"
   ]
  },
  {
   "cell_type": "markdown",
   "metadata": {},
   "source": [
    "### [Let us practice][1] -- Linear regression with gradient descent\n",
    "\n",
    "Assume that you have $y^-=mx+c$ and you have the error function $E=\\frac{1}{n}\\sum_{i=1}^n(y_i-(mx_i+c))^2$ where $n$ is the number of data points:\n",
    "\n",
    "1. Partial derivative with respect to m is $D_m=\\frac{-2}{n}\\sum_{i=0}^nx_i(y_i-y_i^-)$.\n",
    "\n",
    "2. Partial derivative with respect to c is $D_c=\\frac{-2}{n}\\sum_{i=0}^n(y_i-y_i^-)$.\n",
    "\n",
    "3. Update the next steps; where $L$ is the learning rate:\n",
    "    - $m=m-LD_m$\n",
    "    - $c=c-LD_c$\n",
    "\n",
    "[1]:https://towardsdatascience.com/linear-regression-using-gradient-descent-97a6c8700931"
   ]
  },
  {
   "cell_type": "code",
   "execution_count": 1,
   "metadata": {},
   "outputs": [
    {
     "data": {
      "text/plain": [
       "<Figure size 1200x900 with 1 Axes>"
      ]
     },
     "metadata": {},
     "output_type": "display_data"
    }
   ],
   "source": [
    "# Making the imports\n",
    "import numpy as np\n",
    "import pandas as pd\n",
    "import matplotlib.pyplot as plt\n",
    "plt.rcParams['figure.figsize'] = (12.0, 9.0)\n",
    "\n",
    "# Preprocessing Input data\n",
    "data = pd.read_csv('~/DATA/data.csv')\n",
    "X = data.iloc[:, 0]\n",
    "Y = data.iloc[:, 1]\n",
    "plt.scatter(X, Y)\n",
    "plt.show()"
   ]
  },
  {
   "cell_type": "code",
   "execution_count": 2,
   "metadata": {},
   "outputs": [
    {
     "name": "stdout",
     "output_type": "stream",
     "text": [
      "1.4796491688889395 0.10148121494753726\n"
     ]
    }
   ],
   "source": [
    "# Building the model\n",
    "m = 0\n",
    "c = 0\n",
    "\n",
    "L = 0.0001  # The learning Rate\n",
    "epochs = 1000  # The number of iterations to perform gradient descent\n",
    "\n",
    "n = float(len(X)) # Number of elements in X\n",
    "\n",
    "# Performing Gradient Descent \n",
    "for i in range(epochs): \n",
    "    Y_pred = m*X + c  # The current predicted value of Y\n",
    "    D_m = (-2/n) * sum(X * (Y - Y_pred))  # Derivative wrt m\n",
    "    D_c = (-2/n) * sum(Y - Y_pred)  # Derivative wrt c\n",
    "    m = m - L * D_m  # Update m\n",
    "    c = c - L * D_c  # Update c\n",
    "    \n",
    "print (m, c)"
   ]
  },
  {
   "cell_type": "code",
   "execution_count": 3,
   "metadata": {},
   "outputs": [
    {
     "data": {
      "image/png": "[encoded data removed]",
      "text/plain": [
       "<Figure size 432x288 with 1 Axes>"
      ]
     },
     "metadata": {
      "needs_background": "light"
     },
     "output_type": "display_data"
    }
   ],
   "source": [
    "# Making predictions\n",
    "Y_pred = m*X + c\n",
    "\n",
    "plt.scatter(X, Y) \n",
    "plt.plot([min(X), max(X)], [min(Y_pred), max(Y_pred)], color='red')  # regression line\n",
    "plt.show()"
   ]
  },
  {
   "cell_type": "code",
   "execution_count": null,
   "metadata": {},
   "outputs": [],
   "source": []
  }
 ],
 "metadata": {
  "kernelspec": {
   "display_name": "Python 3",
   "language": "python",
   "name": "python3"
  },
  "language_info": {
   "codemirror_mode": {
    "name": "ipython",
    "version": 3
   },
   "file_extension": ".py",
   "mimetype": "text/x-python",
   "name": "python",
   "nbconvert_exporter": "python",
   "pygments_lexer": "ipython3",
   "version": "3.7.3"
  }
 },
 "nbformat": 4,
 "nbformat_minor": 2
}
