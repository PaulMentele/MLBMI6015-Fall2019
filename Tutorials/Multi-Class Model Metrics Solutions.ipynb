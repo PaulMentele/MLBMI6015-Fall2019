{
 "cells": [
  {
   "cell_type": "code",
   "execution_count": 1,
   "metadata": {},
   "outputs": [],
   "source": [
    "import pandas as pd\n",
    "import numpy as np\n",
    "from sklearn.preprocessing import OneHotEncoder, StandardScaler\n",
    "from sklearn.model_selection import train_test_split\n",
    "from sklearn.linear_model import LogisticRegression\n",
    "from sklearn import metrics\n",
    "import matplotlib.pyplot as plt\n",
    "from scipy import interp"
   ]
  },
  {
   "cell_type": "code",
   "execution_count": 2,
   "metadata": {},
   "outputs": [
    {
     "data": {
      "text/html": [
       "<div>\n",
       "<style scoped>\n",
       "    .dataframe tbody tr th:only-of-type {\n",
       "        vertical-align: middle;\n",
       "    }\n",
       "\n",
       "    .dataframe tbody tr th {\n",
       "        vertical-align: top;\n",
       "    }\n",
       "\n",
       "    .dataframe thead th {\n",
       "        text-align: right;\n",
       "    }\n",
       "</style>\n",
       "<table border=\"1\" class=\"dataframe\">\n",
       "  <thead>\n",
       "    <tr style=\"text-align: right;\">\n",
       "      <th></th>\n",
       "      <th>Id</th>\n",
       "      <th>SepalLengthCm</th>\n",
       "      <th>SepalWidthCm</th>\n",
       "      <th>PetalLengthCm</th>\n",
       "      <th>PetalWidthCm</th>\n",
       "      <th>Species</th>\n",
       "    </tr>\n",
       "  </thead>\n",
       "  <tbody>\n",
       "    <tr>\n",
       "      <th>0</th>\n",
       "      <td>1</td>\n",
       "      <td>5.1</td>\n",
       "      <td>3.5</td>\n",
       "      <td>1.4</td>\n",
       "      <td>0.2</td>\n",
       "      <td>Iris-setosa</td>\n",
       "    </tr>\n",
       "    <tr>\n",
       "      <th>1</th>\n",
       "      <td>2</td>\n",
       "      <td>4.9</td>\n",
       "      <td>3.0</td>\n",
       "      <td>1.4</td>\n",
       "      <td>0.2</td>\n",
       "      <td>Iris-setosa</td>\n",
       "    </tr>\n",
       "    <tr>\n",
       "      <th>2</th>\n",
       "      <td>3</td>\n",
       "      <td>4.7</td>\n",
       "      <td>3.2</td>\n",
       "      <td>1.3</td>\n",
       "      <td>0.2</td>\n",
       "      <td>Iris-setosa</td>\n",
       "    </tr>\n",
       "    <tr>\n",
       "      <th>3</th>\n",
       "      <td>4</td>\n",
       "      <td>4.6</td>\n",
       "      <td>3.1</td>\n",
       "      <td>1.5</td>\n",
       "      <td>0.2</td>\n",
       "      <td>Iris-setosa</td>\n",
       "    </tr>\n",
       "    <tr>\n",
       "      <th>4</th>\n",
       "      <td>5</td>\n",
       "      <td>5.0</td>\n",
       "      <td>3.6</td>\n",
       "      <td>1.4</td>\n",
       "      <td>0.2</td>\n",
       "      <td>Iris-setosa</td>\n",
       "    </tr>\n",
       "  </tbody>\n",
       "</table>\n",
       "</div>"
      ],
      "text/plain": [
       "   Id  SepalLengthCm  SepalWidthCm  PetalLengthCm  PetalWidthCm      Species\n",
       "0   1            5.1           3.5            1.4           0.2  Iris-setosa\n",
       "1   2            4.9           3.0            1.4           0.2  Iris-setosa\n",
       "2   3            4.7           3.2            1.3           0.2  Iris-setosa\n",
       "3   4            4.6           3.1            1.5           0.2  Iris-setosa\n",
       "4   5            5.0           3.6            1.4           0.2  Iris-setosa"
      ]
     },
     "execution_count": 2,
     "metadata": {},
     "output_type": "execute_result"
    }
   ],
   "source": [
    "iris = pd.read_csv(\"~/DATA/Iris.csv\")  # Load the data\n",
    "iris.head()  # Peek at the data"
   ]
  },
  {
   "cell_type": "code",
   "execution_count": 3,
   "metadata": {},
   "outputs": [],
   "source": [
    "#All-in-one:\n",
    "X = iris[iris.columns[1:5]]\n",
    "y = iris[iris.columns[5]]\n",
    "X=np.array(X)\n",
    "y=np.array(y)"
   ]
  },
  {
   "cell_type": "code",
   "execution_count": 4,
   "metadata": {},
   "outputs": [],
   "source": [
    "# encoder = OneHotEncoder(sparse=False)\n",
    "# y=encoder.fit_transform(y.reshape(-1,1)) # encode the label\n",
    "\n",
    "sc = StandardScaler()  # Load the standard scaler\n",
    "sc.fit(X)  # Compute the mean and standard deviation of the feature data\n",
    "X_scaled = sc.transform(X)  # Scale the feature data to be of mean 0 and variance 1\n",
    "\n",
    "# Split the dataset into 30% testing, and 70% training \n",
    "X_train, X_test, y_train, y_test = train_test_split(X_scaled, y, test_size=.3, random_state=1)"
   ]
  },
  {
   "cell_type": "code",
   "execution_count": 15,
   "metadata": {},
   "outputs": [
    {
     "name": "stdout",
     "output_type": "stream",
     "text": [
      "Help on method predict in module sklearn.linear_model.base:\n",
      "\n",
      "predict(X) method of sklearn.linear_model.logistic.LogisticRegression instance\n",
      "    Predict class labels for samples in X.\n",
      "    \n",
      "    Parameters\n",
      "    ----------\n",
      "    X : array_like or sparse matrix, shape (n_samples, n_features)\n",
      "        Samples.\n",
      "    \n",
      "    Returns\n",
      "    -------\n",
      "    C : array, shape [n_samples]\n",
      "        Predicted class label per sample.\n",
      "\n"
     ]
    }
   ],
   "source": [
    "help(model.predict)"
   ]
  },
  {
   "cell_type": "code",
   "execution_count": 14,
   "metadata": {},
   "outputs": [
    {
     "name": "stdout",
     "output_type": "stream",
     "text": [
      "Help on method predict_proba in module sklearn.linear_model.logistic:\n",
      "\n",
      "predict_proba(X) method of sklearn.linear_model.logistic.LogisticRegression instance\n",
      "    Probability estimates.\n",
      "    \n",
      "    The returned estimates for all classes are ordered by the\n",
      "    label of classes.\n",
      "    \n",
      "    For a multi_class problem, if multi_class is set to be \"multinomial\"\n",
      "    the softmax function is used to find the predicted probability of\n",
      "    each class.\n",
      "    Else use a one-vs-rest approach, i.e calculate the probability\n",
      "    of each class assuming it to be positive using the logistic function.\n",
      "    and normalize these values across all the classes.\n",
      "    \n",
      "    Parameters\n",
      "    ----------\n",
      "    X : array-like, shape = [n_samples, n_features]\n",
      "    \n",
      "    Returns\n",
      "    -------\n",
      "    T : array-like, shape = [n_samples, n_classes]\n",
      "        Returns the probability of the sample for each class in the model,\n",
      "        where classes are ordered as they are in ``self.classes_``.\n",
      "\n"
     ]
    }
   ],
   "source": [
    "help(model.predict_probaba)"
   ]
  },
  {
   "cell_type": "code",
   "execution_count": 5,
   "metadata": {},
   "outputs": [
    {
     "name": "stderr",
     "output_type": "stream",
     "text": [
      "/opt/conda/lib/python3.7/site-packages/sklearn/linear_model/logistic.py:432: FutureWarning: Default solver will be changed to 'lbfgs' in 0.22. Specify a solver to silence this warning.\n",
      "  FutureWarning)\n",
      "/opt/conda/lib/python3.7/site-packages/sklearn/linear_model/logistic.py:469: FutureWarning: Default multi_class will be changed to 'auto' in 0.22. Specify the multi_class option to silence this warning.\n",
      "  \"this warning.\", FutureWarning)\n"
     ]
    }
   ],
   "source": [
    "model = LogisticRegression()  # Load our classifier\n",
    "model.fit(X_train, y_train)\n",
    "y_predict = model.predict(X_test)\n",
    "y_score = model.predict_proba(X_test)"
   ]
  },
  {
   "cell_type": "markdown",
   "metadata": {},
   "source": [
    "# How do we evaluate multi-class models?\n",
    "[sci-kit learn metrics module](https://scikit-learn.org/stable/modules/classes.html#module-sklearn.metrics)\n",
    "\n",
    "We can use\n",
    "- accuracy\n",
    "- confusion matrix\n",
    "- precision - recall curve\n",
    "- sensitivity - specificity curve\n",
    "- F1 metric\n",
    "- AUC\n",
    "\n",
    "However some metrics can only be calculated on binary classification tasks so we must take a One Vs Rest approach and calculate the metric for each class. Then we must some how take an average.\n",
    "\n",
    "There are two strategies for taking an average. [Micro and Macro](https://datascience.stackexchange.com/a/24051).\n",
    "\n"
   ]
  },
  {
   "cell_type": "markdown",
   "metadata": {},
   "source": [
    "## Example\n",
    "\n",
    "Iris data set  \n",
    "How many classes are there?"
   ]
  },
  {
   "cell_type": "code",
   "execution_count": 6,
   "metadata": {},
   "outputs": [
    {
     "data": {
      "text/plain": [
       "0.8222222222222222"
      ]
     },
     "execution_count": 6,
     "metadata": {},
     "output_type": "execute_result"
    }
   ],
   "source": [
    "metrics.accuracy_score(y_test, y_predict)"
   ]
  },
  {
   "cell_type": "code",
   "execution_count": 7,
   "metadata": {},
   "outputs": [
    {
     "data": {
      "text/plain": [
       "array([[14,  0,  0],\n",
       "       [ 0, 11,  7],\n",
       "       [ 0,  1, 12]])"
      ]
     },
     "execution_count": 7,
     "metadata": {},
     "output_type": "execute_result"
    }
   ],
   "source": [
    "metrics.confusion_matrix(y_test, y_predict)"
   ]
  },
  {
   "cell_type": "code",
   "execution_count": 16,
   "metadata": {},
   "outputs": [
    {
     "data": {
      "text/plain": [
       "array(['Iris-setosa', 'Iris-versicolor', 'Iris-virginica'], dtype=object)"
      ]
     },
     "execution_count": 16,
     "metadata": {},
     "output_type": "execute_result"
    }
   ],
   "source": [
    "model.classes_"
   ]
  },
  {
   "cell_type": "code",
   "execution_count": 8,
   "metadata": {},
   "outputs": [
    {
     "data": {
      "text/plain": [
       "array([[[31,  0],\n",
       "        [ 0, 14]],\n",
       "\n",
       "       [[26,  1],\n",
       "        [ 7, 11]],\n",
       "\n",
       "       [[25,  7],\n",
       "        [ 1, 12]]])"
      ]
     },
     "execution_count": 8,
     "metadata": {},
     "output_type": "execute_result"
    }
   ],
   "source": [
    "metrics.multilabel_confusion_matrix(y_test, y_predict)"
   ]
  },
  {
   "cell_type": "code",
   "execution_count": 9,
   "metadata": {},
   "outputs": [
    {
     "data": {
      "text/plain": [
       "array(['Iris-setosa', 'Iris-versicolor', 'Iris-virginica'], dtype=object)"
      ]
     },
     "execution_count": 9,
     "metadata": {},
     "output_type": "execute_result"
    }
   ],
   "source": [
    "np.unique(y_test)"
   ]
  },
  {
   "cell_type": "code",
   "execution_count": 10,
   "metadata": {},
   "outputs": [
    {
     "data": {
      "text/plain": [
       "(0.0, 1.05)"
      ]
     },
     "execution_count": 10,
     "metadata": {},
     "output_type": "execute_result"
    },
    {
     "data": {
      "image/png": "[encoded data removed]",
      "text/plain": [
       "<Figure size 432x288 with 1 Axes>"
      ]
     },
     "metadata": {
      "needs_background": "light"
     },
     "output_type": "display_data"
    }
   ],
   "source": [
    "precisions = {}\n",
    "recalls = {}\n",
    "for idx, c in enumerate(model.classes_):\n",
    "    precisions[c], recalls[c], _ = metrics.precision_recall_curve(y_test==c, y_score[:,idx])\n",
    "\n",
    "    plt.plot(recalls[c], precisions[c],\n",
    "             label='%s (area: %.2f)' % (c, metrics.average_precision_score(y_test==c, y_score[:,idx])))\n",
    "    \n",
    "plt.legend(loc=\"lower left\")\n",
    "plt.title('Precision Recall Curve for Each Class')\n",
    "plt.xlabel('Recall')\n",
    "plt.ylabel('Precision')\n",
    "plt.ylim([0.0, 1.05])\n",
    "plt.xlim([0.0, 1.05])"
   ]
  },
  {
   "cell_type": "code",
   "execution_count": 11,
   "metadata": {},
   "outputs": [
    {
     "data": {
      "image/png": "[encoded data removed]",
      "text/plain": [
       "<Figure size 432x288 with 1 Axes>"
      ]
     },
     "metadata": {
      "needs_background": "light"
     },
     "output_type": "display_data"
    },
    {
     "name": "stdout",
     "output_type": "stream",
     "text": [
      "0.9926673567977916\n"
     ]
    }
   ],
   "source": [
    "counts = {c: np.sum(y_test==c) for c in model.classes_}\n",
    "norm_counts = {c: v/sum(counts.values()) for c, v in counts.items()}\n",
    "\n",
    "# First aggregate all recalls\n",
    "all_rec = np.unique(np.concatenate([recalls[c] for c in model.classes_]))\n",
    "\n",
    "# Then interpolate all precision-recall curves at this points\n",
    "mean_pre = np.zeros_like(all_rec)\n",
    "for c in model.classes_:\n",
    "    mean_pre += interp(all_rec, recalls[c], precisions[c])\n",
    "\n",
    "# Finally average it and compute AUC\n",
    "mean_pre /= len(model.classes_)\n",
    "\n",
    "recalls[\"macro\"] = all_rec\n",
    "precisions[\"macro\"] = mean_pre\n",
    "macro_auc = metrics.auc(recalls[\"macro\"], precisions[\"macro\"])\n",
    "\n",
    "plt.plot(recalls['macro'], precisions['macro'])\n",
    "plt.xlim([0.0, 1.0])\n",
    "plt.ylim([0.0, 1.05])\n",
    "plt.xlabel('Recall')\n",
    "plt.ylabel('Precision')\n",
    "plt.title('Macro Precision Recall Curve AUC:%.2f' % macro_auc)\n",
    "plt.show()\n",
    "\n",
    "print(macro_auc)"
   ]
  },
  {
   "cell_type": "code",
   "execution_count": 12,
   "metadata": {},
   "outputs": [
    {
     "data": {
      "image/png": "[encoded data removed]",
      "text/plain": [
       "<Figure size 432x288 with 1 Axes>"
      ]
     },
     "metadata": {
      "needs_background": "light"
     },
     "output_type": "display_data"
    },
    {
     "name": "stdout",
     "output_type": "stream",
     "text": [
      "0.9925427497891266\n"
     ]
    }
   ],
   "source": [
    "micro_pre = np.zeros_like(all_rec)\n",
    "for c in model.classes_:\n",
    "    micro_pre += interp(all_rec, recalls[c], precisions[c]) * norm_counts[c]\n",
    "    \n",
    "recalls[\"micro\"] = all_rec\n",
    "precisions[\"micro\"] = micro_pre\n",
    "micro_auc = metrics.auc(recalls[\"micro\"], precisions[\"micro\"])\n",
    "\n",
    "plt.plot(recalls['micro'], precisions['micro'])\n",
    "plt.xlim([0.0, 1.0])\n",
    "plt.ylim([0.0, 1.05])\n",
    "plt.xlabel('Recall')\n",
    "plt.ylabel('Precision')\n",
    "plt.title('Micro Precision Recall Curve AUC:%.2f' % micro_auc)\n",
    "plt.show()\n",
    "\n",
    "print(micro_auc)"
   ]
  },
  {
   "cell_type": "markdown",
   "metadata": {},
   "source": [
    "# Exercise\n",
    "\n",
    "Calculate the micro f1 score of a random forest model trained on the [crowdsource mapping](https://archive.ics.uci.edu/ml/datasets/Crowdsourced+Mapping) data set"
   ]
  },
  {
   "cell_type": "code",
   "execution_count": null,
   "metadata": {},
   "outputs": [],
   "source": []
  }
 ],
 "metadata": {
  "kernelspec": {
   "display_name": "Python 3",
   "language": "python",
   "name": "python3"
  },
  "language_info": {
   "codemirror_mode": {
    "name": "ipython",
    "version": 3
   },
   "file_extension": ".py",
   "mimetype": "text/x-python",
   "name": "python",
   "nbconvert_exporter": "python",
   "pygments_lexer": "ipython3",
   "version": "3.7.3"
  }
 },
 "nbformat": 4,
 "nbformat_minor": 2
}
