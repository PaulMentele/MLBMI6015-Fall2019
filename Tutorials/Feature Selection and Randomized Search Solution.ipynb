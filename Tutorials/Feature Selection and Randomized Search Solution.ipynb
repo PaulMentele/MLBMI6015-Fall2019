{
 "cells": [
  {
   "cell_type": "code",
   "execution_count": 1,
   "metadata": {},
   "outputs": [],
   "source": [
    "import pandas as pd\n",
    "import numpy as np\n",
    "from sklearn.feature_selection import chi2, SelectKBest\n",
    "from scipy.stats import pearsonr\n",
    "from sklearn.ensemble import RandomForestClassifier, RandomForestRegressor\n",
    "from sklearn.model_selection import train_test_split, RandomizedSearchCV\n",
    "from sklearn.metrics import mean_squared_error, make_scorer, accuracy_score, classification_report\n",
    "from scipy.stats.distributions import uniform\n",
    "from statsmodels.stats.outliers_influence import variance_inflation_factor\n",
    "from statsmodels.tools.tools import add_constant"
   ]
  },
  {
   "cell_type": "markdown",
   "metadata": {},
   "source": [
    "# Regression\n",
    "\n",
    "[Dataset](https://archive.ics.uci.edu/ml/datasets/air+quality)"
   ]
  },
  {
   "cell_type": "code",
   "execution_count": 2,
   "metadata": {},
   "outputs": [],
   "source": [
    "df = pd.read_excel('~/DATA/AirQualityUCI.xlsx')"
   ]
  },
  {
   "cell_type": "code",
   "execution_count": 3,
   "metadata": {},
   "outputs": [
    {
     "data": {
      "text/plain": [
       "(9357, 15)"
      ]
     },
     "execution_count": 3,
     "metadata": {},
     "output_type": "execute_result"
    }
   ],
   "source": [
    "df.shape"
   ]
  },
  {
   "cell_type": "code",
   "execution_count": 4,
   "metadata": {},
   "outputs": [
    {
     "data": {
      "text/plain": [
       "Date             datetime64[ns]\n",
       "Time                     object\n",
       "CO(GT)                  float64\n",
       "PT08.S1(CO)             float64\n",
       "NMHC(GT)                  int64\n",
       "C6H6(GT)                float64\n",
       "PT08.S2(NMHC)           float64\n",
       "NOx(GT)                 float64\n",
       "PT08.S3(NOx)            float64\n",
       "NO2(GT)                 float64\n",
       "PT08.S4(NO2)            float64\n",
       "PT08.S5(O3)             float64\n",
       "T                       float64\n",
       "RH                      float64\n",
       "AH                      float64\n",
       "dtype: object"
      ]
     },
     "execution_count": 4,
     "metadata": {},
     "output_type": "execute_result"
    }
   ],
   "source": [
    "df.dtypes"
   ]
  },
  {
   "cell_type": "code",
   "execution_count": 5,
   "metadata": {},
   "outputs": [],
   "source": [
    "df = df.drop(['AH', 'Date', 'Time'], axis=1)"
   ]
  },
  {
   "cell_type": "code",
   "execution_count": 6,
   "metadata": {},
   "outputs": [
    {
     "data": {
      "text/plain": [
       "Index(['CO(GT)', 'PT08.S1(CO)', 'NMHC(GT)', 'C6H6(GT)', 'PT08.S2(NMHC)',\n",
       "       'NOx(GT)', 'PT08.S3(NOx)', 'NO2(GT)', 'PT08.S4(NO2)', 'PT08.S5(O3)',\n",
       "       'T', 'RH'],\n",
       "      dtype='object')"
      ]
     },
     "execution_count": 6,
     "metadata": {},
     "output_type": "execute_result"
    }
   ],
   "source": [
    "df.columns"
   ]
  },
  {
   "cell_type": "code",
   "execution_count": 7,
   "metadata": {},
   "outputs": [],
   "source": [
    "df_train, df_test = train_test_split(df)"
   ]
  },
  {
   "cell_type": "code",
   "execution_count": 25,
   "metadata": {},
   "outputs": [
    {
     "data": {
      "text/plain": [
       "pandas.core.frame.DataFrame"
      ]
     },
     "execution_count": 25,
     "metadata": {},
     "output_type": "execute_result"
    }
   ],
   "source": [
    "type(df_train)"
   ]
  },
  {
   "cell_type": "markdown",
   "metadata": {},
   "source": [
    "# Variance Inflation Factor"
   ]
  },
  {
   "cell_type": "code",
   "execution_count": 8,
   "metadata": {},
   "outputs": [],
   "source": [
    "X = df_train.drop('RH', axis=1)"
   ]
  },
  {
   "cell_type": "code",
   "execution_count": 9,
   "metadata": {},
   "outputs": [
    {
     "name": "stderr",
     "output_type": "stream",
     "text": [
      "/opt/conda/lib/python3.7/site-packages/numpy/core/fromnumeric.py:2389: FutureWarning: Method .ptp is deprecated and will be removed in a future version. Use numpy.ptp instead.\n",
      "  return ptp(axis=axis, out=out, **kwargs)\n"
     ]
    },
    {
     "data": {
      "text/plain": [
       "const            364.222373\n",
       "CO(GT)             1.855054\n",
       "PT08.S1(CO)       21.301238\n",
       "NMHC(GT)           1.506306\n",
       "C6H6(GT)          91.172995\n",
       "PT08.S2(NMHC)     21.751344\n",
       "NOx(GT)            6.093490\n",
       "PT08.S3(NOx)       6.627849\n",
       "NO2(GT)            4.613600\n",
       "PT08.S4(NO2)       9.336223\n",
       "PT08.S5(O3)       11.153702\n",
       "T                 52.473363\n",
       "dtype: float64"
      ]
     },
     "execution_count": 9,
     "metadata": {},
     "output_type": "execute_result"
    }
   ],
   "source": [
    "X = add_constant(X)\n",
    "vifs = pd.Series([variance_inflation_factor(X.values, i) \n",
    "               for i in range(X.shape[1])], \n",
    "              index=X.columns)\n",
    "vifs"
   ]
  },
  {
   "cell_type": "code",
   "execution_count": 10,
   "metadata": {},
   "outputs": [
    {
     "data": {
      "text/plain": [
       "91.1729952742211"
      ]
     },
     "execution_count": 10,
     "metadata": {},
     "output_type": "execute_result"
    }
   ],
   "source": [
    "vifs[1:].max()"
   ]
  },
  {
   "cell_type": "code",
   "execution_count": 11,
   "metadata": {},
   "outputs": [
    {
     "name": "stdout",
     "output_type": "stream",
     "text": [
      "C6H6(GT)\n",
      "PT08.S2(NMHC)\n",
      "PT08.S1(CO)\n",
      "T\n",
      "NOx(GT)\n"
     ]
    },
    {
     "data": {
      "text/html": [
       "<div>\n",
       "<style scoped>\n",
       "    .dataframe tbody tr th:only-of-type {\n",
       "        vertical-align: middle;\n",
       "    }\n",
       "\n",
       "    .dataframe tbody tr th {\n",
       "        vertical-align: top;\n",
       "    }\n",
       "\n",
       "    .dataframe thead th {\n",
       "        text-align: right;\n",
       "    }\n",
       "</style>\n",
       "<table border=\"1\" class=\"dataframe\">\n",
       "  <thead>\n",
       "    <tr style=\"text-align: right;\">\n",
       "      <th></th>\n",
       "      <th>const</th>\n",
       "      <th>CO(GT)</th>\n",
       "      <th>NMHC(GT)</th>\n",
       "      <th>PT08.S3(NOx)</th>\n",
       "      <th>NO2(GT)</th>\n",
       "      <th>PT08.S4(NO2)</th>\n",
       "      <th>PT08.S5(O3)</th>\n",
       "    </tr>\n",
       "  </thead>\n",
       "  <tbody>\n",
       "    <tr>\n",
       "      <th>334</th>\n",
       "      <td>1.0</td>\n",
       "      <td>2.7</td>\n",
       "      <td>230</td>\n",
       "      <td>828.75</td>\n",
       "      <td>126.0</td>\n",
       "      <td>1729.50</td>\n",
       "      <td>1002.25</td>\n",
       "    </tr>\n",
       "    <tr>\n",
       "      <th>7987</th>\n",
       "      <td>1.0</td>\n",
       "      <td>1.2</td>\n",
       "      <td>-200</td>\n",
       "      <td>981.25</td>\n",
       "      <td>134.5</td>\n",
       "      <td>790.25</td>\n",
       "      <td>557.50</td>\n",
       "    </tr>\n",
       "    <tr>\n",
       "      <th>1999</th>\n",
       "      <td>1.0</td>\n",
       "      <td>-200.0</td>\n",
       "      <td>-200</td>\n",
       "      <td>958.00</td>\n",
       "      <td>49.0</td>\n",
       "      <td>1692.00</td>\n",
       "      <td>942.25</td>\n",
       "    </tr>\n",
       "    <tr>\n",
       "      <th>6123</th>\n",
       "      <td>1.0</td>\n",
       "      <td>1.2</td>\n",
       "      <td>-200</td>\n",
       "      <td>854.50</td>\n",
       "      <td>159.0</td>\n",
       "      <td>999.25</td>\n",
       "      <td>1230.00</td>\n",
       "    </tr>\n",
       "    <tr>\n",
       "      <th>6641</th>\n",
       "      <td>1.0</td>\n",
       "      <td>2.4</td>\n",
       "      <td>-200</td>\n",
       "      <td>750.50</td>\n",
       "      <td>116.0</td>\n",
       "      <td>1084.50</td>\n",
       "      <td>1208.25</td>\n",
       "    </tr>\n",
       "  </tbody>\n",
       "</table>\n",
       "</div>"
      ],
      "text/plain": [
       "      const  CO(GT)  NMHC(GT)  PT08.S3(NOx)  NO2(GT)  PT08.S4(NO2)  \\\n",
       "334     1.0     2.7       230        828.75    126.0       1729.50   \n",
       "7987    1.0     1.2      -200        981.25    134.5        790.25   \n",
       "1999    1.0  -200.0      -200        958.00     49.0       1692.00   \n",
       "6123    1.0     1.2      -200        854.50    159.0        999.25   \n",
       "6641    1.0     2.4      -200        750.50    116.0       1084.50   \n",
       "\n",
       "      PT08.S5(O3)  \n",
       "334       1002.25  \n",
       "7987       557.50  \n",
       "1999       942.25  \n",
       "6123      1230.00  \n",
       "6641      1208.25  "
      ]
     },
     "execution_count": 11,
     "metadata": {},
     "output_type": "execute_result"
    }
   ],
   "source": [
    "while vifs[1:].max() > 5:\n",
    "    print(vifs[1:].idxmax())\n",
    "    X.drop(\n",
    "        vifs[1:].idxmax(),\n",
    "        axis=1,\n",
    "        inplace=True\n",
    "    )\n",
    "    vifs = pd.Series([variance_inflation_factor(X.values, i) \n",
    "               for i in range(X.shape[1])], \n",
    "              index=X.columns)\n",
    "\n",
    "X.head()    "
   ]
  },
  {
   "cell_type": "code",
   "execution_count": 12,
   "metadata": {},
   "outputs": [
    {
     "data": {
      "text/plain": [
       "const           20.813413\n",
       "CO(GT)           1.838591\n",
       "NMHC(GT)         1.054263\n",
       "PT08.S3(NOx)     1.277139\n",
       "NO2(GT)          2.077360\n",
       "PT08.S4(NO2)     2.669704\n",
       "PT08.S5(O3)      2.836017\n",
       "dtype: float64"
      ]
     },
     "execution_count": 12,
     "metadata": {},
     "output_type": "execute_result"
    }
   ],
   "source": [
    "vifs"
   ]
  },
  {
   "cell_type": "code",
   "execution_count": 13,
   "metadata": {},
   "outputs": [],
   "source": [
    "vif_keep_cols = ['RH'] + list(X.drop('const', axis=1).columns)"
   ]
  },
  {
   "cell_type": "code",
   "execution_count": 14,
   "metadata": {},
   "outputs": [
    {
     "data": {
      "text/plain": [
       "['RH',\n",
       " 'CO(GT)',\n",
       " 'NMHC(GT)',\n",
       " 'PT08.S3(NOx)',\n",
       " 'NO2(GT)',\n",
       " 'PT08.S4(NO2)',\n",
       " 'PT08.S5(O3)']"
      ]
     },
     "execution_count": 14,
     "metadata": {},
     "output_type": "execute_result"
    }
   ],
   "source": [
    "vif_keep_cols"
   ]
  },
  {
   "cell_type": "markdown",
   "metadata": {},
   "source": [
    "# Correlation"
   ]
  },
  {
   "cell_type": "code",
   "execution_count": 15,
   "metadata": {},
   "outputs": [
    {
     "data": {
      "text/plain": [
       "RH               1.000000\n",
       "C6H6(GT)         0.922151\n",
       "T                0.880627\n",
       "PT08.S1(CO)      0.739673\n",
       "PT08.S4(NO2)     0.631788\n",
       "PT08.S2(NMHC)    0.577291\n",
       "PT08.S3(NOx)     0.567104\n",
       "PT08.S5(O3)      0.517458\n",
       "NO2(GT)          0.087954\n",
       "NOx(GT)          0.063646\n",
       "CO(GT)           0.048942\n",
       "NMHC(GT)         0.006986\n",
       "Name: RH, dtype: float64"
      ]
     },
     "execution_count": 15,
     "metadata": {},
     "output_type": "execute_result"
    }
   ],
   "source": [
    "corrs = df_train.corr()['RH'].abs().sort_values(ascending=False)\n",
    "corrs"
   ]
  },
  {
   "cell_type": "code",
   "execution_count": 16,
   "metadata": {},
   "outputs": [
    {
     "data": {
      "text/plain": [
       "Index(['RH', 'C6H6(GT)', 'T', 'PT08.S1(CO)', 'PT08.S4(NO2)', 'PT08.S2(NMHC)',\n",
       "       'PT08.S3(NOx)', 'PT08.S5(O3)'],\n",
       "      dtype='object')"
      ]
     },
     "execution_count": 16,
     "metadata": {},
     "output_type": "execute_result"
    }
   ],
   "source": [
    "corr_keep_cols = corrs.index[:8]\n",
    "corr_keep_cols"
   ]
  },
  {
   "cell_type": "markdown",
   "metadata": {},
   "source": [
    "# Randomized Search CV"
   ]
  },
  {
   "cell_type": "code",
   "execution_count": 17,
   "metadata": {},
   "outputs": [
    {
     "data": {
      "text/plain": [
       "Index(['CO(GT)', 'NMHC(GT)', 'PT08.S3(NOx)', 'NO2(GT)', 'PT08.S4(NO2)',\n",
       "       'PT08.S5(O3)'],\n",
       "      dtype='object')"
      ]
     },
     "execution_count": 17,
     "metadata": {},
     "output_type": "execute_result"
    }
   ],
   "source": [
    "X_train = df_train[vif_keep_cols].iloc[:,1:]\n",
    "y_train = df_train[vif_keep_cols].iloc[:,0]\n",
    "X_train.columns"
   ]
  },
  {
   "cell_type": "code",
   "execution_count": 18,
   "metadata": {},
   "outputs": [
    {
     "data": {
      "text/plain": [
       "'RH'"
      ]
     },
     "execution_count": 18,
     "metadata": {},
     "output_type": "execute_result"
    }
   ],
   "source": [
    "X_test = df_test[vif_keep_cols].iloc[:,1:]\n",
    "y_test = df_test[vif_keep_cols].iloc[:,0]\n",
    "y_test.name"
   ]
  },
  {
   "cell_type": "code",
   "execution_count": 19,
   "metadata": {},
   "outputs": [],
   "source": [
    "rcv = RandomizedSearchCV(RandomForestRegressor(),\n",
    "                  {'n_estimators': range(10,100, 10),\n",
    "                   'min_samples_split': uniform()\n",
    "                  },\n",
    "                  scoring=make_scorer(mean_squared_error))"
   ]
  },
  {
   "cell_type": "code",
   "execution_count": 20,
   "metadata": {},
   "outputs": [
    {
     "name": "stderr",
     "output_type": "stream",
     "text": [
      "/opt/conda/lib/python3.7/site-packages/sklearn/model_selection/_split.py:1978: FutureWarning: The default value of cv will change from 3 to 5 in version 0.22. Specify it explicitly to silence this warning.\n",
      "  warnings.warn(CV_WARNING, FutureWarning)\n"
     ]
    }
   ],
   "source": [
    "rcv = rcv.fit(X_train, y_train)"
   ]
  },
  {
   "cell_type": "code",
   "execution_count": 21,
   "metadata": {},
   "outputs": [
    {
     "data": {
      "text/html": [
       "<div>\n",
       "<style scoped>\n",
       "    .dataframe tbody tr th:only-of-type {\n",
       "        vertical-align: middle;\n",
       "    }\n",
       "\n",
       "    .dataframe tbody tr th {\n",
       "        vertical-align: top;\n",
       "    }\n",
       "\n",
       "    .dataframe thead th {\n",
       "        text-align: right;\n",
       "    }\n",
       "</style>\n",
       "<table border=\"1\" class=\"dataframe\">\n",
       "  <thead>\n",
       "    <tr style=\"text-align: right;\">\n",
       "      <th></th>\n",
       "      <th>mean_fit_time</th>\n",
       "      <th>std_fit_time</th>\n",
       "      <th>mean_score_time</th>\n",
       "      <th>std_score_time</th>\n",
       "      <th>param_min_samples_split</th>\n",
       "      <th>param_n_estimators</th>\n",
       "      <th>params</th>\n",
       "      <th>split0_test_score</th>\n",
       "      <th>split1_test_score</th>\n",
       "      <th>split2_test_score</th>\n",
       "      <th>mean_test_score</th>\n",
       "      <th>std_test_score</th>\n",
       "      <th>rank_test_score</th>\n",
       "    </tr>\n",
       "  </thead>\n",
       "  <tbody>\n",
       "    <tr>\n",
       "      <th>0</th>\n",
       "      <td>0.118396</td>\n",
       "      <td>0.009259</td>\n",
       "      <td>0.005746</td>\n",
       "      <td>0.000119</td>\n",
       "      <td>0.555144</td>\n",
       "      <td>20</td>\n",
       "      <td>{'min_samples_split': 0.5551441102247099, 'n_e...</td>\n",
       "      <td>282.294235</td>\n",
       "      <td>274.655754</td>\n",
       "      <td>283.806637</td>\n",
       "      <td>280.252208</td>\n",
       "      <td>4.005169</td>\n",
       "      <td>6</td>\n",
       "    </tr>\n",
       "    <tr>\n",
       "      <th>1</th>\n",
       "      <td>0.578040</td>\n",
       "      <td>0.009983</td>\n",
       "      <td>0.016615</td>\n",
       "      <td>0.000437</td>\n",
       "      <td>0.203818</td>\n",
       "      <td>70</td>\n",
       "      <td>{'min_samples_split': 0.20381778343115864, 'n_...</td>\n",
       "      <td>250.577789</td>\n",
       "      <td>240.605840</td>\n",
       "      <td>247.690752</td>\n",
       "      <td>246.291460</td>\n",
       "      <td>4.189547</td>\n",
       "      <td>9</td>\n",
       "    </tr>\n",
       "    <tr>\n",
       "      <th>2</th>\n",
       "      <td>0.510029</td>\n",
       "      <td>0.006338</td>\n",
       "      <td>0.017264</td>\n",
       "      <td>0.002597</td>\n",
       "      <td>0.481191</td>\n",
       "      <td>80</td>\n",
       "      <td>{'min_samples_split': 0.4811908537904537, 'n_e...</td>\n",
       "      <td>269.046475</td>\n",
       "      <td>264.041470</td>\n",
       "      <td>267.562508</td>\n",
       "      <td>266.883484</td>\n",
       "      <td>2.098940</td>\n",
       "      <td>8</td>\n",
       "    </tr>\n",
       "    <tr>\n",
       "      <th>3</th>\n",
       "      <td>0.031226</td>\n",
       "      <td>0.000104</td>\n",
       "      <td>0.004932</td>\n",
       "      <td>0.000073</td>\n",
       "      <td>0.911181</td>\n",
       "      <td>20</td>\n",
       "      <td>{'min_samples_split': 0.9111806858065793, 'n_e...</td>\n",
       "      <td>2485.277753</td>\n",
       "      <td>2699.056190</td>\n",
       "      <td>2417.873075</td>\n",
       "      <td>2534.069006</td>\n",
       "      <td>119.864996</td>\n",
       "      <td>1</td>\n",
       "    </tr>\n",
       "    <tr>\n",
       "      <th>4</th>\n",
       "      <td>0.045896</td>\n",
       "      <td>0.001905</td>\n",
       "      <td>0.006245</td>\n",
       "      <td>0.000080</td>\n",
       "      <td>0.803161</td>\n",
       "      <td>30</td>\n",
       "      <td>{'min_samples_split': 0.8031607218928434, 'n_e...</td>\n",
       "      <td>2485.305837</td>\n",
       "      <td>2699.709852</td>\n",
       "      <td>2416.987239</td>\n",
       "      <td>2534.000976</td>\n",
       "      <td>120.447586</td>\n",
       "      <td>2</td>\n",
       "    </tr>\n",
       "    <tr>\n",
       "      <th>5</th>\n",
       "      <td>0.058878</td>\n",
       "      <td>0.001851</td>\n",
       "      <td>0.007142</td>\n",
       "      <td>0.000155</td>\n",
       "      <td>0.946602</td>\n",
       "      <td>40</td>\n",
       "      <td>{'min_samples_split': 0.9466022332961608, 'n_e...</td>\n",
       "      <td>2485.343113</td>\n",
       "      <td>2698.943137</td>\n",
       "      <td>2417.002902</td>\n",
       "      <td>2533.763050</td>\n",
       "      <td>120.085919</td>\n",
       "      <td>4</td>\n",
       "    </tr>\n",
       "    <tr>\n",
       "      <th>6</th>\n",
       "      <td>0.017308</td>\n",
       "      <td>0.000397</td>\n",
       "      <td>0.003536</td>\n",
       "      <td>0.000084</td>\n",
       "      <td>0.842464</td>\n",
       "      <td>10</td>\n",
       "      <td>{'min_samples_split': 0.8424636553333554, 'n_e...</td>\n",
       "      <td>2485.169545</td>\n",
       "      <td>2698.560540</td>\n",
       "      <td>2416.814469</td>\n",
       "      <td>2533.514851</td>\n",
       "      <td>119.994899</td>\n",
       "      <td>5</td>\n",
       "    </tr>\n",
       "    <tr>\n",
       "      <th>7</th>\n",
       "      <td>0.386741</td>\n",
       "      <td>0.006986</td>\n",
       "      <td>0.012120</td>\n",
       "      <td>0.000180</td>\n",
       "      <td>0.106784</td>\n",
       "      <td>40</td>\n",
       "      <td>{'min_samples_split': 0.10678360399740627, 'n_...</td>\n",
       "      <td>233.435417</td>\n",
       "      <td>219.716196</td>\n",
       "      <td>230.067616</td>\n",
       "      <td>227.739743</td>\n",
       "      <td>5.837722</td>\n",
       "      <td>10</td>\n",
       "    </tr>\n",
       "    <tr>\n",
       "      <th>8</th>\n",
       "      <td>0.097603</td>\n",
       "      <td>0.003387</td>\n",
       "      <td>0.012486</td>\n",
       "      <td>0.002029</td>\n",
       "      <td>0.693238</td>\n",
       "      <td>70</td>\n",
       "      <td>{'min_samples_split': 0.6932376902924939, 'n_e...</td>\n",
       "      <td>2485.371211</td>\n",
       "      <td>2699.086401</td>\n",
       "      <td>2417.194993</td>\n",
       "      <td>2533.884202</td>\n",
       "      <td>120.085592</td>\n",
       "      <td>3</td>\n",
       "    </tr>\n",
       "    <tr>\n",
       "      <th>9</th>\n",
       "      <td>0.525183</td>\n",
       "      <td>0.010234</td>\n",
       "      <td>0.016442</td>\n",
       "      <td>0.000301</td>\n",
       "      <td>0.435826</td>\n",
       "      <td>80</td>\n",
       "      <td>{'min_samples_split': 0.43582614812607257, 'n_...</td>\n",
       "      <td>270.214683</td>\n",
       "      <td>263.889384</td>\n",
       "      <td>267.482077</td>\n",
       "      <td>267.195381</td>\n",
       "      <td>2.590238</td>\n",
       "      <td>7</td>\n",
       "    </tr>\n",
       "  </tbody>\n",
       "</table>\n",
       "</div>"
      ],
      "text/plain": [
       "   mean_fit_time  std_fit_time  mean_score_time  std_score_time  \\\n",
       "0       0.118396      0.009259         0.005746        0.000119   \n",
       "1       0.578040      0.009983         0.016615        0.000437   \n",
       "2       0.510029      0.006338         0.017264        0.002597   \n",
       "3       0.031226      0.000104         0.004932        0.000073   \n",
       "4       0.045896      0.001905         0.006245        0.000080   \n",
       "5       0.058878      0.001851         0.007142        0.000155   \n",
       "6       0.017308      0.000397         0.003536        0.000084   \n",
       "7       0.386741      0.006986         0.012120        0.000180   \n",
       "8       0.097603      0.003387         0.012486        0.002029   \n",
       "9       0.525183      0.010234         0.016442        0.000301   \n",
       "\n",
       "  param_min_samples_split param_n_estimators  \\\n",
       "0                0.555144                 20   \n",
       "1                0.203818                 70   \n",
       "2                0.481191                 80   \n",
       "3                0.911181                 20   \n",
       "4                0.803161                 30   \n",
       "5                0.946602                 40   \n",
       "6                0.842464                 10   \n",
       "7                0.106784                 40   \n",
       "8                0.693238                 70   \n",
       "9                0.435826                 80   \n",
       "\n",
       "                                              params  split0_test_score  \\\n",
       "0  {'min_samples_split': 0.5551441102247099, 'n_e...         282.294235   \n",
       "1  {'min_samples_split': 0.20381778343115864, 'n_...         250.577789   \n",
       "2  {'min_samples_split': 0.4811908537904537, 'n_e...         269.046475   \n",
       "3  {'min_samples_split': 0.9111806858065793, 'n_e...        2485.277753   \n",
       "4  {'min_samples_split': 0.8031607218928434, 'n_e...        2485.305837   \n",
       "5  {'min_samples_split': 0.9466022332961608, 'n_e...        2485.343113   \n",
       "6  {'min_samples_split': 0.8424636553333554, 'n_e...        2485.169545   \n",
       "7  {'min_samples_split': 0.10678360399740627, 'n_...         233.435417   \n",
       "8  {'min_samples_split': 0.6932376902924939, 'n_e...        2485.371211   \n",
       "9  {'min_samples_split': 0.43582614812607257, 'n_...         270.214683   \n",
       "\n",
       "   split1_test_score  split2_test_score  mean_test_score  std_test_score  \\\n",
       "0         274.655754         283.806637       280.252208        4.005169   \n",
       "1         240.605840         247.690752       246.291460        4.189547   \n",
       "2         264.041470         267.562508       266.883484        2.098940   \n",
       "3        2699.056190        2417.873075      2534.069006      119.864996   \n",
       "4        2699.709852        2416.987239      2534.000976      120.447586   \n",
       "5        2698.943137        2417.002902      2533.763050      120.085919   \n",
       "6        2698.560540        2416.814469      2533.514851      119.994899   \n",
       "7         219.716196         230.067616       227.739743        5.837722   \n",
       "8        2699.086401        2417.194993      2533.884202      120.085592   \n",
       "9         263.889384         267.482077       267.195381        2.590238   \n",
       "\n",
       "   rank_test_score  \n",
       "0                6  \n",
       "1                9  \n",
       "2                8  \n",
       "3                1  \n",
       "4                2  \n",
       "5                4  \n",
       "6                5  \n",
       "7               10  \n",
       "8                3  \n",
       "9                7  "
      ]
     },
     "execution_count": 21,
     "metadata": {},
     "output_type": "execute_result"
    }
   ],
   "source": [
    "pd.DataFrame(data=rcv.cv_results_)"
   ]
  },
  {
   "cell_type": "code",
   "execution_count": 22,
   "metadata": {},
   "outputs": [],
   "source": [
    "rfr = rcv.best_estimator_"
   ]
  },
  {
   "cell_type": "code",
   "execution_count": 23,
   "metadata": {},
   "outputs": [
    {
     "data": {
      "text/plain": [
       "2891.1932447866793"
      ]
     },
     "execution_count": 23,
     "metadata": {},
     "output_type": "execute_result"
    }
   ],
   "source": [
    "y_predict = rfr.predict(X_test)\n",
    "mean_squared_error(y_test, y_predict)"
   ]
  },
  {
   "cell_type": "code",
   "execution_count": 24,
   "metadata": {},
   "outputs": [
    {
     "data": {
      "text/plain": [
       "numpy.ndarray"
      ]
     },
     "execution_count": 24,
     "metadata": {},
     "output_type": "execute_result"
    }
   ],
   "source": [
    "type(y_predict)"
   ]
  },
  {
   "cell_type": "markdown",
   "metadata": {},
   "source": [
    "# Classification"
   ]
  },
  {
   "cell_type": "code",
   "execution_count": 27,
   "metadata": {},
   "outputs": [],
   "source": [
    "df = pd.read_csv('~/DATA/Iris.csv', index_col=0)"
   ]
  },
  {
   "cell_type": "code",
   "execution_count": 28,
   "metadata": {},
   "outputs": [
    {
     "data": {
      "text/plain": [
       "(150, 5)"
      ]
     },
     "execution_count": 28,
     "metadata": {},
     "output_type": "execute_result"
    }
   ],
   "source": [
    "df.shape"
   ]
  },
  {
   "cell_type": "code",
   "execution_count": 29,
   "metadata": {},
   "outputs": [
    {
     "data": {
      "text/plain": [
       "SepalLengthCm    float64\n",
       "SepalWidthCm     float64\n",
       "PetalLengthCm    float64\n",
       "PetalWidthCm     float64\n",
       "Species           object\n",
       "dtype: object"
      ]
     },
     "execution_count": 29,
     "metadata": {},
     "output_type": "execute_result"
    }
   ],
   "source": [
    "df.dtypes"
   ]
  },
  {
   "cell_type": "code",
   "execution_count": 30,
   "metadata": {},
   "outputs": [],
   "source": [
    "X_train, X_test, y_train, y_test = train_test_split(df.iloc[:,:-1], df.iloc[:,-1])"
   ]
  },
  {
   "cell_type": "markdown",
   "metadata": {},
   "source": [
    "# Chi Squared"
   ]
  },
  {
   "cell_type": "code",
   "execution_count": 31,
   "metadata": {},
   "outputs": [],
   "source": [
    "chi_best = SelectKBest(chi2, k=3)\n",
    "X_train_fs = chi_best.fit_transform(X_train, y_train)\n",
    "X_test_fs = chi_best.transform(X_test)"
   ]
  },
  {
   "cell_type": "code",
   "execution_count": 34,
   "metadata": {},
   "outputs": [
    {
     "data": {
      "text/plain": [
       "(112, 3)"
      ]
     },
     "execution_count": 34,
     "metadata": {},
     "output_type": "execute_result"
    }
   ],
   "source": [
    "X_train_fs.shape"
   ]
  },
  {
   "cell_type": "code",
   "execution_count": 29,
   "metadata": {},
   "outputs": [
    {
     "data": {
      "text/plain": [
       "array([3.10362864e-02, 2.13755627e-01, 5.12881988e-19, 1.76045283e-11])"
      ]
     },
     "execution_count": 29,
     "metadata": {},
     "output_type": "execute_result"
    }
   ],
   "source": [
    "chi_best.pvalues_"
   ]
  },
  {
   "cell_type": "code",
   "execution_count": 35,
   "metadata": {},
   "outputs": [
    {
     "data": {
      "text/plain": [
       "array([ True, False,  True,  True])"
      ]
     },
     "execution_count": 35,
     "metadata": {},
     "output_type": "execute_result"
    }
   ],
   "source": [
    "chi_best.pvalues_ <= 0.05"
   ]
  },
  {
   "cell_type": "code",
   "execution_count": 38,
   "metadata": {},
   "outputs": [
    {
     "data": {
      "text/html": [
       "<div>\n",
       "<style scoped>\n",
       "    .dataframe tbody tr th:only-of-type {\n",
       "        vertical-align: middle;\n",
       "    }\n",
       "\n",
       "    .dataframe tbody tr th {\n",
       "        vertical-align: top;\n",
       "    }\n",
       "\n",
       "    .dataframe thead th {\n",
       "        text-align: right;\n",
       "    }\n",
       "</style>\n",
       "<table border=\"1\" class=\"dataframe\">\n",
       "  <thead>\n",
       "    <tr style=\"text-align: right;\">\n",
       "      <th></th>\n",
       "      <th>SepalLengthCm</th>\n",
       "      <th>PetalLengthCm</th>\n",
       "      <th>PetalWidthCm</th>\n",
       "    </tr>\n",
       "    <tr>\n",
       "      <th>Id</th>\n",
       "      <th></th>\n",
       "      <th></th>\n",
       "      <th></th>\n",
       "    </tr>\n",
       "  </thead>\n",
       "  <tbody>\n",
       "    <tr>\n",
       "      <th>141</th>\n",
       "      <td>6.7</td>\n",
       "      <td>5.6</td>\n",
       "      <td>2.4</td>\n",
       "    </tr>\n",
       "    <tr>\n",
       "      <th>114</th>\n",
       "      <td>5.7</td>\n",
       "      <td>5.0</td>\n",
       "      <td>2.0</td>\n",
       "    </tr>\n",
       "    <tr>\n",
       "      <th>8</th>\n",
       "      <td>5.0</td>\n",
       "      <td>1.5</td>\n",
       "      <td>0.2</td>\n",
       "    </tr>\n",
       "    <tr>\n",
       "      <th>44</th>\n",
       "      <td>5.0</td>\n",
       "      <td>1.6</td>\n",
       "      <td>0.6</td>\n",
       "    </tr>\n",
       "    <tr>\n",
       "      <th>138</th>\n",
       "      <td>6.4</td>\n",
       "      <td>5.5</td>\n",
       "      <td>1.8</td>\n",
       "    </tr>\n",
       "  </tbody>\n",
       "</table>\n",
       "</div>"
      ],
      "text/plain": [
       "     SepalLengthCm  PetalLengthCm  PetalWidthCm\n",
       "Id                                             \n",
       "141            6.7            5.6           2.4\n",
       "114            5.7            5.0           2.0\n",
       "8              5.0            1.5           0.2\n",
       "44             5.0            1.6           0.6\n",
       "138            6.4            5.5           1.8"
      ]
     },
     "execution_count": 38,
     "metadata": {},
     "output_type": "execute_result"
    }
   ],
   "source": [
    "X_train[X_train.columns[chi_best.pvalues_ <= 0.05]].head()"
   ]
  },
  {
   "cell_type": "code",
   "execution_count": 30,
   "metadata": {},
   "outputs": [
    {
     "data": {
      "text/html": [
       "<div>\n",
       "<style scoped>\n",
       "    .dataframe tbody tr th:only-of-type {\n",
       "        vertical-align: middle;\n",
       "    }\n",
       "\n",
       "    .dataframe tbody tr th {\n",
       "        vertical-align: top;\n",
       "    }\n",
       "\n",
       "    .dataframe thead th {\n",
       "        text-align: right;\n",
       "    }\n",
       "</style>\n",
       "<table border=\"1\" class=\"dataframe\">\n",
       "  <thead>\n",
       "    <tr style=\"text-align: right;\">\n",
       "      <th></th>\n",
       "      <th>SepalLengthCm</th>\n",
       "      <th>SepalWidthCm</th>\n",
       "      <th>PetalLengthCm</th>\n",
       "      <th>PetalWidthCm</th>\n",
       "    </tr>\n",
       "    <tr>\n",
       "      <th>Id</th>\n",
       "      <th></th>\n",
       "      <th></th>\n",
       "      <th></th>\n",
       "      <th></th>\n",
       "    </tr>\n",
       "  </thead>\n",
       "  <tbody>\n",
       "    <tr>\n",
       "      <th>147</th>\n",
       "      <td>6.3</td>\n",
       "      <td>2.5</td>\n",
       "      <td>5.0</td>\n",
       "      <td>1.9</td>\n",
       "    </tr>\n",
       "    <tr>\n",
       "      <th>27</th>\n",
       "      <td>5.0</td>\n",
       "      <td>3.4</td>\n",
       "      <td>1.6</td>\n",
       "      <td>0.4</td>\n",
       "    </tr>\n",
       "    <tr>\n",
       "      <th>88</th>\n",
       "      <td>6.3</td>\n",
       "      <td>2.3</td>\n",
       "      <td>4.4</td>\n",
       "      <td>1.3</td>\n",
       "    </tr>\n",
       "    <tr>\n",
       "      <th>15</th>\n",
       "      <td>5.8</td>\n",
       "      <td>4.0</td>\n",
       "      <td>1.2</td>\n",
       "      <td>0.2</td>\n",
       "    </tr>\n",
       "    <tr>\n",
       "      <th>33</th>\n",
       "      <td>5.2</td>\n",
       "      <td>4.1</td>\n",
       "      <td>1.5</td>\n",
       "      <td>0.1</td>\n",
       "    </tr>\n",
       "  </tbody>\n",
       "</table>\n",
       "</div>"
      ],
      "text/plain": [
       "     SepalLengthCm  SepalWidthCm  PetalLengthCm  PetalWidthCm\n",
       "Id                                                           \n",
       "147            6.3           2.5            5.0           1.9\n",
       "27             5.0           3.4            1.6           0.4\n",
       "88             6.3           2.3            4.4           1.3\n",
       "15             5.8           4.0            1.2           0.2\n",
       "33             5.2           4.1            1.5           0.1"
      ]
     },
     "execution_count": 30,
     "metadata": {},
     "output_type": "execute_result"
    }
   ],
   "source": [
    "X_train.head()"
   ]
  },
  {
   "cell_type": "code",
   "execution_count": 31,
   "metadata": {},
   "outputs": [
    {
     "data": {
      "text/plain": [
       "array([[6.3, 5. , 1.9],\n",
       "       [5. , 1.6, 0.4],\n",
       "       [6.3, 4.4, 1.3],\n",
       "       [5.8, 1.2, 0.2],\n",
       "       [5.2, 1.5, 0.1]])"
      ]
     },
     "execution_count": 31,
     "metadata": {},
     "output_type": "execute_result"
    }
   ],
   "source": [
    "X_train_fs[:5,:]"
   ]
  },
  {
   "cell_type": "code",
   "execution_count": 32,
   "metadata": {},
   "outputs": [],
   "source": [
    "rcv = RandomizedSearchCV(RandomForestClassifier(),\n",
    "                  {'n_estimators': range(10,100, 10),\n",
    "                   'min_samples_split': uniform()\n",
    "                  },\n",
    "                  )"
   ]
  },
  {
   "cell_type": "code",
   "execution_count": 33,
   "metadata": {},
   "outputs": [
    {
     "name": "stderr",
     "output_type": "stream",
     "text": [
      "/opt/conda/lib/python3.7/site-packages/sklearn/model_selection/_split.py:1978: FutureWarning: The default value of cv will change from 3 to 5 in version 0.22. Specify it explicitly to silence this warning.\n",
      "  warnings.warn(CV_WARNING, FutureWarning)\n",
      "/opt/conda/lib/python3.7/site-packages/sklearn/model_selection/_search.py:814: DeprecationWarning: The default of the `iid` parameter will change from True to False in version 0.22 and will be removed in 0.24. This will change numeric results when test-set sizes are unequal.\n",
      "  DeprecationWarning)\n"
     ]
    }
   ],
   "source": [
    "rcv = rcv.fit(X_train, y_train)"
   ]
  },
  {
   "cell_type": "code",
   "execution_count": 34,
   "metadata": {},
   "outputs": [
    {
     "data": {
      "text/html": [
       "<div>\n",
       "<style scoped>\n",
       "    .dataframe tbody tr th:only-of-type {\n",
       "        vertical-align: middle;\n",
       "    }\n",
       "\n",
       "    .dataframe tbody tr th {\n",
       "        vertical-align: top;\n",
       "    }\n",
       "\n",
       "    .dataframe thead th {\n",
       "        text-align: right;\n",
       "    }\n",
       "</style>\n",
       "<table border=\"1\" class=\"dataframe\">\n",
       "  <thead>\n",
       "    <tr style=\"text-align: right;\">\n",
       "      <th></th>\n",
       "      <th>mean_fit_time</th>\n",
       "      <th>std_fit_time</th>\n",
       "      <th>mean_score_time</th>\n",
       "      <th>std_score_time</th>\n",
       "      <th>param_min_samples_split</th>\n",
       "      <th>param_n_estimators</th>\n",
       "      <th>params</th>\n",
       "      <th>split0_test_score</th>\n",
       "      <th>split1_test_score</th>\n",
       "      <th>split2_test_score</th>\n",
       "      <th>mean_test_score</th>\n",
       "      <th>std_test_score</th>\n",
       "      <th>rank_test_score</th>\n",
       "    </tr>\n",
       "  </thead>\n",
       "  <tbody>\n",
       "    <tr>\n",
       "      <th>0</th>\n",
       "      <td>0.089775</td>\n",
       "      <td>0.002026</td>\n",
       "      <td>0.011413</td>\n",
       "      <td>0.000145</td>\n",
       "      <td>0.797978</td>\n",
       "      <td>60</td>\n",
       "      <td>{'min_samples_split': 0.7979781689491019, 'n_e...</td>\n",
       "      <td>0.333333</td>\n",
       "      <td>0.351351</td>\n",
       "      <td>0.333333</td>\n",
       "      <td>0.339286</td>\n",
       "      <td>0.008475</td>\n",
       "      <td>6</td>\n",
       "    </tr>\n",
       "    <tr>\n",
       "      <th>1</th>\n",
       "      <td>0.036712</td>\n",
       "      <td>0.006261</td>\n",
       "      <td>0.005339</td>\n",
       "      <td>0.000069</td>\n",
       "      <td>0.0803024</td>\n",
       "      <td>20</td>\n",
       "      <td>{'min_samples_split': 0.08030235307295386, 'n_...</td>\n",
       "      <td>0.923077</td>\n",
       "      <td>1.000000</td>\n",
       "      <td>0.944444</td>\n",
       "      <td>0.955357</td>\n",
       "      <td>0.032550</td>\n",
       "      <td>2</td>\n",
       "    </tr>\n",
       "    <tr>\n",
       "      <th>2</th>\n",
       "      <td>0.132990</td>\n",
       "      <td>0.000605</td>\n",
       "      <td>0.015952</td>\n",
       "      <td>0.000232</td>\n",
       "      <td>0.138136</td>\n",
       "      <td>90</td>\n",
       "      <td>{'min_samples_split': 0.13813596522113558, 'n_...</td>\n",
       "      <td>0.923077</td>\n",
       "      <td>1.000000</td>\n",
       "      <td>0.916667</td>\n",
       "      <td>0.946429</td>\n",
       "      <td>0.037718</td>\n",
       "      <td>4</td>\n",
       "    </tr>\n",
       "    <tr>\n",
       "      <th>3</th>\n",
       "      <td>0.122691</td>\n",
       "      <td>0.020552</td>\n",
       "      <td>0.013389</td>\n",
       "      <td>0.000638</td>\n",
       "      <td>0.39023</td>\n",
       "      <td>70</td>\n",
       "      <td>{'min_samples_split': 0.3902302126813324, 'n_e...</td>\n",
       "      <td>0.923077</td>\n",
       "      <td>1.000000</td>\n",
       "      <td>0.916667</td>\n",
       "      <td>0.946429</td>\n",
       "      <td>0.037718</td>\n",
       "      <td>4</td>\n",
       "    </tr>\n",
       "    <tr>\n",
       "      <th>4</th>\n",
       "      <td>0.103746</td>\n",
       "      <td>0.000739</td>\n",
       "      <td>0.013049</td>\n",
       "      <td>0.000313</td>\n",
       "      <td>0.342953</td>\n",
       "      <td>70</td>\n",
       "      <td>{'min_samples_split': 0.3429533169469444, 'n_e...</td>\n",
       "      <td>0.923077</td>\n",
       "      <td>1.000000</td>\n",
       "      <td>0.972222</td>\n",
       "      <td>0.964286</td>\n",
       "      <td>0.032139</td>\n",
       "      <td>1</td>\n",
       "    </tr>\n",
       "    <tr>\n",
       "      <th>5</th>\n",
       "      <td>0.086185</td>\n",
       "      <td>0.000660</td>\n",
       "      <td>0.011194</td>\n",
       "      <td>0.000384</td>\n",
       "      <td>0.000305664</td>\n",
       "      <td>60</td>\n",
       "      <td>{'min_samples_split': 0.000305664441768716, 'n...</td>\n",
       "      <td>0.923077</td>\n",
       "      <td>0.972973</td>\n",
       "      <td>0.972222</td>\n",
       "      <td>0.955357</td>\n",
       "      <td>0.023596</td>\n",
       "      <td>2</td>\n",
       "    </tr>\n",
       "    <tr>\n",
       "      <th>6</th>\n",
       "      <td>0.031317</td>\n",
       "      <td>0.000273</td>\n",
       "      <td>0.005265</td>\n",
       "      <td>0.000049</td>\n",
       "      <td>0.996255</td>\n",
       "      <td>20</td>\n",
       "      <td>{'min_samples_split': 0.9962552440904059, 'n_e...</td>\n",
       "      <td>0.333333</td>\n",
       "      <td>0.324324</td>\n",
       "      <td>0.333333</td>\n",
       "      <td>0.330357</td>\n",
       "      <td>0.004237</td>\n",
       "      <td>8</td>\n",
       "    </tr>\n",
       "    <tr>\n",
       "      <th>7</th>\n",
       "      <td>0.088975</td>\n",
       "      <td>0.001877</td>\n",
       "      <td>0.011478</td>\n",
       "      <td>0.000170</td>\n",
       "      <td>0.817627</td>\n",
       "      <td>60</td>\n",
       "      <td>{'min_samples_split': 0.8176273047366948, 'n_e...</td>\n",
       "      <td>0.333333</td>\n",
       "      <td>0.351351</td>\n",
       "      <td>0.333333</td>\n",
       "      <td>0.339286</td>\n",
       "      <td>0.008475</td>\n",
       "      <td>6</td>\n",
       "    </tr>\n",
       "    <tr>\n",
       "      <th>8</th>\n",
       "      <td>0.112198</td>\n",
       "      <td>0.002311</td>\n",
       "      <td>0.013910</td>\n",
       "      <td>0.000739</td>\n",
       "      <td>0.86049</td>\n",
       "      <td>80</td>\n",
       "      <td>{'min_samples_split': 0.86048953404825, 'n_est...</td>\n",
       "      <td>0.333333</td>\n",
       "      <td>0.324324</td>\n",
       "      <td>0.333333</td>\n",
       "      <td>0.330357</td>\n",
       "      <td>0.004237</td>\n",
       "      <td>8</td>\n",
       "    </tr>\n",
       "    <tr>\n",
       "      <th>9</th>\n",
       "      <td>0.089002</td>\n",
       "      <td>0.002441</td>\n",
       "      <td>0.011630</td>\n",
       "      <td>0.000345</td>\n",
       "      <td>0.816013</td>\n",
       "      <td>60</td>\n",
       "      <td>{'min_samples_split': 0.8160133572388177, 'n_e...</td>\n",
       "      <td>0.333333</td>\n",
       "      <td>0.324324</td>\n",
       "      <td>0.333333</td>\n",
       "      <td>0.330357</td>\n",
       "      <td>0.004237</td>\n",
       "      <td>8</td>\n",
       "    </tr>\n",
       "  </tbody>\n",
       "</table>\n",
       "</div>"
      ],
      "text/plain": [
       "   mean_fit_time  std_fit_time  mean_score_time  std_score_time  \\\n",
       "0       0.089775      0.002026         0.011413        0.000145   \n",
       "1       0.036712      0.006261         0.005339        0.000069   \n",
       "2       0.132990      0.000605         0.015952        0.000232   \n",
       "3       0.122691      0.020552         0.013389        0.000638   \n",
       "4       0.103746      0.000739         0.013049        0.000313   \n",
       "5       0.086185      0.000660         0.011194        0.000384   \n",
       "6       0.031317      0.000273         0.005265        0.000049   \n",
       "7       0.088975      0.001877         0.011478        0.000170   \n",
       "8       0.112198      0.002311         0.013910        0.000739   \n",
       "9       0.089002      0.002441         0.011630        0.000345   \n",
       "\n",
       "  param_min_samples_split param_n_estimators  \\\n",
       "0                0.797978                 60   \n",
       "1               0.0803024                 20   \n",
       "2                0.138136                 90   \n",
       "3                 0.39023                 70   \n",
       "4                0.342953                 70   \n",
       "5             0.000305664                 60   \n",
       "6                0.996255                 20   \n",
       "7                0.817627                 60   \n",
       "8                 0.86049                 80   \n",
       "9                0.816013                 60   \n",
       "\n",
       "                                              params  split0_test_score  \\\n",
       "0  {'min_samples_split': 0.7979781689491019, 'n_e...           0.333333   \n",
       "1  {'min_samples_split': 0.08030235307295386, 'n_...           0.923077   \n",
       "2  {'min_samples_split': 0.13813596522113558, 'n_...           0.923077   \n",
       "3  {'min_samples_split': 0.3902302126813324, 'n_e...           0.923077   \n",
       "4  {'min_samples_split': 0.3429533169469444, 'n_e...           0.923077   \n",
       "5  {'min_samples_split': 0.000305664441768716, 'n...           0.923077   \n",
       "6  {'min_samples_split': 0.9962552440904059, 'n_e...           0.333333   \n",
       "7  {'min_samples_split': 0.8176273047366948, 'n_e...           0.333333   \n",
       "8  {'min_samples_split': 0.86048953404825, 'n_est...           0.333333   \n",
       "9  {'min_samples_split': 0.8160133572388177, 'n_e...           0.333333   \n",
       "\n",
       "   split1_test_score  split2_test_score  mean_test_score  std_test_score  \\\n",
       "0           0.351351           0.333333         0.339286        0.008475   \n",
       "1           1.000000           0.944444         0.955357        0.032550   \n",
       "2           1.000000           0.916667         0.946429        0.037718   \n",
       "3           1.000000           0.916667         0.946429        0.037718   \n",
       "4           1.000000           0.972222         0.964286        0.032139   \n",
       "5           0.972973           0.972222         0.955357        0.023596   \n",
       "6           0.324324           0.333333         0.330357        0.004237   \n",
       "7           0.351351           0.333333         0.339286        0.008475   \n",
       "8           0.324324           0.333333         0.330357        0.004237   \n",
       "9           0.324324           0.333333         0.330357        0.004237   \n",
       "\n",
       "   rank_test_score  \n",
       "0                6  \n",
       "1                2  \n",
       "2                4  \n",
       "3                4  \n",
       "4                1  \n",
       "5                2  \n",
       "6                8  \n",
       "7                6  \n",
       "8                8  \n",
       "9                8  "
      ]
     },
     "execution_count": 34,
     "metadata": {},
     "output_type": "execute_result"
    }
   ],
   "source": [
    "pd.DataFrame(data=rcv.cv_results_)"
   ]
  },
  {
   "cell_type": "code",
   "execution_count": 35,
   "metadata": {},
   "outputs": [],
   "source": [
    "rfc = rcv.best_estimator_"
   ]
  },
  {
   "cell_type": "code",
   "execution_count": 36,
   "metadata": {},
   "outputs": [
    {
     "data": {
      "text/plain": [
       "0.9473684210526315"
      ]
     },
     "execution_count": 36,
     "metadata": {},
     "output_type": "execute_result"
    }
   ],
   "source": [
    "y_predict = rfc.predict(X_test)\n",
    "accuracy_score(y_test, y_predict)"
   ]
  },
  {
   "cell_type": "markdown",
   "metadata": {},
   "source": [
    "# Exercise 1\n",
    "\n",
    "Run feature selection and hyperparameter optimization with randomized search cross validation on the [crowdsource mapping](https://archive.ics.uci.edu/ml/datasets/Crowdsourced+Mapping) dataset using a SVM"
   ]
  },
  {
   "cell_type": "code",
   "execution_count": 66,
   "metadata": {},
   "outputs": [],
   "source": [
    "#imports\n",
    "from sklearn.svm import SVC\n",
    "from sklearn.preprocessing import MinMaxScaler, LabelEncoder"
   ]
  },
  {
   "cell_type": "code",
   "execution_count": 42,
   "metadata": {},
   "outputs": [],
   "source": [
    "# load the dataset\n",
    "train_df = pd.read_csv('~/DATA/crowdsourcemapping/training.csv')\n",
    "test_df = pd.read_csv('~/DATA/crowdsourcemapping/testing.csv')\n"
   ]
  },
  {
   "cell_type": "code",
   "execution_count": 43,
   "metadata": {},
   "outputs": [
    {
     "data": {
      "text/html": [
       "<div>\n",
       "<style scoped>\n",
       "    .dataframe tbody tr th:only-of-type {\n",
       "        vertical-align: middle;\n",
       "    }\n",
       "\n",
       "    .dataframe tbody tr th {\n",
       "        vertical-align: top;\n",
       "    }\n",
       "\n",
       "    .dataframe thead th {\n",
       "        text-align: right;\n",
       "    }\n",
       "</style>\n",
       "<table border=\"1\" class=\"dataframe\">\n",
       "  <thead>\n",
       "    <tr style=\"text-align: right;\">\n",
       "      <th></th>\n",
       "      <th>class</th>\n",
       "      <th>max_ndvi</th>\n",
       "      <th>20150720_N</th>\n",
       "      <th>20150602_N</th>\n",
       "      <th>20150517_N</th>\n",
       "      <th>20150501_N</th>\n",
       "      <th>20150415_N</th>\n",
       "      <th>20150330_N</th>\n",
       "      <th>20150314_N</th>\n",
       "      <th>20150226_N</th>\n",
       "      <th>...</th>\n",
       "      <th>20140610_N</th>\n",
       "      <th>20140525_N</th>\n",
       "      <th>20140509_N</th>\n",
       "      <th>20140423_N</th>\n",
       "      <th>20140407_N</th>\n",
       "      <th>20140322_N</th>\n",
       "      <th>20140218_N</th>\n",
       "      <th>20140202_N</th>\n",
       "      <th>20140117_N</th>\n",
       "      <th>20140101_N</th>\n",
       "    </tr>\n",
       "  </thead>\n",
       "  <tbody>\n",
       "    <tr>\n",
       "      <th>0</th>\n",
       "      <td>water</td>\n",
       "      <td>997.904</td>\n",
       "      <td>637.5950</td>\n",
       "      <td>658.668</td>\n",
       "      <td>-1882.030</td>\n",
       "      <td>-1924.36</td>\n",
       "      <td>997.904</td>\n",
       "      <td>-1739.990</td>\n",
       "      <td>630.087</td>\n",
       "      <td>-1628.240</td>\n",
       "      <td>...</td>\n",
       "      <td>-921.193</td>\n",
       "      <td>-1043.160</td>\n",
       "      <td>-1942.490</td>\n",
       "      <td>267.138</td>\n",
       "      <td>366.608</td>\n",
       "      <td>452.238</td>\n",
       "      <td>211.328</td>\n",
       "      <td>-2203.02</td>\n",
       "      <td>-1180.190</td>\n",
       "      <td>433.906</td>\n",
       "    </tr>\n",
       "    <tr>\n",
       "      <th>1</th>\n",
       "      <td>water</td>\n",
       "      <td>914.198</td>\n",
       "      <td>634.2400</td>\n",
       "      <td>593.705</td>\n",
       "      <td>-1625.790</td>\n",
       "      <td>-1672.32</td>\n",
       "      <td>914.198</td>\n",
       "      <td>-692.386</td>\n",
       "      <td>707.626</td>\n",
       "      <td>-1670.590</td>\n",
       "      <td>...</td>\n",
       "      <td>-954.719</td>\n",
       "      <td>-933.934</td>\n",
       "      <td>-625.385</td>\n",
       "      <td>120.059</td>\n",
       "      <td>364.858</td>\n",
       "      <td>476.972</td>\n",
       "      <td>220.878</td>\n",
       "      <td>-2250.00</td>\n",
       "      <td>-1360.560</td>\n",
       "      <td>524.075</td>\n",
       "    </tr>\n",
       "    <tr>\n",
       "      <th>2</th>\n",
       "      <td>water</td>\n",
       "      <td>3800.810</td>\n",
       "      <td>1671.3400</td>\n",
       "      <td>1206.880</td>\n",
       "      <td>449.735</td>\n",
       "      <td>1071.21</td>\n",
       "      <td>546.371</td>\n",
       "      <td>1077.840</td>\n",
       "      <td>214.564</td>\n",
       "      <td>849.599</td>\n",
       "      <td>...</td>\n",
       "      <td>1562.210</td>\n",
       "      <td>1566.160</td>\n",
       "      <td>2208.440</td>\n",
       "      <td>1056.600</td>\n",
       "      <td>385.203</td>\n",
       "      <td>300.560</td>\n",
       "      <td>293.730</td>\n",
       "      <td>2762.57</td>\n",
       "      <td>150.931</td>\n",
       "      <td>3800.810</td>\n",
       "    </tr>\n",
       "    <tr>\n",
       "      <th>3</th>\n",
       "      <td>water</td>\n",
       "      <td>952.178</td>\n",
       "      <td>58.0174</td>\n",
       "      <td>-1599.160</td>\n",
       "      <td>210.714</td>\n",
       "      <td>-1052.63</td>\n",
       "      <td>578.807</td>\n",
       "      <td>-1564.630</td>\n",
       "      <td>-858.390</td>\n",
       "      <td>729.790</td>\n",
       "      <td>...</td>\n",
       "      <td>-1025.880</td>\n",
       "      <td>368.622</td>\n",
       "      <td>-1786.950</td>\n",
       "      <td>-1227.800</td>\n",
       "      <td>304.621</td>\n",
       "      <td>291.336</td>\n",
       "      <td>369.214</td>\n",
       "      <td>-2202.12</td>\n",
       "      <td>600.359</td>\n",
       "      <td>-1343.550</td>\n",
       "    </tr>\n",
       "    <tr>\n",
       "      <th>4</th>\n",
       "      <td>water</td>\n",
       "      <td>1232.120</td>\n",
       "      <td>72.5180</td>\n",
       "      <td>-1220.880</td>\n",
       "      <td>380.436</td>\n",
       "      <td>-1256.93</td>\n",
       "      <td>515.805</td>\n",
       "      <td>-1413.180</td>\n",
       "      <td>-802.942</td>\n",
       "      <td>683.254</td>\n",
       "      <td>...</td>\n",
       "      <td>-1813.950</td>\n",
       "      <td>155.624</td>\n",
       "      <td>-1189.710</td>\n",
       "      <td>-924.073</td>\n",
       "      <td>432.150</td>\n",
       "      <td>282.833</td>\n",
       "      <td>298.320</td>\n",
       "      <td>-2197.36</td>\n",
       "      <td>626.379</td>\n",
       "      <td>-826.727</td>\n",
       "    </tr>\n",
       "  </tbody>\n",
       "</table>\n",
       "<p>5 rows × 29 columns</p>\n",
       "</div>"
      ],
      "text/plain": [
       "   class  max_ndvi  20150720_N  20150602_N  20150517_N  20150501_N  \\\n",
       "0  water   997.904    637.5950     658.668   -1882.030    -1924.36   \n",
       "1  water   914.198    634.2400     593.705   -1625.790    -1672.32   \n",
       "2  water  3800.810   1671.3400    1206.880     449.735     1071.21   \n",
       "3  water   952.178     58.0174   -1599.160     210.714    -1052.63   \n",
       "4  water  1232.120     72.5180   -1220.880     380.436    -1256.93   \n",
       "\n",
       "   20150415_N  20150330_N  20150314_N  20150226_N  ...  20140610_N  \\\n",
       "0     997.904   -1739.990     630.087   -1628.240  ...    -921.193   \n",
       "1     914.198    -692.386     707.626   -1670.590  ...    -954.719   \n",
       "2     546.371    1077.840     214.564     849.599  ...    1562.210   \n",
       "3     578.807   -1564.630    -858.390     729.790  ...   -1025.880   \n",
       "4     515.805   -1413.180    -802.942     683.254  ...   -1813.950   \n",
       "\n",
       "   20140525_N  20140509_N  20140423_N  20140407_N  20140322_N  20140218_N  \\\n",
       "0   -1043.160   -1942.490     267.138     366.608     452.238     211.328   \n",
       "1    -933.934    -625.385     120.059     364.858     476.972     220.878   \n",
       "2    1566.160    2208.440    1056.600     385.203     300.560     293.730   \n",
       "3     368.622   -1786.950   -1227.800     304.621     291.336     369.214   \n",
       "4     155.624   -1189.710    -924.073     432.150     282.833     298.320   \n",
       "\n",
       "   20140202_N  20140117_N  20140101_N  \n",
       "0    -2203.02   -1180.190     433.906  \n",
       "1    -2250.00   -1360.560     524.075  \n",
       "2     2762.57     150.931    3800.810  \n",
       "3    -2202.12     600.359   -1343.550  \n",
       "4    -2197.36     626.379    -826.727  \n",
       "\n",
       "[5 rows x 29 columns]"
      ]
     },
     "execution_count": 43,
     "metadata": {},
     "output_type": "execute_result"
    }
   ],
   "source": [
    "train_df.head()"
   ]
  },
  {
   "cell_type": "code",
   "execution_count": 67,
   "metadata": {},
   "outputs": [],
   "source": [
    "#slice out the features\n",
    "X_train = train_df.iloc[:,1:]\n",
    "X_test = test_df.iloc[:,1:]\n",
    "\n",
    "y_train = train_df['class']\n",
    "y_test = test_df['class']\n",
    "\n",
    "sc = MinMaxScaler()\n",
    "X_train = sc.fit_transform(X_train)\n",
    "X_test = sc.transform(X_test)"
   ]
  },
  {
   "cell_type": "code",
   "execution_count": 68,
   "metadata": {},
   "outputs": [
    {
     "data": {
      "text/plain": [
       "(array([367.58193535, 271.37774672, 171.87149825, 170.38374642,\n",
       "        157.25618596,  83.9754743 ,  75.0607771 , 102.20121996,\n",
       "        179.64352103, 102.56703646, 221.08367533,  27.73044589,\n",
       "         45.41983282,  17.91542801, 115.5892247 ,  38.85080943,\n",
       "         27.92164276, 135.28222524, 105.59293353,  79.88997721,\n",
       "         25.1588371 , 111.53295566,  37.33652544,  66.77363509,\n",
       "        226.61667447, 115.53527185,  86.52615765,  36.69009579]),\n",
       " array([2.86408951e-77, 1.41593489e-56, 2.90911725e-35, 6.04261159e-35,\n",
       "        3.80401260e-32, 1.23431381e-16, 9.03518416e-15, 1.81540989e-20,\n",
       "        6.37636839e-37, 1.51992176e-20, 8.70609552e-46, 4.10915602e-05,\n",
       "        1.19193687e-08, 3.05428578e-03, 2.69485698e-23, 2.54482563e-07,\n",
       "        3.77052372e-05, 1.79933784e-27, 3.49410686e-21, 8.84857170e-16,\n",
       "        1.29830418e-04, 1.94302494e-22, 5.12747475e-07, 4.80150720e-13,\n",
       "        5.67946563e-47, 2.76663909e-23, 3.60240337e-17, 6.91024593e-07]))"
      ]
     },
     "execution_count": 68,
     "metadata": {},
     "output_type": "execute_result"
    }
   ],
   "source": [
    "#feature selection\n",
    "\n",
    "chi2(X_train, y_train)"
   ]
  },
  {
   "cell_type": "code",
   "execution_count": 73,
   "metadata": {},
   "outputs": [
    {
     "name": "stderr",
     "output_type": "stream",
     "text": [
      "/opt/conda/lib/python3.7/site-packages/sklearn/model_selection/_split.py:1978: FutureWarning: The default value of cv will change from 3 to 5 in version 0.22. Specify it explicitly to silence this warning.\n",
      "  warnings.warn(CV_WARNING, FutureWarning)\n",
      "/opt/conda/lib/python3.7/site-packages/sklearn/svm/base.py:193: FutureWarning: The default value of gamma will change from 'auto' to 'scale' in version 0.22 to account better for unscaled features. Set gamma explicitly to 'auto' or 'scale' to avoid this warning.\n",
      "  \"avoid this warning.\", FutureWarning)\n",
      "/opt/conda/lib/python3.7/site-packages/sklearn/svm/base.py:193: FutureWarning: The default value of gamma will change from 'auto' to 'scale' in version 0.22 to account better for unscaled features. Set gamma explicitly to 'auto' or 'scale' to avoid this warning.\n",
      "  \"avoid this warning.\", FutureWarning)\n",
      "/opt/conda/lib/python3.7/site-packages/sklearn/svm/base.py:193: FutureWarning: The default value of gamma will change from 'auto' to 'scale' in version 0.22 to account better for unscaled features. Set gamma explicitly to 'auto' or 'scale' to avoid this warning.\n",
      "  \"avoid this warning.\", FutureWarning)\n",
      "/opt/conda/lib/python3.7/site-packages/sklearn/svm/base.py:193: FutureWarning: The default value of gamma will change from 'auto' to 'scale' in version 0.22 to account better for unscaled features. Set gamma explicitly to 'auto' or 'scale' to avoid this warning.\n",
      "  \"avoid this warning.\", FutureWarning)\n"
     ]
    },
    {
     "data": {
      "text/plain": [
       "RandomizedSearchCV(cv='warn', error_score='raise-deprecating',\n",
       "                   estimator=SVC(C=1.0, cache_size=200, class_weight=None,\n",
       "                                 coef0=0.0, decision_function_shape='ovr',\n",
       "                                 degree=3, gamma='auto_deprecated',\n",
       "                                 kernel='rbf', max_iter=-1, probability=False,\n",
       "                                 random_state=None, shrinking=True, tol=0.001,\n",
       "                                 verbose=False),\n",
       "                   iid='warn', n_iter=1, n_jobs=None,\n",
       "                   param_distributions={'C': <scipy.stats._distn_infrastructure.rv_frozen object at 0x7f7e31a82f28>},\n",
       "                   pre_dispatch='2*n_jobs', random_state=None, refit=True,\n",
       "                   return_train_score=False, scoring=None, verbose=0)"
      ]
     },
     "execution_count": 73,
     "metadata": {},
     "output_type": "execute_result"
    }
   ],
   "source": [
    "rcv = RandomizedSearchCV(\n",
    "    SVC(),\n",
    "    {'C': uniform(loc=1, scale=100)},\n",
    "    n_iter=1\n",
    ")\n",
    "rcv.fit(X_train, y_train)"
   ]
  },
  {
   "cell_type": "code",
   "execution_count": 75,
   "metadata": {},
   "outputs": [
    {
     "name": "stdout",
     "output_type": "stream",
     "text": [
      "              precision    recall  f1-score   support\n",
      "\n",
      "        farm       0.59      0.68      0.63        53\n",
      "      forest       0.48      0.76      0.58        78\n",
      "       grass       0.46      0.36      0.41        36\n",
      "  impervious       0.80      0.93      0.86        40\n",
      "     orchard       1.00      0.11      0.19        47\n",
      "       water       0.97      0.76      0.85        46\n",
      "\n",
      "    accuracy                           0.62       300\n",
      "   macro avg       0.72      0.60      0.59       300\n",
      "weighted avg       0.70      0.62      0.59       300\n",
      "\n"
     ]
    }
   ],
   "source": [
    "svc = rcv.best_estimator_\n",
    "y_pred = svc.predict(X_test)\n",
    "print(classification_report(y_test, y_pred))"
   ]
  },
  {
   "cell_type": "markdown",
   "metadata": {},
   "source": [
    "# Exercise 2\n",
    "\n",
    "Run feature selection and hyperparameter optimization with randomized search cross validation on the Air Quality dataset using a SVM"
   ]
  },
  {
   "cell_type": "code",
   "execution_count": null,
   "metadata": {},
   "outputs": [],
   "source": [
    "#imports"
   ]
  },
  {
   "cell_type": "code",
   "execution_count": null,
   "metadata": {},
   "outputs": [],
   "source": [
    "# load the dataset\n",
    "df = pd.read_csv(#fill in the path to file)\n"
   ]
  },
  {
   "cell_type": "code",
   "execution_count": null,
   "metadata": {},
   "outputs": [],
   "source": [
    "#slice out the features\n",
    "X_train = train_df[]\n",
    "X_test = test_df[]\n",
    "\n",
    "y_train = train_df[]\n",
    "y_test = test_df[]"
   ]
  },
  {
   "cell_type": "code",
   "execution_count": null,
   "metadata": {},
   "outputs": [],
   "source": [
    "#feature selection"
   ]
  },
  {
   "cell_type": "code",
   "execution_count": null,
   "metadata": {},
   "outputs": [],
   "source": [
    "rcv = RandomizedSearchCV(\n",
    "#regressor\n",
    "#dict containing parameters and ranges\n",
    ")"
   ]
  },
  {
   "cell_type": "code",
   "execution_count": null,
   "metadata": {},
   "outputs": [],
   "source": [
    "svc = rcv.best_estimator_\n",
    "y_pred = svc.predict(X_test)\n",
    "mean_squared_error(y_test, y_pred)"
   ]
  }
 ],
 "metadata": {
  "kernelspec": {
   "display_name": "Python 3",
   "language": "python",
   "name": "python3"
  },
  "language_info": {
   "codemirror_mode": {
    "name": "ipython",
    "version": 3
   },
   "file_extension": ".py",
   "mimetype": "text/x-python",
   "name": "python",
   "nbconvert_exporter": "python",
   "pygments_lexer": "ipython3",
   "version": "3.7.3"
  }
 },
 "nbformat": 4,
 "nbformat_minor": 2
}
