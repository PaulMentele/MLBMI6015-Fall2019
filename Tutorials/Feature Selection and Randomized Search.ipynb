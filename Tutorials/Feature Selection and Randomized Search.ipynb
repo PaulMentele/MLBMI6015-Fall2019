{
 "cells": [
  {
   "cell_type": "code",
   "execution_count": 1,
   "metadata": {},
   "outputs": [],
   "source": [
    "import pandas as pd\n",
    "import numpy as np\n",
    "from sklearn.feature_selection import chi2, SelectKBest\n",
    "from scipy.stats import pearsonr\n",
    "from sklearn.ensemble import RandomForestClassifier, RandomForestRegressor\n",
    "from sklearn.model_selection import train_test_split, RandomizedSearchCV\n",
    "from sklearn.metrics import mean_squared_error, make_scorer, accuracy_score, classification_report\n",
    "from scipy.stats.distributions import uniform\n",
    "from statsmodels.stats.outliers_influence import variance_inflation_factor\n",
    "from statsmodels.tools.tools import add_constant"
   ]
  },
  {
   "cell_type": "markdown",
   "metadata": {},
   "source": [
    "# Regression\n",
    "\n",
    "[Dataset](https://archive.ics.uci.edu/ml/datasets/air+quality)"
   ]
  },
  {
   "cell_type": "code",
   "execution_count": 2,
   "metadata": {},
   "outputs": [],
   "source": [
    "df = pd.read_excel('AirQualityUCI.xlsx')"
   ]
  },
  {
   "cell_type": "code",
   "execution_count": 3,
   "metadata": {},
   "outputs": [
    {
     "data": {
      "text/plain": [
       "(9357, 15)"
      ]
     },
     "execution_count": 3,
     "metadata": {},
     "output_type": "execute_result"
    }
   ],
   "source": [
    "df.shape"
   ]
  },
  {
   "cell_type": "code",
   "execution_count": 4,
   "metadata": {},
   "outputs": [
    {
     "data": {
      "text/plain": [
       "Date             datetime64[ns]\n",
       "Time                     object\n",
       "CO(GT)                  float64\n",
       "PT08.S1(CO)             float64\n",
       "NMHC(GT)                  int64\n",
       "C6H6(GT)                float64\n",
       "PT08.S2(NMHC)           float64\n",
       "NOx(GT)                 float64\n",
       "PT08.S3(NOx)            float64\n",
       "NO2(GT)                 float64\n",
       "PT08.S4(NO2)            float64\n",
       "PT08.S5(O3)             float64\n",
       "T                       float64\n",
       "RH                      float64\n",
       "AH                      float64\n",
       "dtype: object"
      ]
     },
     "execution_count": 4,
     "metadata": {},
     "output_type": "execute_result"
    }
   ],
   "source": [
    "df.dtypes"
   ]
  },
  {
   "cell_type": "code",
   "execution_count": 5,
   "metadata": {},
   "outputs": [],
   "source": [
    "df = df.drop(['AH', 'Date', 'Time'], axis=1)"
   ]
  },
  {
   "cell_type": "code",
   "execution_count": 6,
   "metadata": {},
   "outputs": [
    {
     "data": {
      "text/plain": [
       "Index(['CO(GT)', 'PT08.S1(CO)', 'NMHC(GT)', 'C6H6(GT)', 'PT08.S2(NMHC)',\n",
       "       'NOx(GT)', 'PT08.S3(NOx)', 'NO2(GT)', 'PT08.S4(NO2)', 'PT08.S5(O3)',\n",
       "       'T', 'RH'],\n",
       "      dtype='object')"
      ]
     },
     "execution_count": 6,
     "metadata": {},
     "output_type": "execute_result"
    }
   ],
   "source": [
    "df.columns"
   ]
  },
  {
   "cell_type": "code",
   "execution_count": 7,
   "metadata": {},
   "outputs": [],
   "source": [
    "df_train, df_test = train_test_split(df)"
   ]
  },
  {
   "cell_type": "markdown",
   "metadata": {},
   "source": [
    "# Variance Inflation Factor"
   ]
  },
  {
   "cell_type": "code",
   "execution_count": 8,
   "metadata": {},
   "outputs": [],
   "source": [
    "X = df_train.drop('RH', axis=1)"
   ]
  },
  {
   "cell_type": "code",
   "execution_count": 9,
   "metadata": {},
   "outputs": [
    {
     "name": "stderr",
     "output_type": "stream",
     "text": [
      "/opt/conda/lib/python3.7/site-packages/numpy/core/fromnumeric.py:2389: FutureWarning: Method .ptp is deprecated and will be removed in a future version. Use numpy.ptp instead.\n",
      "  return ptp(axis=axis, out=out, **kwargs)\n"
     ]
    },
    {
     "data": {
      "text/plain": [
       "const            358.067816\n",
       "CO(GT)             1.913497\n",
       "PT08.S1(CO)       22.105974\n",
       "NMHC(GT)           1.477787\n",
       "C6H6(GT)         101.793475\n",
       "PT08.S2(NMHC)     23.142902\n",
       "NOx(GT)            6.089215\n",
       "PT08.S3(NOx)       6.845310\n",
       "NO2(GT)            4.664109\n",
       "PT08.S4(NO2)      10.050466\n",
       "PT08.S5(O3)       11.590680\n",
       "T                 58.741003\n",
       "dtype: float64"
      ]
     },
     "execution_count": 9,
     "metadata": {},
     "output_type": "execute_result"
    }
   ],
   "source": [
    "X = add_constant(X)\n",
    "vifs = pd.Series([variance_inflation_factor(X.values, i) \n",
    "               for i in range(X.shape[1])], \n",
    "              index=X.columns)\n",
    "vifs"
   ]
  },
  {
   "cell_type": "code",
   "execution_count": 10,
   "metadata": {},
   "outputs": [
    {
     "data": {
      "text/plain": [
       "101.7934747001686"
      ]
     },
     "execution_count": 10,
     "metadata": {},
     "output_type": "execute_result"
    }
   ],
   "source": [
    "vifs[1:].max()"
   ]
  },
  {
   "cell_type": "code",
   "execution_count": 11,
   "metadata": {},
   "outputs": [
    {
     "name": "stdout",
     "output_type": "stream",
     "text": [
      "C6H6(GT)\n",
      "PT08.S2(NMHC)\n",
      "PT08.S1(CO)\n",
      "T\n",
      "NOx(GT)\n"
     ]
    },
    {
     "data": {
      "text/html": [
       "<div>\n",
       "<style scoped>\n",
       "    .dataframe tbody tr th:only-of-type {\n",
       "        vertical-align: middle;\n",
       "    }\n",
       "\n",
       "    .dataframe tbody tr th {\n",
       "        vertical-align: top;\n",
       "    }\n",
       "\n",
       "    .dataframe thead th {\n",
       "        text-align: right;\n",
       "    }\n",
       "</style>\n",
       "<table border=\"1\" class=\"dataframe\">\n",
       "  <thead>\n",
       "    <tr style=\"text-align: right;\">\n",
       "      <th></th>\n",
       "      <th>const</th>\n",
       "      <th>CO(GT)</th>\n",
       "      <th>NMHC(GT)</th>\n",
       "      <th>PT08.S3(NOx)</th>\n",
       "      <th>NO2(GT)</th>\n",
       "      <th>PT08.S4(NO2)</th>\n",
       "      <th>PT08.S5(O3)</th>\n",
       "    </tr>\n",
       "  </thead>\n",
       "  <tbody>\n",
       "    <tr>\n",
       "      <th>6504</th>\n",
       "      <td>1.0</td>\n",
       "      <td>3.1</td>\n",
       "      <td>-200</td>\n",
       "      <td>569.500000</td>\n",
       "      <td>123.0</td>\n",
       "      <td>1619.500000</td>\n",
       "      <td>1388.500000</td>\n",
       "    </tr>\n",
       "    <tr>\n",
       "      <th>126</th>\n",
       "      <td>1.0</td>\n",
       "      <td>2.1</td>\n",
       "      <td>155</td>\n",
       "      <td>852.333333</td>\n",
       "      <td>103.0</td>\n",
       "      <td>1731.333333</td>\n",
       "      <td>1271.666667</td>\n",
       "    </tr>\n",
       "    <tr>\n",
       "      <th>8156</th>\n",
       "      <td>1.0</td>\n",
       "      <td>1.1</td>\n",
       "      <td>-200</td>\n",
       "      <td>666.250000</td>\n",
       "      <td>92.3</td>\n",
       "      <td>1278.250000</td>\n",
       "      <td>821.750000</td>\n",
       "    </tr>\n",
       "    <tr>\n",
       "      <th>8276</th>\n",
       "      <td>1.0</td>\n",
       "      <td>1.6</td>\n",
       "      <td>-200</td>\n",
       "      <td>774.750000</td>\n",
       "      <td>146.0</td>\n",
       "      <td>970.500000</td>\n",
       "      <td>756.750000</td>\n",
       "    </tr>\n",
       "    <tr>\n",
       "      <th>30</th>\n",
       "      <td>1.0</td>\n",
       "      <td>1.7</td>\n",
       "      <td>55</td>\n",
       "      <td>1253.500000</td>\n",
       "      <td>97.0</td>\n",
       "      <td>1375.000000</td>\n",
       "      <td>815.500000</td>\n",
       "    </tr>\n",
       "  </tbody>\n",
       "</table>\n",
       "</div>"
      ],
      "text/plain": [
       "      const  CO(GT)  NMHC(GT)  PT08.S3(NOx)  NO2(GT)  PT08.S4(NO2)  \\\n",
       "6504    1.0     3.1      -200    569.500000    123.0   1619.500000   \n",
       "126     1.0     2.1       155    852.333333    103.0   1731.333333   \n",
       "8156    1.0     1.1      -200    666.250000     92.3   1278.250000   \n",
       "8276    1.0     1.6      -200    774.750000    146.0    970.500000   \n",
       "30      1.0     1.7        55   1253.500000     97.0   1375.000000   \n",
       "\n",
       "      PT08.S5(O3)  \n",
       "6504  1388.500000  \n",
       "126   1271.666667  \n",
       "8156   821.750000  \n",
       "8276   756.750000  \n",
       "30     815.500000  "
      ]
     },
     "execution_count": 11,
     "metadata": {},
     "output_type": "execute_result"
    }
   ],
   "source": [
    "while vifs[1:].max() > 5:\n",
    "    print(vifs[1:].idxmax())\n",
    "    X.drop(\n",
    "        vifs[1:].idxmax(),\n",
    "        axis=1,\n",
    "        inplace=True\n",
    "    )\n",
    "    vifs = pd.Series([variance_inflation_factor(X.values, i) \n",
    "               for i in range(X.shape[1])], \n",
    "              index=X.columns)\n",
    "\n",
    "X.head()    "
   ]
  },
  {
   "cell_type": "code",
   "execution_count": 12,
   "metadata": {},
   "outputs": [
    {
     "data": {
      "text/plain": [
       "const           19.350456\n",
       "CO(GT)           1.894898\n",
       "NMHC(GT)         1.052237\n",
       "PT08.S3(NOx)     1.277297\n",
       "NO2(GT)          2.141307\n",
       "PT08.S4(NO2)     2.846438\n",
       "PT08.S5(O3)      2.971297\n",
       "dtype: float64"
      ]
     },
     "execution_count": 12,
     "metadata": {},
     "output_type": "execute_result"
    }
   ],
   "source": [
    "vifs"
   ]
  },
  {
   "cell_type": "code",
   "execution_count": 13,
   "metadata": {},
   "outputs": [],
   "source": [
    "vif_keep_cols = ['RH'] + list(X.drop('const', axis=1).columns)"
   ]
  },
  {
   "cell_type": "code",
   "execution_count": 14,
   "metadata": {},
   "outputs": [
    {
     "data": {
      "text/plain": [
       "['RH',\n",
       " 'CO(GT)',\n",
       " 'NMHC(GT)',\n",
       " 'PT08.S3(NOx)',\n",
       " 'NO2(GT)',\n",
       " 'PT08.S4(NO2)',\n",
       " 'PT08.S5(O3)']"
      ]
     },
     "execution_count": 14,
     "metadata": {},
     "output_type": "execute_result"
    }
   ],
   "source": [
    "vif_keep_cols"
   ]
  },
  {
   "cell_type": "markdown",
   "metadata": {},
   "source": [
    "# Correlation"
   ]
  },
  {
   "cell_type": "code",
   "execution_count": 15,
   "metadata": {},
   "outputs": [
    {
     "data": {
      "text/plain": [
       "RH               1.000000\n",
       "C6H6(GT)         0.929167\n",
       "T                0.892274\n",
       "PT08.S1(CO)      0.756462\n",
       "PT08.S4(NO2)     0.652371\n",
       "PT08.S2(NMHC)    0.598849\n",
       "PT08.S3(NOx)     0.584391\n",
       "PT08.S5(O3)      0.537417\n",
       "NO2(GT)          0.086953\n",
       "NOx(GT)          0.069487\n",
       "CO(GT)           0.050472\n",
       "NMHC(GT)         0.007804\n",
       "Name: RH, dtype: float64"
      ]
     },
     "execution_count": 15,
     "metadata": {},
     "output_type": "execute_result"
    }
   ],
   "source": [
    "corrs = df_train.corr()['RH'].abs().sort_values(ascending=False)\n",
    "corrs"
   ]
  },
  {
   "cell_type": "code",
   "execution_count": 16,
   "metadata": {},
   "outputs": [
    {
     "data": {
      "text/plain": [
       "Index(['RH', 'C6H6(GT)', 'T', 'PT08.S1(CO)', 'PT08.S4(NO2)', 'PT08.S2(NMHC)',\n",
       "       'PT08.S3(NOx)', 'PT08.S5(O3)'],\n",
       "      dtype='object')"
      ]
     },
     "execution_count": 16,
     "metadata": {},
     "output_type": "execute_result"
    }
   ],
   "source": [
    "corr_keep_cols = corrs.index[:8]\n",
    "corr_keep_cols"
   ]
  },
  {
   "cell_type": "markdown",
   "metadata": {},
   "source": [
    "# Randomized Search CV"
   ]
  },
  {
   "cell_type": "code",
   "execution_count": 17,
   "metadata": {},
   "outputs": [
    {
     "data": {
      "text/plain": [
       "Index(['CO(GT)', 'NMHC(GT)', 'PT08.S3(NOx)', 'NO2(GT)', 'PT08.S4(NO2)',\n",
       "       'PT08.S5(O3)'],\n",
       "      dtype='object')"
      ]
     },
     "execution_count": 17,
     "metadata": {},
     "output_type": "execute_result"
    }
   ],
   "source": [
    "X_train = df_train[vif_keep_cols].iloc[:,1:]\n",
    "y_train = df_train[vif_keep_cols].iloc[:,0]\n",
    "X_train.columns"
   ]
  },
  {
   "cell_type": "code",
   "execution_count": 18,
   "metadata": {},
   "outputs": [
    {
     "data": {
      "text/plain": [
       "'RH'"
      ]
     },
     "execution_count": 18,
     "metadata": {},
     "output_type": "execute_result"
    }
   ],
   "source": [
    "X_test = df_test[vif_keep_cols].iloc[:,1:]\n",
    "y_test = df_test[vif_keep_cols].iloc[:,0]\n",
    "y_test.name"
   ]
  },
  {
   "cell_type": "code",
   "execution_count": 19,
   "metadata": {},
   "outputs": [],
   "source": [
    "rcv = RandomizedSearchCV(RandomForestRegressor(),\n",
    "                  {'n_estimators': range(10,100, 10),\n",
    "                   'min_samples_split': uniform()\n",
    "                  },\n",
    "                  scoring=make_scorer(mean_squared_error))"
   ]
  },
  {
   "cell_type": "code",
   "execution_count": 20,
   "metadata": {},
   "outputs": [
    {
     "name": "stderr",
     "output_type": "stream",
     "text": [
      "/opt/conda/lib/python3.7/site-packages/sklearn/model_selection/_split.py:1978: FutureWarning: The default value of cv will change from 3 to 5 in version 0.22. Specify it explicitly to silence this warning.\n",
      "  warnings.warn(CV_WARNING, FutureWarning)\n"
     ]
    }
   ],
   "source": [
    "rcv = rcv.fit(X_train, y_train)"
   ]
  },
  {
   "cell_type": "code",
   "execution_count": 21,
   "metadata": {},
   "outputs": [
    {
     "data": {
      "text/html": [
       "<div>\n",
       "<style scoped>\n",
       "    .dataframe tbody tr th:only-of-type {\n",
       "        vertical-align: middle;\n",
       "    }\n",
       "\n",
       "    .dataframe tbody tr th {\n",
       "        vertical-align: top;\n",
       "    }\n",
       "\n",
       "    .dataframe thead th {\n",
       "        text-align: right;\n",
       "    }\n",
       "</style>\n",
       "<table border=\"1\" class=\"dataframe\">\n",
       "  <thead>\n",
       "    <tr style=\"text-align: right;\">\n",
       "      <th></th>\n",
       "      <th>mean_fit_time</th>\n",
       "      <th>std_fit_time</th>\n",
       "      <th>mean_score_time</th>\n",
       "      <th>std_score_time</th>\n",
       "      <th>param_min_samples_split</th>\n",
       "      <th>param_n_estimators</th>\n",
       "      <th>params</th>\n",
       "      <th>split0_test_score</th>\n",
       "      <th>split1_test_score</th>\n",
       "      <th>split2_test_score</th>\n",
       "      <th>mean_test_score</th>\n",
       "      <th>std_test_score</th>\n",
       "      <th>rank_test_score</th>\n",
       "    </tr>\n",
       "  </thead>\n",
       "  <tbody>\n",
       "    <tr>\n",
       "      <th>0</th>\n",
       "      <td>0.372180</td>\n",
       "      <td>0.003444</td>\n",
       "      <td>0.012079</td>\n",
       "      <td>0.000223</td>\n",
       "      <td>0.270965</td>\n",
       "      <td>50</td>\n",
       "      <td>{'min_samples_split': 0.2709646947892821, 'n_e...</td>\n",
       "      <td>250.610319</td>\n",
       "      <td>254.902007</td>\n",
       "      <td>254.284068</td>\n",
       "      <td>253.265465</td>\n",
       "      <td>1.894344</td>\n",
       "      <td>7</td>\n",
       "    </tr>\n",
       "    <tr>\n",
       "      <th>1</th>\n",
       "      <td>0.078325</td>\n",
       "      <td>0.000420</td>\n",
       "      <td>0.004538</td>\n",
       "      <td>0.000214</td>\n",
       "      <td>0.243886</td>\n",
       "      <td>10</td>\n",
       "      <td>{'min_samples_split': 0.2438858553354759, 'n_e...</td>\n",
       "      <td>252.787380</td>\n",
       "      <td>250.080266</td>\n",
       "      <td>252.814259</td>\n",
       "      <td>251.893968</td>\n",
       "      <td>1.282528</td>\n",
       "      <td>8</td>\n",
       "    </tr>\n",
       "    <tr>\n",
       "      <th>2</th>\n",
       "      <td>0.059236</td>\n",
       "      <td>0.000416</td>\n",
       "      <td>0.007380</td>\n",
       "      <td>0.000084</td>\n",
       "      <td>0.666124</td>\n",
       "      <td>40</td>\n",
       "      <td>{'min_samples_split': 0.6661236457476513, 'n_e...</td>\n",
       "      <td>3297.603170</td>\n",
       "      <td>2612.125066</td>\n",
       "      <td>2351.994518</td>\n",
       "      <td>2753.907585</td>\n",
       "      <td>398.848879</td>\n",
       "      <td>2</td>\n",
       "    </tr>\n",
       "    <tr>\n",
       "      <th>3</th>\n",
       "      <td>0.115140</td>\n",
       "      <td>0.002635</td>\n",
       "      <td>0.012878</td>\n",
       "      <td>0.000186</td>\n",
       "      <td>0.684886</td>\n",
       "      <td>80</td>\n",
       "      <td>{'min_samples_split': 0.6848857131953626, 'n_e...</td>\n",
       "      <td>3296.914751</td>\n",
       "      <td>2612.037065</td>\n",
       "      <td>2351.355028</td>\n",
       "      <td>2753.435615</td>\n",
       "      <td>398.761382</td>\n",
       "      <td>3</td>\n",
       "    </tr>\n",
       "    <tr>\n",
       "      <th>4</th>\n",
       "      <td>0.031530</td>\n",
       "      <td>0.000572</td>\n",
       "      <td>0.005165</td>\n",
       "      <td>0.000045</td>\n",
       "      <td>0.872321</td>\n",
       "      <td>20</td>\n",
       "      <td>{'min_samples_split': 0.8723205106250693, 'n_e...</td>\n",
       "      <td>3297.275676</td>\n",
       "      <td>2611.994081</td>\n",
       "      <td>2353.043019</td>\n",
       "      <td>2754.104259</td>\n",
       "      <td>398.363573</td>\n",
       "      <td>1</td>\n",
       "    </tr>\n",
       "    <tr>\n",
       "      <th>5</th>\n",
       "      <td>0.160605</td>\n",
       "      <td>0.004422</td>\n",
       "      <td>0.006722</td>\n",
       "      <td>0.000333</td>\n",
       "      <td>0.197231</td>\n",
       "      <td>20</td>\n",
       "      <td>{'min_samples_split': 0.19723129575454612, 'n_...</td>\n",
       "      <td>238.887176</td>\n",
       "      <td>242.202479</td>\n",
       "      <td>247.248622</td>\n",
       "      <td>242.779425</td>\n",
       "      <td>3.437838</td>\n",
       "      <td>9</td>\n",
       "    </tr>\n",
       "    <tr>\n",
       "      <th>6</th>\n",
       "      <td>0.181489</td>\n",
       "      <td>0.001480</td>\n",
       "      <td>0.007036</td>\n",
       "      <td>0.000240</td>\n",
       "      <td>0.136826</td>\n",
       "      <td>20</td>\n",
       "      <td>{'min_samples_split': 0.13682552640932555, 'n_...</td>\n",
       "      <td>228.391109</td>\n",
       "      <td>234.113090</td>\n",
       "      <td>233.384500</td>\n",
       "      <td>231.962900</td>\n",
       "      <td>2.543092</td>\n",
       "      <td>10</td>\n",
       "    </tr>\n",
       "    <tr>\n",
       "      <th>7</th>\n",
       "      <td>0.504998</td>\n",
       "      <td>0.016481</td>\n",
       "      <td>0.016333</td>\n",
       "      <td>0.000346</td>\n",
       "      <td>0.47295</td>\n",
       "      <td>80</td>\n",
       "      <td>{'min_samples_split': 0.4729498260664814, 'n_e...</td>\n",
       "      <td>261.545356</td>\n",
       "      <td>267.641008</td>\n",
       "      <td>266.935220</td>\n",
       "      <td>265.373861</td>\n",
       "      <td>2.722453</td>\n",
       "      <td>5</td>\n",
       "    </tr>\n",
       "    <tr>\n",
       "      <th>8</th>\n",
       "      <td>0.404011</td>\n",
       "      <td>0.050591</td>\n",
       "      <td>0.013344</td>\n",
       "      <td>0.000162</td>\n",
       "      <td>0.530764</td>\n",
       "      <td>70</td>\n",
       "      <td>{'min_samples_split': 0.5307644817774131, 'n_e...</td>\n",
       "      <td>271.793603</td>\n",
       "      <td>273.685999</td>\n",
       "      <td>278.106265</td>\n",
       "      <td>274.528623</td>\n",
       "      <td>2.645113</td>\n",
       "      <td>4</td>\n",
       "    </tr>\n",
       "    <tr>\n",
       "      <th>9</th>\n",
       "      <td>0.546460</td>\n",
       "      <td>0.013849</td>\n",
       "      <td>0.017631</td>\n",
       "      <td>0.000478</td>\n",
       "      <td>0.327662</td>\n",
       "      <td>80</td>\n",
       "      <td>{'min_samples_split': 0.3276624209145824, 'n_e...</td>\n",
       "      <td>257.507257</td>\n",
       "      <td>260.361348</td>\n",
       "      <td>259.863441</td>\n",
       "      <td>259.244016</td>\n",
       "      <td>1.244782</td>\n",
       "      <td>6</td>\n",
       "    </tr>\n",
       "  </tbody>\n",
       "</table>\n",
       "</div>"
      ],
      "text/plain": [
       "   mean_fit_time  std_fit_time  mean_score_time  std_score_time  \\\n",
       "0       0.372180      0.003444         0.012079        0.000223   \n",
       "1       0.078325      0.000420         0.004538        0.000214   \n",
       "2       0.059236      0.000416         0.007380        0.000084   \n",
       "3       0.115140      0.002635         0.012878        0.000186   \n",
       "4       0.031530      0.000572         0.005165        0.000045   \n",
       "5       0.160605      0.004422         0.006722        0.000333   \n",
       "6       0.181489      0.001480         0.007036        0.000240   \n",
       "7       0.504998      0.016481         0.016333        0.000346   \n",
       "8       0.404011      0.050591         0.013344        0.000162   \n",
       "9       0.546460      0.013849         0.017631        0.000478   \n",
       "\n",
       "  param_min_samples_split param_n_estimators  \\\n",
       "0                0.270965                 50   \n",
       "1                0.243886                 10   \n",
       "2                0.666124                 40   \n",
       "3                0.684886                 80   \n",
       "4                0.872321                 20   \n",
       "5                0.197231                 20   \n",
       "6                0.136826                 20   \n",
       "7                 0.47295                 80   \n",
       "8                0.530764                 70   \n",
       "9                0.327662                 80   \n",
       "\n",
       "                                              params  split0_test_score  \\\n",
       "0  {'min_samples_split': 0.2709646947892821, 'n_e...         250.610319   \n",
       "1  {'min_samples_split': 0.2438858553354759, 'n_e...         252.787380   \n",
       "2  {'min_samples_split': 0.6661236457476513, 'n_e...        3297.603170   \n",
       "3  {'min_samples_split': 0.6848857131953626, 'n_e...        3296.914751   \n",
       "4  {'min_samples_split': 0.8723205106250693, 'n_e...        3297.275676   \n",
       "5  {'min_samples_split': 0.19723129575454612, 'n_...         238.887176   \n",
       "6  {'min_samples_split': 0.13682552640932555, 'n_...         228.391109   \n",
       "7  {'min_samples_split': 0.4729498260664814, 'n_e...         261.545356   \n",
       "8  {'min_samples_split': 0.5307644817774131, 'n_e...         271.793603   \n",
       "9  {'min_samples_split': 0.3276624209145824, 'n_e...         257.507257   \n",
       "\n",
       "   split1_test_score  split2_test_score  mean_test_score  std_test_score  \\\n",
       "0         254.902007         254.284068       253.265465        1.894344   \n",
       "1         250.080266         252.814259       251.893968        1.282528   \n",
       "2        2612.125066        2351.994518      2753.907585      398.848879   \n",
       "3        2612.037065        2351.355028      2753.435615      398.761382   \n",
       "4        2611.994081        2353.043019      2754.104259      398.363573   \n",
       "5         242.202479         247.248622       242.779425        3.437838   \n",
       "6         234.113090         233.384500       231.962900        2.543092   \n",
       "7         267.641008         266.935220       265.373861        2.722453   \n",
       "8         273.685999         278.106265       274.528623        2.645113   \n",
       "9         260.361348         259.863441       259.244016        1.244782   \n",
       "\n",
       "   rank_test_score  \n",
       "0                7  \n",
       "1                8  \n",
       "2                2  \n",
       "3                3  \n",
       "4                1  \n",
       "5                9  \n",
       "6               10  \n",
       "7                5  \n",
       "8                4  \n",
       "9                6  "
      ]
     },
     "execution_count": 21,
     "metadata": {},
     "output_type": "execute_result"
    }
   ],
   "source": [
    "pd.DataFrame(data=rcv.cv_results_)"
   ]
  },
  {
   "cell_type": "code",
   "execution_count": 22,
   "metadata": {},
   "outputs": [],
   "source": [
    "rfr = rcv.best_estimator_"
   ]
  },
  {
   "cell_type": "code",
   "execution_count": 23,
   "metadata": {},
   "outputs": [
    {
     "data": {
      "text/plain": [
       "2243.5235142065667"
      ]
     },
     "execution_count": 23,
     "metadata": {},
     "output_type": "execute_result"
    }
   ],
   "source": [
    "y_predict = rfr.predict(X_test)\n",
    "mean_squared_error(y_test, y_predict)"
   ]
  },
  {
   "cell_type": "markdown",
   "metadata": {},
   "source": [
    "# Classification"
   ]
  },
  {
   "cell_type": "code",
   "execution_count": 24,
   "metadata": {},
   "outputs": [],
   "source": [
    "df = pd.read_csv('~/DATA/Iris.csv', index_col=0)"
   ]
  },
  {
   "cell_type": "code",
   "execution_count": 25,
   "metadata": {},
   "outputs": [
    {
     "data": {
      "text/plain": [
       "(150, 5)"
      ]
     },
     "execution_count": 25,
     "metadata": {},
     "output_type": "execute_result"
    }
   ],
   "source": [
    "df.shape"
   ]
  },
  {
   "cell_type": "code",
   "execution_count": 26,
   "metadata": {},
   "outputs": [
    {
     "data": {
      "text/plain": [
       "SepalLengthCm    float64\n",
       "SepalWidthCm     float64\n",
       "PetalLengthCm    float64\n",
       "PetalWidthCm     float64\n",
       "Species           object\n",
       "dtype: object"
      ]
     },
     "execution_count": 26,
     "metadata": {},
     "output_type": "execute_result"
    }
   ],
   "source": [
    "df.dtypes"
   ]
  },
  {
   "cell_type": "code",
   "execution_count": 27,
   "metadata": {},
   "outputs": [],
   "source": [
    "X_train, X_test, y_train, y_test = train_test_split(df.iloc[:,:-1], df.iloc[:,-1])"
   ]
  },
  {
   "cell_type": "markdown",
   "metadata": {},
   "source": [
    "# Chi Squared"
   ]
  },
  {
   "cell_type": "code",
   "execution_count": 28,
   "metadata": {},
   "outputs": [],
   "source": [
    "chi_best = SelectKBest(chi2, k=3)\n",
    "X_train_fs = chi_best.fit_transform(X_train, y_train)\n",
    "X_test_fs = chi_best.transform(X_test)"
   ]
  },
  {
   "cell_type": "code",
   "execution_count": 29,
   "metadata": {},
   "outputs": [
    {
     "data": {
      "text/plain": [
       "array([3.10362864e-02, 2.13755627e-01, 5.12881988e-19, 1.76045283e-11])"
      ]
     },
     "execution_count": 29,
     "metadata": {},
     "output_type": "execute_result"
    }
   ],
   "source": [
    "chi_best.pvalues_"
   ]
  },
  {
   "cell_type": "code",
   "execution_count": 30,
   "metadata": {},
   "outputs": [
    {
     "data": {
      "text/html": [
       "<div>\n",
       "<style scoped>\n",
       "    .dataframe tbody tr th:only-of-type {\n",
       "        vertical-align: middle;\n",
       "    }\n",
       "\n",
       "    .dataframe tbody tr th {\n",
       "        vertical-align: top;\n",
       "    }\n",
       "\n",
       "    .dataframe thead th {\n",
       "        text-align: right;\n",
       "    }\n",
       "</style>\n",
       "<table border=\"1\" class=\"dataframe\">\n",
       "  <thead>\n",
       "    <tr style=\"text-align: right;\">\n",
       "      <th></th>\n",
       "      <th>SepalLengthCm</th>\n",
       "      <th>SepalWidthCm</th>\n",
       "      <th>PetalLengthCm</th>\n",
       "      <th>PetalWidthCm</th>\n",
       "    </tr>\n",
       "    <tr>\n",
       "      <th>Id</th>\n",
       "      <th></th>\n",
       "      <th></th>\n",
       "      <th></th>\n",
       "      <th></th>\n",
       "    </tr>\n",
       "  </thead>\n",
       "  <tbody>\n",
       "    <tr>\n",
       "      <th>147</th>\n",
       "      <td>6.3</td>\n",
       "      <td>2.5</td>\n",
       "      <td>5.0</td>\n",
       "      <td>1.9</td>\n",
       "    </tr>\n",
       "    <tr>\n",
       "      <th>27</th>\n",
       "      <td>5.0</td>\n",
       "      <td>3.4</td>\n",
       "      <td>1.6</td>\n",
       "      <td>0.4</td>\n",
       "    </tr>\n",
       "    <tr>\n",
       "      <th>88</th>\n",
       "      <td>6.3</td>\n",
       "      <td>2.3</td>\n",
       "      <td>4.4</td>\n",
       "      <td>1.3</td>\n",
       "    </tr>\n",
       "    <tr>\n",
       "      <th>15</th>\n",
       "      <td>5.8</td>\n",
       "      <td>4.0</td>\n",
       "      <td>1.2</td>\n",
       "      <td>0.2</td>\n",
       "    </tr>\n",
       "    <tr>\n",
       "      <th>33</th>\n",
       "      <td>5.2</td>\n",
       "      <td>4.1</td>\n",
       "      <td>1.5</td>\n",
       "      <td>0.1</td>\n",
       "    </tr>\n",
       "  </tbody>\n",
       "</table>\n",
       "</div>"
      ],
      "text/plain": [
       "     SepalLengthCm  SepalWidthCm  PetalLengthCm  PetalWidthCm\n",
       "Id                                                           \n",
       "147            6.3           2.5            5.0           1.9\n",
       "27             5.0           3.4            1.6           0.4\n",
       "88             6.3           2.3            4.4           1.3\n",
       "15             5.8           4.0            1.2           0.2\n",
       "33             5.2           4.1            1.5           0.1"
      ]
     },
     "execution_count": 30,
     "metadata": {},
     "output_type": "execute_result"
    }
   ],
   "source": [
    "X_train.head()"
   ]
  },
  {
   "cell_type": "code",
   "execution_count": 31,
   "metadata": {},
   "outputs": [
    {
     "data": {
      "text/plain": [
       "array([[6.3, 5. , 1.9],\n",
       "       [5. , 1.6, 0.4],\n",
       "       [6.3, 4.4, 1.3],\n",
       "       [5.8, 1.2, 0.2],\n",
       "       [5.2, 1.5, 0.1]])"
      ]
     },
     "execution_count": 31,
     "metadata": {},
     "output_type": "execute_result"
    }
   ],
   "source": [
    "X_train_fs[:5,:]"
   ]
  },
  {
   "cell_type": "code",
   "execution_count": 32,
   "metadata": {},
   "outputs": [],
   "source": [
    "rcv = RandomizedSearchCV(RandomForestClassifier(),\n",
    "                  {'n_estimators': range(10,100, 10),\n",
    "                   'min_samples_split': uniform()\n",
    "                  },\n",
    "                  )"
   ]
  },
  {
   "cell_type": "code",
   "execution_count": 33,
   "metadata": {},
   "outputs": [
    {
     "name": "stderr",
     "output_type": "stream",
     "text": [
      "/opt/conda/lib/python3.7/site-packages/sklearn/model_selection/_split.py:1978: FutureWarning: The default value of cv will change from 3 to 5 in version 0.22. Specify it explicitly to silence this warning.\n",
      "  warnings.warn(CV_WARNING, FutureWarning)\n",
      "/opt/conda/lib/python3.7/site-packages/sklearn/model_selection/_search.py:814: DeprecationWarning: The default of the `iid` parameter will change from True to False in version 0.22 and will be removed in 0.24. This will change numeric results when test-set sizes are unequal.\n",
      "  DeprecationWarning)\n"
     ]
    }
   ],
   "source": [
    "rcv = rcv.fit(X_train, y_train)"
   ]
  },
  {
   "cell_type": "code",
   "execution_count": 34,
   "metadata": {},
   "outputs": [
    {
     "data": {
      "text/html": [
       "<div>\n",
       "<style scoped>\n",
       "    .dataframe tbody tr th:only-of-type {\n",
       "        vertical-align: middle;\n",
       "    }\n",
       "\n",
       "    .dataframe tbody tr th {\n",
       "        vertical-align: top;\n",
       "    }\n",
       "\n",
       "    .dataframe thead th {\n",
       "        text-align: right;\n",
       "    }\n",
       "</style>\n",
       "<table border=\"1\" class=\"dataframe\">\n",
       "  <thead>\n",
       "    <tr style=\"text-align: right;\">\n",
       "      <th></th>\n",
       "      <th>mean_fit_time</th>\n",
       "      <th>std_fit_time</th>\n",
       "      <th>mean_score_time</th>\n",
       "      <th>std_score_time</th>\n",
       "      <th>param_min_samples_split</th>\n",
       "      <th>param_n_estimators</th>\n",
       "      <th>params</th>\n",
       "      <th>split0_test_score</th>\n",
       "      <th>split1_test_score</th>\n",
       "      <th>split2_test_score</th>\n",
       "      <th>mean_test_score</th>\n",
       "      <th>std_test_score</th>\n",
       "      <th>rank_test_score</th>\n",
       "    </tr>\n",
       "  </thead>\n",
       "  <tbody>\n",
       "    <tr>\n",
       "      <th>0</th>\n",
       "      <td>0.089775</td>\n",
       "      <td>0.002026</td>\n",
       "      <td>0.011413</td>\n",
       "      <td>0.000145</td>\n",
       "      <td>0.797978</td>\n",
       "      <td>60</td>\n",
       "      <td>{'min_samples_split': 0.7979781689491019, 'n_e...</td>\n",
       "      <td>0.333333</td>\n",
       "      <td>0.351351</td>\n",
       "      <td>0.333333</td>\n",
       "      <td>0.339286</td>\n",
       "      <td>0.008475</td>\n",
       "      <td>6</td>\n",
       "    </tr>\n",
       "    <tr>\n",
       "      <th>1</th>\n",
       "      <td>0.036712</td>\n",
       "      <td>0.006261</td>\n",
       "      <td>0.005339</td>\n",
       "      <td>0.000069</td>\n",
       "      <td>0.0803024</td>\n",
       "      <td>20</td>\n",
       "      <td>{'min_samples_split': 0.08030235307295386, 'n_...</td>\n",
       "      <td>0.923077</td>\n",
       "      <td>1.000000</td>\n",
       "      <td>0.944444</td>\n",
       "      <td>0.955357</td>\n",
       "      <td>0.032550</td>\n",
       "      <td>2</td>\n",
       "    </tr>\n",
       "    <tr>\n",
       "      <th>2</th>\n",
       "      <td>0.132990</td>\n",
       "      <td>0.000605</td>\n",
       "      <td>0.015952</td>\n",
       "      <td>0.000232</td>\n",
       "      <td>0.138136</td>\n",
       "      <td>90</td>\n",
       "      <td>{'min_samples_split': 0.13813596522113558, 'n_...</td>\n",
       "      <td>0.923077</td>\n",
       "      <td>1.000000</td>\n",
       "      <td>0.916667</td>\n",
       "      <td>0.946429</td>\n",
       "      <td>0.037718</td>\n",
       "      <td>4</td>\n",
       "    </tr>\n",
       "    <tr>\n",
       "      <th>3</th>\n",
       "      <td>0.122691</td>\n",
       "      <td>0.020552</td>\n",
       "      <td>0.013389</td>\n",
       "      <td>0.000638</td>\n",
       "      <td>0.39023</td>\n",
       "      <td>70</td>\n",
       "      <td>{'min_samples_split': 0.3902302126813324, 'n_e...</td>\n",
       "      <td>0.923077</td>\n",
       "      <td>1.000000</td>\n",
       "      <td>0.916667</td>\n",
       "      <td>0.946429</td>\n",
       "      <td>0.037718</td>\n",
       "      <td>4</td>\n",
       "    </tr>\n",
       "    <tr>\n",
       "      <th>4</th>\n",
       "      <td>0.103746</td>\n",
       "      <td>0.000739</td>\n",
       "      <td>0.013049</td>\n",
       "      <td>0.000313</td>\n",
       "      <td>0.342953</td>\n",
       "      <td>70</td>\n",
       "      <td>{'min_samples_split': 0.3429533169469444, 'n_e...</td>\n",
       "      <td>0.923077</td>\n",
       "      <td>1.000000</td>\n",
       "      <td>0.972222</td>\n",
       "      <td>0.964286</td>\n",
       "      <td>0.032139</td>\n",
       "      <td>1</td>\n",
       "    </tr>\n",
       "    <tr>\n",
       "      <th>5</th>\n",
       "      <td>0.086185</td>\n",
       "      <td>0.000660</td>\n",
       "      <td>0.011194</td>\n",
       "      <td>0.000384</td>\n",
       "      <td>0.000305664</td>\n",
       "      <td>60</td>\n",
       "      <td>{'min_samples_split': 0.000305664441768716, 'n...</td>\n",
       "      <td>0.923077</td>\n",
       "      <td>0.972973</td>\n",
       "      <td>0.972222</td>\n",
       "      <td>0.955357</td>\n",
       "      <td>0.023596</td>\n",
       "      <td>2</td>\n",
       "    </tr>\n",
       "    <tr>\n",
       "      <th>6</th>\n",
       "      <td>0.031317</td>\n",
       "      <td>0.000273</td>\n",
       "      <td>0.005265</td>\n",
       "      <td>0.000049</td>\n",
       "      <td>0.996255</td>\n",
       "      <td>20</td>\n",
       "      <td>{'min_samples_split': 0.9962552440904059, 'n_e...</td>\n",
       "      <td>0.333333</td>\n",
       "      <td>0.324324</td>\n",
       "      <td>0.333333</td>\n",
       "      <td>0.330357</td>\n",
       "      <td>0.004237</td>\n",
       "      <td>8</td>\n",
       "    </tr>\n",
       "    <tr>\n",
       "      <th>7</th>\n",
       "      <td>0.088975</td>\n",
       "      <td>0.001877</td>\n",
       "      <td>0.011478</td>\n",
       "      <td>0.000170</td>\n",
       "      <td>0.817627</td>\n",
       "      <td>60</td>\n",
       "      <td>{'min_samples_split': 0.8176273047366948, 'n_e...</td>\n",
       "      <td>0.333333</td>\n",
       "      <td>0.351351</td>\n",
       "      <td>0.333333</td>\n",
       "      <td>0.339286</td>\n",
       "      <td>0.008475</td>\n",
       "      <td>6</td>\n",
       "    </tr>\n",
       "    <tr>\n",
       "      <th>8</th>\n",
       "      <td>0.112198</td>\n",
       "      <td>0.002311</td>\n",
       "      <td>0.013910</td>\n",
       "      <td>0.000739</td>\n",
       "      <td>0.86049</td>\n",
       "      <td>80</td>\n",
       "      <td>{'min_samples_split': 0.86048953404825, 'n_est...</td>\n",
       "      <td>0.333333</td>\n",
       "      <td>0.324324</td>\n",
       "      <td>0.333333</td>\n",
       "      <td>0.330357</td>\n",
       "      <td>0.004237</td>\n",
       "      <td>8</td>\n",
       "    </tr>\n",
       "    <tr>\n",
       "      <th>9</th>\n",
       "      <td>0.089002</td>\n",
       "      <td>0.002441</td>\n",
       "      <td>0.011630</td>\n",
       "      <td>0.000345</td>\n",
       "      <td>0.816013</td>\n",
       "      <td>60</td>\n",
       "      <td>{'min_samples_split': 0.8160133572388177, 'n_e...</td>\n",
       "      <td>0.333333</td>\n",
       "      <td>0.324324</td>\n",
       "      <td>0.333333</td>\n",
       "      <td>0.330357</td>\n",
       "      <td>0.004237</td>\n",
       "      <td>8</td>\n",
       "    </tr>\n",
       "  </tbody>\n",
       "</table>\n",
       "</div>"
      ],
      "text/plain": [
       "   mean_fit_time  std_fit_time  mean_score_time  std_score_time  \\\n",
       "0       0.089775      0.002026         0.011413        0.000145   \n",
       "1       0.036712      0.006261         0.005339        0.000069   \n",
       "2       0.132990      0.000605         0.015952        0.000232   \n",
       "3       0.122691      0.020552         0.013389        0.000638   \n",
       "4       0.103746      0.000739         0.013049        0.000313   \n",
       "5       0.086185      0.000660         0.011194        0.000384   \n",
       "6       0.031317      0.000273         0.005265        0.000049   \n",
       "7       0.088975      0.001877         0.011478        0.000170   \n",
       "8       0.112198      0.002311         0.013910        0.000739   \n",
       "9       0.089002      0.002441         0.011630        0.000345   \n",
       "\n",
       "  param_min_samples_split param_n_estimators  \\\n",
       "0                0.797978                 60   \n",
       "1               0.0803024                 20   \n",
       "2                0.138136                 90   \n",
       "3                 0.39023                 70   \n",
       "4                0.342953                 70   \n",
       "5             0.000305664                 60   \n",
       "6                0.996255                 20   \n",
       "7                0.817627                 60   \n",
       "8                 0.86049                 80   \n",
       "9                0.816013                 60   \n",
       "\n",
       "                                              params  split0_test_score  \\\n",
       "0  {'min_samples_split': 0.7979781689491019, 'n_e...           0.333333   \n",
       "1  {'min_samples_split': 0.08030235307295386, 'n_...           0.923077   \n",
       "2  {'min_samples_split': 0.13813596522113558, 'n_...           0.923077   \n",
       "3  {'min_samples_split': 0.3902302126813324, 'n_e...           0.923077   \n",
       "4  {'min_samples_split': 0.3429533169469444, 'n_e...           0.923077   \n",
       "5  {'min_samples_split': 0.000305664441768716, 'n...           0.923077   \n",
       "6  {'min_samples_split': 0.9962552440904059, 'n_e...           0.333333   \n",
       "7  {'min_samples_split': 0.8176273047366948, 'n_e...           0.333333   \n",
       "8  {'min_samples_split': 0.86048953404825, 'n_est...           0.333333   \n",
       "9  {'min_samples_split': 0.8160133572388177, 'n_e...           0.333333   \n",
       "\n",
       "   split1_test_score  split2_test_score  mean_test_score  std_test_score  \\\n",
       "0           0.351351           0.333333         0.339286        0.008475   \n",
       "1           1.000000           0.944444         0.955357        0.032550   \n",
       "2           1.000000           0.916667         0.946429        0.037718   \n",
       "3           1.000000           0.916667         0.946429        0.037718   \n",
       "4           1.000000           0.972222         0.964286        0.032139   \n",
       "5           0.972973           0.972222         0.955357        0.023596   \n",
       "6           0.324324           0.333333         0.330357        0.004237   \n",
       "7           0.351351           0.333333         0.339286        0.008475   \n",
       "8           0.324324           0.333333         0.330357        0.004237   \n",
       "9           0.324324           0.333333         0.330357        0.004237   \n",
       "\n",
       "   rank_test_score  \n",
       "0                6  \n",
       "1                2  \n",
       "2                4  \n",
       "3                4  \n",
       "4                1  \n",
       "5                2  \n",
       "6                8  \n",
       "7                6  \n",
       "8                8  \n",
       "9                8  "
      ]
     },
     "execution_count": 34,
     "metadata": {},
     "output_type": "execute_result"
    }
   ],
   "source": [
    "pd.DataFrame(data=rcv.cv_results_)"
   ]
  },
  {
   "cell_type": "code",
   "execution_count": 35,
   "metadata": {},
   "outputs": [],
   "source": [
    "rfc = rcv.best_estimator_"
   ]
  },
  {
   "cell_type": "code",
   "execution_count": 36,
   "metadata": {},
   "outputs": [
    {
     "data": {
      "text/plain": [
       "0.9473684210526315"
      ]
     },
     "execution_count": 36,
     "metadata": {},
     "output_type": "execute_result"
    }
   ],
   "source": [
    "y_predict = rfc.predict(X_test)\n",
    "accuracy_score(y_test, y_predict)"
   ]
  },
  {
   "cell_type": "markdown",
   "metadata": {},
   "source": [
    "# Exercise 1\n",
    "\n",
    "Run feature selection and hyperparameter optimization with randomized search cross validation on the [crowdsource mapping](https://archive.ics.uci.edu/ml/datasets/Crowdsourced+Mapping) dataset using a SVM"
   ]
  },
  {
   "cell_type": "code",
   "execution_count": null,
   "metadata": {},
   "outputs": [],
   "source": [
    "#imports"
   ]
  },
  {
   "cell_type": "code",
   "execution_count": null,
   "metadata": {},
   "outputs": [],
   "source": [
    "# load the dataset\n",
    "train_df = pd.read_csv(#fill in the path to file)\n",
    "test_df = pd.read_csv(#fill in the path to file)\n"
   ]
  },
  {
   "cell_type": "code",
   "execution_count": null,
   "metadata": {},
   "outputs": [],
   "source": [
    "#slice out the features\n",
    "X_train = train_df[]\n",
    "X_test = test_df[]\n",
    "\n",
    "y_train = train_df[]\n",
    "y_test = test_df[]"
   ]
  },
  {
   "cell_type": "code",
   "execution_count": null,
   "metadata": {},
   "outputs": [],
   "source": [
    "#feature selection"
   ]
  },
  {
   "cell_type": "code",
   "execution_count": null,
   "metadata": {},
   "outputs": [],
   "source": [
    "rcv = RandomizedSearchCV(\n",
    "#classifier\n",
    "#dict containing parameters and ranges\n",
    ")"
   ]
  },
  {
   "cell_type": "code",
   "execution_count": null,
   "metadata": {},
   "outputs": [],
   "source": [
    "svc = rcv.best_estimator_\n",
    "y_pred = svc.predict(X_test)\n",
    "classification_report(y_test, y_pred)"
   ]
  },
  {
   "cell_type": "markdown",
   "metadata": {},
   "source": [
    "# Exercise 2\n",
    "\n",
    "Run feature selection and hyperparameter optimization with randomized search cross validation on the Air Quality dataset using a SVM"
   ]
  },
  {
   "cell_type": "code",
   "execution_count": null,
   "metadata": {},
   "outputs": [],
   "source": [
    "#imports"
   ]
  },
  {
   "cell_type": "code",
   "execution_count": null,
   "metadata": {},
   "outputs": [],
   "source": [
    "# load the dataset\n",
    "train_df = pd.read_csv(#fill in the path to file)\n",
    "test_df = pd.read_csv(#fill in the path to file)\n"
   ]
  },
  {
   "cell_type": "code",
   "execution_count": null,
   "metadata": {},
   "outputs": [],
   "source": [
    "#slice out the features\n",
    "X_train = train_df[]\n",
    "X_test = test_df[]\n",
    "\n",
    "y_train = train_df[]\n",
    "y_test = test_df[]"
   ]
  },
  {
   "cell_type": "code",
   "execution_count": null,
   "metadata": {},
   "outputs": [],
   "source": [
    "#feature selection"
   ]
  },
  {
   "cell_type": "code",
   "execution_count": null,
   "metadata": {},
   "outputs": [],
   "source": [
    "rcv = RandomizedSearchCV(\n",
    "#classifier\n",
    "#dict containing parameters and ranges\n",
    ")"
   ]
  },
  {
   "cell_type": "code",
   "execution_count": null,
   "metadata": {},
   "outputs": [],
   "source": [
    "svc = rcv.best_estimator_\n",
    "y_pred = svc.predict(X_test)\n",
    "classification_report(y_test, y_pred)"
   ]
  }
 ],
 "metadata": {
  "kernelspec": {
   "display_name": "Python 3",
   "language": "python",
   "name": "python3"
  },
  "language_info": {
   "codemirror_mode": {
    "name": "ipython",
    "version": 3
   },
   "file_extension": ".py",
   "mimetype": "text/x-python",
   "name": "python",
   "nbconvert_exporter": "python",
   "pygments_lexer": "ipython3",
   "version": "3.7.3"
  }
 },
 "nbformat": 4,
 "nbformat_minor": 2
}
