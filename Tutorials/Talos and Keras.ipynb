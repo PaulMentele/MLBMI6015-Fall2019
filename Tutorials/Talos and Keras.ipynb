{
 "cells": [
  {
   "cell_type": "code",
   "execution_count": 1,
   "metadata": {},
   "outputs": [
    {
     "name": "stderr",
     "output_type": "stream",
     "text": [
      "Using TensorFlow backend.\n"
     ]
    }
   ],
   "source": [
    "import pandas as pd\n",
    "import numpy as np\n",
    "import keras\n",
    "import talos as ta"
   ]
  },
  {
   "cell_type": "code",
   "execution_count": 2,
   "metadata": {},
   "outputs": [],
   "source": [
    "from sklearn.model_selection import train_test_split\n",
    "from sklearn.preprocessing import StandardScaler"
   ]
  },
  {
   "cell_type": "code",
   "execution_count": 3,
   "metadata": {},
   "outputs": [],
   "source": [
    "from talos.utils import metrics"
   ]
  },
  {
   "cell_type": "code",
   "execution_count": 4,
   "metadata": {},
   "outputs": [],
   "source": [
    "from keras.models import Sequential\n",
    "from keras.layers import Dense\n",
    "from keras.optimizers import SGD"
   ]
  },
  {
   "cell_type": "code",
   "execution_count": 5,
   "metadata": {},
   "outputs": [],
   "source": [
    "from keras import backend as K"
   ]
  },
  {
   "cell_type": "markdown",
   "metadata": {},
   "source": [
    "# Load the dataset \n",
    "were using the [Mammography Mass](http://archive.ics.uci.edu/ml/datasets/mammographic+mass) dataset from UCI Machine Learning Repository"
   ]
  },
  {
   "cell_type": "code",
   "execution_count": 6,
   "metadata": {},
   "outputs": [],
   "source": [
    "df = pd.read_csv('~/DATA/mammographic_masses.data', na_values='?', names=['BI-RADS', 'Age', 'Shape', 'Margin', 'Density', 'Severity'])"
   ]
  },
  {
   "cell_type": "code",
   "execution_count": 7,
   "metadata": {},
   "outputs": [
    {
     "data": {
      "text/html": [
       "<div>\n",
       "<style scoped>\n",
       "    .dataframe tbody tr th:only-of-type {\n",
       "        vertical-align: middle;\n",
       "    }\n",
       "\n",
       "    .dataframe tbody tr th {\n",
       "        vertical-align: top;\n",
       "    }\n",
       "\n",
       "    .dataframe thead th {\n",
       "        text-align: right;\n",
       "    }\n",
       "</style>\n",
       "<table border=\"1\" class=\"dataframe\">\n",
       "  <thead>\n",
       "    <tr style=\"text-align: right;\">\n",
       "      <th></th>\n",
       "      <th>BI-RADS</th>\n",
       "      <th>Age</th>\n",
       "      <th>Shape</th>\n",
       "      <th>Margin</th>\n",
       "      <th>Density</th>\n",
       "      <th>Severity</th>\n",
       "    </tr>\n",
       "  </thead>\n",
       "  <tbody>\n",
       "    <tr>\n",
       "      <th>0</th>\n",
       "      <td>5.0</td>\n",
       "      <td>67.0</td>\n",
       "      <td>3.0</td>\n",
       "      <td>5.0</td>\n",
       "      <td>3.0</td>\n",
       "      <td>1</td>\n",
       "    </tr>\n",
       "    <tr>\n",
       "      <th>1</th>\n",
       "      <td>4.0</td>\n",
       "      <td>43.0</td>\n",
       "      <td>1.0</td>\n",
       "      <td>1.0</td>\n",
       "      <td>NaN</td>\n",
       "      <td>1</td>\n",
       "    </tr>\n",
       "    <tr>\n",
       "      <th>2</th>\n",
       "      <td>5.0</td>\n",
       "      <td>58.0</td>\n",
       "      <td>4.0</td>\n",
       "      <td>5.0</td>\n",
       "      <td>3.0</td>\n",
       "      <td>1</td>\n",
       "    </tr>\n",
       "    <tr>\n",
       "      <th>3</th>\n",
       "      <td>4.0</td>\n",
       "      <td>28.0</td>\n",
       "      <td>1.0</td>\n",
       "      <td>1.0</td>\n",
       "      <td>3.0</td>\n",
       "      <td>0</td>\n",
       "    </tr>\n",
       "    <tr>\n",
       "      <th>4</th>\n",
       "      <td>5.0</td>\n",
       "      <td>74.0</td>\n",
       "      <td>1.0</td>\n",
       "      <td>5.0</td>\n",
       "      <td>NaN</td>\n",
       "      <td>1</td>\n",
       "    </tr>\n",
       "  </tbody>\n",
       "</table>\n",
       "</div>"
      ],
      "text/plain": [
       "   BI-RADS   Age  Shape  Margin  Density  Severity\n",
       "0      5.0  67.0    3.0     5.0      3.0         1\n",
       "1      4.0  43.0    1.0     1.0      NaN         1\n",
       "2      5.0  58.0    4.0     5.0      3.0         1\n",
       "3      4.0  28.0    1.0     1.0      3.0         0\n",
       "4      5.0  74.0    1.0     5.0      NaN         1"
      ]
     },
     "execution_count": 7,
     "metadata": {},
     "output_type": "execute_result"
    }
   ],
   "source": [
    "df.head()"
   ]
  },
  {
   "cell_type": "code",
   "execution_count": 8,
   "metadata": {},
   "outputs": [
    {
     "data": {
      "text/plain": [
       "(961, 6)"
      ]
     },
     "execution_count": 8,
     "metadata": {},
     "output_type": "execute_result"
    }
   ],
   "source": [
    "df.shape"
   ]
  },
  {
   "cell_type": "code",
   "execution_count": 9,
   "metadata": {},
   "outputs": [
    {
     "data": {
      "text/plain": [
       "BI-RADS      2\n",
       "Age          5\n",
       "Shape       31\n",
       "Margin      48\n",
       "Density     76\n",
       "Severity     0\n",
       "dtype: int64"
      ]
     },
     "execution_count": 9,
     "metadata": {},
     "output_type": "execute_result"
    }
   ],
   "source": [
    "df.isna().sum()"
   ]
  },
  {
   "cell_type": "markdown",
   "metadata": {},
   "source": [
    "According the the data description the 'BI-RADS' column is not predictive. We will drop this column along with any rows with missing values"
   ]
  },
  {
   "cell_type": "code",
   "execution_count": 10,
   "metadata": {},
   "outputs": [
    {
     "data": {
      "text/html": [
       "<div>\n",
       "<style scoped>\n",
       "    .dataframe tbody tr th:only-of-type {\n",
       "        vertical-align: middle;\n",
       "    }\n",
       "\n",
       "    .dataframe tbody tr th {\n",
       "        vertical-align: top;\n",
       "    }\n",
       "\n",
       "    .dataframe thead th {\n",
       "        text-align: right;\n",
       "    }\n",
       "</style>\n",
       "<table border=\"1\" class=\"dataframe\">\n",
       "  <thead>\n",
       "    <tr style=\"text-align: right;\">\n",
       "      <th></th>\n",
       "      <th>Age</th>\n",
       "      <th>Shape</th>\n",
       "      <th>Margin</th>\n",
       "      <th>Density</th>\n",
       "      <th>Severity</th>\n",
       "    </tr>\n",
       "  </thead>\n",
       "  <tbody>\n",
       "    <tr>\n",
       "      <th>0</th>\n",
       "      <td>67.0</td>\n",
       "      <td>3.0</td>\n",
       "      <td>5.0</td>\n",
       "      <td>3.0</td>\n",
       "      <td>1</td>\n",
       "    </tr>\n",
       "    <tr>\n",
       "      <th>1</th>\n",
       "      <td>43.0</td>\n",
       "      <td>1.0</td>\n",
       "      <td>1.0</td>\n",
       "      <td>NaN</td>\n",
       "      <td>1</td>\n",
       "    </tr>\n",
       "    <tr>\n",
       "      <th>2</th>\n",
       "      <td>58.0</td>\n",
       "      <td>4.0</td>\n",
       "      <td>5.0</td>\n",
       "      <td>3.0</td>\n",
       "      <td>1</td>\n",
       "    </tr>\n",
       "    <tr>\n",
       "      <th>3</th>\n",
       "      <td>28.0</td>\n",
       "      <td>1.0</td>\n",
       "      <td>1.0</td>\n",
       "      <td>3.0</td>\n",
       "      <td>0</td>\n",
       "    </tr>\n",
       "    <tr>\n",
       "      <th>4</th>\n",
       "      <td>74.0</td>\n",
       "      <td>1.0</td>\n",
       "      <td>5.0</td>\n",
       "      <td>NaN</td>\n",
       "      <td>1</td>\n",
       "    </tr>\n",
       "  </tbody>\n",
       "</table>\n",
       "</div>"
      ],
      "text/plain": [
       "    Age  Shape  Margin  Density  Severity\n",
       "0  67.0    3.0     5.0      3.0         1\n",
       "1  43.0    1.0     1.0      NaN         1\n",
       "2  58.0    4.0     5.0      3.0         1\n",
       "3  28.0    1.0     1.0      3.0         0\n",
       "4  74.0    1.0     5.0      NaN         1"
      ]
     },
     "execution_count": 10,
     "metadata": {},
     "output_type": "execute_result"
    }
   ],
   "source": [
    "df = df.drop('BI-RADS', axis=1)\n",
    "df.head()"
   ]
  },
  {
   "cell_type": "code",
   "execution_count": 11,
   "metadata": {},
   "outputs": [
    {
     "data": {
      "text/plain": [
       "(831, 5)"
      ]
     },
     "execution_count": 11,
     "metadata": {},
     "output_type": "execute_result"
    }
   ],
   "source": [
    "no_nan_df = df.dropna()\n",
    "no_nan_df.shape"
   ]
  },
  {
   "cell_type": "code",
   "execution_count": 12,
   "metadata": {},
   "outputs": [
    {
     "data": {
      "text/html": [
       "<div>\n",
       "<style scoped>\n",
       "    .dataframe tbody tr th:only-of-type {\n",
       "        vertical-align: middle;\n",
       "    }\n",
       "\n",
       "    .dataframe tbody tr th {\n",
       "        vertical-align: top;\n",
       "    }\n",
       "\n",
       "    .dataframe thead th {\n",
       "        text-align: right;\n",
       "    }\n",
       "</style>\n",
       "<table border=\"1\" class=\"dataframe\">\n",
       "  <thead>\n",
       "    <tr style=\"text-align: right;\">\n",
       "      <th></th>\n",
       "      <th>Age</th>\n",
       "      <th>Shape</th>\n",
       "      <th>Margin</th>\n",
       "      <th>Density</th>\n",
       "      <th>Severity</th>\n",
       "    </tr>\n",
       "  </thead>\n",
       "  <tbody>\n",
       "    <tr>\n",
       "      <th>0</th>\n",
       "      <td>67.0</td>\n",
       "      <td>3.0</td>\n",
       "      <td>5.0</td>\n",
       "      <td>3.0</td>\n",
       "      <td>1</td>\n",
       "    </tr>\n",
       "    <tr>\n",
       "      <th>2</th>\n",
       "      <td>58.0</td>\n",
       "      <td>4.0</td>\n",
       "      <td>5.0</td>\n",
       "      <td>3.0</td>\n",
       "      <td>1</td>\n",
       "    </tr>\n",
       "    <tr>\n",
       "      <th>3</th>\n",
       "      <td>28.0</td>\n",
       "      <td>1.0</td>\n",
       "      <td>1.0</td>\n",
       "      <td>3.0</td>\n",
       "      <td>0</td>\n",
       "    </tr>\n",
       "    <tr>\n",
       "      <th>8</th>\n",
       "      <td>57.0</td>\n",
       "      <td>1.0</td>\n",
       "      <td>5.0</td>\n",
       "      <td>3.0</td>\n",
       "      <td>1</td>\n",
       "    </tr>\n",
       "    <tr>\n",
       "      <th>10</th>\n",
       "      <td>76.0</td>\n",
       "      <td>1.0</td>\n",
       "      <td>4.0</td>\n",
       "      <td>3.0</td>\n",
       "      <td>1</td>\n",
       "    </tr>\n",
       "  </tbody>\n",
       "</table>\n",
       "</div>"
      ],
      "text/plain": [
       "     Age  Shape  Margin  Density  Severity\n",
       "0   67.0    3.0     5.0      3.0         1\n",
       "2   58.0    4.0     5.0      3.0         1\n",
       "3   28.0    1.0     1.0      3.0         0\n",
       "8   57.0    1.0     5.0      3.0         1\n",
       "10  76.0    1.0     4.0      3.0         1"
      ]
     },
     "execution_count": 12,
     "metadata": {},
     "output_type": "execute_result"
    }
   ],
   "source": [
    "no_nan_df.head()"
   ]
  },
  {
   "cell_type": "markdown",
   "metadata": {},
   "source": [
    "# Split data"
   ]
  },
  {
   "cell_type": "code",
   "execution_count": 13,
   "metadata": {},
   "outputs": [],
   "source": [
    "X_train, X_test, y_train, y_test = train_test_split(no_nan_df.iloc[:,:4], no_nan_df.iloc[:,4], train_size=0.6)\n",
    "X_val, X_test, y_val, y_test = train_test_split(X_test, y_test, train_size=0.5)"
   ]
  },
  {
   "cell_type": "code",
   "execution_count": 14,
   "metadata": {},
   "outputs": [
    {
     "data": {
      "text/html": [
       "<div>\n",
       "<style scoped>\n",
       "    .dataframe tbody tr th:only-of-type {\n",
       "        vertical-align: middle;\n",
       "    }\n",
       "\n",
       "    .dataframe tbody tr th {\n",
       "        vertical-align: top;\n",
       "    }\n",
       "\n",
       "    .dataframe thead th {\n",
       "        text-align: right;\n",
       "    }\n",
       "</style>\n",
       "<table border=\"1\" class=\"dataframe\">\n",
       "  <thead>\n",
       "    <tr style=\"text-align: right;\">\n",
       "      <th></th>\n",
       "      <th>Age</th>\n",
       "      <th>Shape</th>\n",
       "      <th>Margin</th>\n",
       "      <th>Density</th>\n",
       "    </tr>\n",
       "  </thead>\n",
       "  <tbody>\n",
       "    <tr>\n",
       "      <th>419</th>\n",
       "      <td>78.0</td>\n",
       "      <td>4.0</td>\n",
       "      <td>4.0</td>\n",
       "      <td>3.0</td>\n",
       "    </tr>\n",
       "    <tr>\n",
       "      <th>300</th>\n",
       "      <td>49.0</td>\n",
       "      <td>4.0</td>\n",
       "      <td>5.0</td>\n",
       "      <td>3.0</td>\n",
       "    </tr>\n",
       "    <tr>\n",
       "      <th>211</th>\n",
       "      <td>69.0</td>\n",
       "      <td>3.0</td>\n",
       "      <td>1.0</td>\n",
       "      <td>3.0</td>\n",
       "    </tr>\n",
       "    <tr>\n",
       "      <th>792</th>\n",
       "      <td>41.0</td>\n",
       "      <td>4.0</td>\n",
       "      <td>3.0</td>\n",
       "      <td>2.0</td>\n",
       "    </tr>\n",
       "    <tr>\n",
       "      <th>347</th>\n",
       "      <td>78.0</td>\n",
       "      <td>4.0</td>\n",
       "      <td>4.0</td>\n",
       "      <td>3.0</td>\n",
       "    </tr>\n",
       "  </tbody>\n",
       "</table>\n",
       "</div>"
      ],
      "text/plain": [
       "      Age  Shape  Margin  Density\n",
       "419  78.0    4.0     4.0      3.0\n",
       "300  49.0    4.0     5.0      3.0\n",
       "211  69.0    3.0     1.0      3.0\n",
       "792  41.0    4.0     3.0      2.0\n",
       "347  78.0    4.0     4.0      3.0"
      ]
     },
     "execution_count": 14,
     "metadata": {},
     "output_type": "execute_result"
    }
   ],
   "source": [
    "X_val.head()"
   ]
  },
  {
   "cell_type": "code",
   "execution_count": 15,
   "metadata": {},
   "outputs": [
    {
     "data": {
      "text/plain": [
       "269    1\n",
       "481    0\n",
       "34     0\n",
       "465    0\n",
       "483    0\n",
       "Name: Severity, dtype: int64"
      ]
     },
     "execution_count": 15,
     "metadata": {},
     "output_type": "execute_result"
    }
   ],
   "source": [
    "y_train.head()"
   ]
  },
  {
   "cell_type": "markdown",
   "metadata": {},
   "source": [
    "# Scale the data"
   ]
  },
  {
   "cell_type": "code",
   "execution_count": 16,
   "metadata": {},
   "outputs": [],
   "source": [
    "sc = StandardScaler()\n",
    "X_train = sc.fit_transform(X_train)\n",
    "X_test = sc.transform(X_test)\n",
    "X_val = sc.transform(X_val)"
   ]
  },
  {
   "cell_type": "markdown",
   "metadata": {},
   "source": [
    "# Set up the keras model as Baseline (without Talos)"
   ]
  },
  {
   "cell_type": "code",
   "execution_count": 17,
   "metadata": {},
   "outputs": [
    {
     "name": "stdout",
     "output_type": "stream",
     "text": [
      "WARNING:tensorflow:From /opt/conda/lib/python3.7/site-packages/tensorflow/python/framework/op_def_library.py:263: colocate_with (from tensorflow.python.framework.ops) is deprecated and will be removed in a future version.\n",
      "Instructions for updating:\n",
      "Colocations handled automatically by placer.\n"
     ]
    }
   ],
   "source": [
    "K.clear_session()\n",
    "model = Sequential()\n",
    "model.add(Dense(4, activation='relu', input_dim=4))\n",
    "model.add(Dense(4, activation='relu'))\n",
    "model.add(Dense(1, activation='sigmoid'))\n",
    "model.compile(\n",
    "    loss='binary_crossentropy',\n",
    "    optimizer='sgd',\n",
    "    metrics=['accuracy', metrics.precision, metrics.recall, metrics.f1score]\n",
    ")"
   ]
  },
  {
   "cell_type": "code",
   "execution_count": 18,
   "metadata": {},
   "outputs": [
    {
     "name": "stdout",
     "output_type": "stream",
     "text": [
      "_________________________________________________________________\n",
      "Layer (type)                 Output Shape              Param #   \n",
      "=================================================================\n",
      "dense_1 (Dense)              (None, 4)                 20        \n",
      "_________________________________________________________________\n",
      "dense_2 (Dense)              (None, 4)                 20        \n",
      "_________________________________________________________________\n",
      "dense_3 (Dense)              (None, 1)                 5         \n",
      "=================================================================\n",
      "Total params: 45\n",
      "Trainable params: 45\n",
      "Non-trainable params: 0\n",
      "_________________________________________________________________\n"
     ]
    }
   ],
   "source": [
    "model.summary()"
   ]
  },
  {
   "cell_type": "markdown",
   "metadata": {},
   "source": [
    "# Train your model"
   ]
  },
  {
   "cell_type": "code",
   "execution_count": 19,
   "metadata": {
    "scrolled": true
   },
   "outputs": [
    {
     "name": "stdout",
     "output_type": "stream",
     "text": [
      "WARNING:tensorflow:From /opt/conda/lib/python3.7/site-packages/tensorflow/python/ops/math_ops.py:3066: to_int32 (from tensorflow.python.ops.math_ops) is deprecated and will be removed in a future version.\n",
      "Instructions for updating:\n",
      "Use tf.cast instead.\n",
      "Train on 498 samples, validate on 166 samples\n",
      "Epoch 1/100\n",
      "498/498 [==============================] - 0s 660us/step - loss: 0.7429 - acc: 0.4458 - precision: 0.4598 - recall: 0.8619 - f1score: 0.5949 - val_loss: 0.7140 - val_acc: 0.5241 - val_precision: 0.5154 - val_recall: 0.8636 - val_f1score: 0.6428\n",
      "Epoch 2/100\n",
      "498/498 [==============================] - 0s 153us/step - loss: 0.7270 - acc: 0.4378 - precision: 0.4564 - recall: 0.8387 - f1score: 0.5856 - val_loss: 0.7030 - val_acc: 0.5120 - val_precision: 0.5076 - val_recall: 0.8361 - val_f1score: 0.6294\n",
      "Epoch 3/100\n",
      "498/498 [==============================] - 0s 188us/step - loss: 0.7136 - acc: 0.4297 - precision: 0.4491 - recall: 0.8321 - f1score: 0.5794 - val_loss: 0.6936 - val_acc: 0.5120 - val_precision: 0.5076 - val_recall: 0.8361 - val_f1score: 0.6294\n",
      "Epoch 4/100\n",
      "498/498 [==============================] - 0s 202us/step - loss: 0.7020 - acc: 0.4317 - precision: 0.4534 - recall: 0.8272 - f1score: 0.5801 - val_loss: 0.6854 - val_acc: 0.5181 - val_precision: 0.5108 - val_recall: 0.7972 - val_f1score: 0.6205\n",
      "Epoch 5/100\n",
      "498/498 [==============================] - 0s 190us/step - loss: 0.6916 - acc: 0.4578 - precision: 0.4679 - recall: 0.8226 - f1score: 0.5890 - val_loss: 0.6778 - val_acc: 0.5843 - val_precision: 0.5612 - val_recall: 0.7859 - val_f1score: 0.6531\n",
      "Epoch 6/100\n",
      "498/498 [==============================] - 0s 179us/step - loss: 0.6819 - acc: 0.6345 - precision: 0.6055 - recall: 0.7592 - f1score: 0.6664 - val_loss: 0.6710 - val_acc: 0.7410 - val_precision: 0.7369 - val_recall: 0.7644 - val_f1score: 0.7440\n",
      "Epoch 7/100\n",
      "498/498 [==============================] - 0s 56us/step - loss: 0.6732 - acc: 0.7149 - precision: 0.6918 - recall: 0.7392 - f1score: 0.7113 - val_loss: 0.6642 - val_acc: 0.7470 - val_precision: 0.7568 - val_recall: 0.7494 - val_f1score: 0.7433\n",
      "Epoch 8/100\n",
      "498/498 [==============================] - 0s 189us/step - loss: 0.6646 - acc: 0.7169 - precision: 0.6951 - recall: 0.7334 - f1score: 0.7086 - val_loss: 0.6577 - val_acc: 0.7470 - val_precision: 0.7686 - val_recall: 0.7236 - val_f1score: 0.7368\n",
      "Epoch 9/100\n",
      "498/498 [==============================] - 0s 190us/step - loss: 0.6562 - acc: 0.7108 - precision: 0.6901 - recall: 0.7220 - f1score: 0.6977 - val_loss: 0.6513 - val_acc: 0.7530 - val_precision: 0.7600 - val_recall: 0.7344 - val_f1score: 0.7416\n",
      "Epoch 10/100\n",
      "498/498 [==============================] - 0s 190us/step - loss: 0.6481 - acc: 0.7410 - precision: 0.7285 - recall: 0.7575 - f1score: 0.7357 - val_loss: 0.6448 - val_acc: 0.7651 - val_precision: 0.7866 - val_recall: 0.7344 - val_f1score: 0.7535\n",
      "Epoch 11/100\n",
      "498/498 [==============================] - 0s 202us/step - loss: 0.6399 - acc: 0.7831 - precision: 0.7830 - recall: 0.7584 - f1score: 0.7646 - val_loss: 0.6385 - val_acc: 0.7530 - val_precision: 0.7839 - val_recall: 0.7142 - val_f1score: 0.7411\n",
      "Epoch 12/100\n",
      "498/498 [==============================] - 0s 191us/step - loss: 0.6318 - acc: 0.7892 - precision: 0.7969 - recall: 0.7676 - f1score: 0.7743 - val_loss: 0.6320 - val_acc: 0.7530 - val_precision: 0.7759 - val_recall: 0.7142 - val_f1score: 0.7399\n",
      "Epoch 13/100\n",
      "498/498 [==============================] - 0s 194us/step - loss: 0.6236 - acc: 0.7992 - precision: 0.8000 - recall: 0.7822 - f1score: 0.7833 - val_loss: 0.6256 - val_acc: 0.7530 - val_precision: 0.7630 - val_recall: 0.7393 - val_f1score: 0.7464\n",
      "Epoch 14/100\n",
      "498/498 [==============================] - 0s 197us/step - loss: 0.6154 - acc: 0.8032 - precision: 0.8015 - recall: 0.7893 - f1score: 0.7890 - val_loss: 0.6190 - val_acc: 0.7590 - val_precision: 0.7743 - val_recall: 0.7393 - val_f1score: 0.7519\n",
      "Epoch 15/100\n",
      "498/498 [==============================] - 0s 182us/step - loss: 0.6071 - acc: 0.8032 - precision: 0.8056 - recall: 0.7817 - f1score: 0.7886 - val_loss: 0.6123 - val_acc: 0.7590 - val_precision: 0.7743 - val_recall: 0.7393 - val_f1score: 0.7519\n",
      "Epoch 16/100\n",
      "498/498 [==============================] - 0s 183us/step - loss: 0.5988 - acc: 0.8012 - precision: 0.7981 - recall: 0.7903 - f1score: 0.7892 - val_loss: 0.6056 - val_acc: 0.7530 - val_precision: 0.7630 - val_recall: 0.7393 - val_f1score: 0.7464\n",
      "Epoch 17/100\n",
      "498/498 [==============================] - 0s 45us/step - loss: 0.5905 - acc: 0.8092 - precision: 0.8064 - recall: 0.8050 - f1score: 0.8023 - val_loss: 0.5989 - val_acc: 0.7831 - val_precision: 0.7749 - val_recall: 0.7931 - val_f1score: 0.7801\n",
      "Epoch 18/100\n",
      "498/498 [==============================] - 0s 196us/step - loss: 0.5821 - acc: 0.8092 - precision: 0.8064 - recall: 0.8132 - f1score: 0.8034 - val_loss: 0.5922 - val_acc: 0.7892 - val_precision: 0.7783 - val_recall: 0.8069 - val_f1score: 0.7874\n",
      "Epoch 19/100\n",
      "498/498 [==============================] - 0s 197us/step - loss: 0.5739 - acc: 0.8153 - precision: 0.8052 - recall: 0.8257 - f1score: 0.8098 - val_loss: 0.5854 - val_acc: 0.7892 - val_precision: 0.7783 - val_recall: 0.8069 - val_f1score: 0.7874\n",
      "Epoch 20/100\n",
      "498/498 [==============================] - 0s 194us/step - loss: 0.5655 - acc: 0.8173 - precision: 0.8070 - recall: 0.8353 - f1score: 0.8138 - val_loss: 0.5787 - val_acc: 0.7892 - val_precision: 0.7783 - val_recall: 0.8069 - val_f1score: 0.7874\n",
      "Epoch 21/100\n",
      "498/498 [==============================] - 0s 201us/step - loss: 0.5574 - acc: 0.8193 - precision: 0.7963 - recall: 0.8464 - f1score: 0.8132 - val_loss: 0.5721 - val_acc: 0.7952 - val_precision: 0.7815 - val_recall: 0.8182 - val_f1score: 0.7951\n",
      "Epoch 22/100\n",
      "498/498 [==============================] - 0s 200us/step - loss: 0.5493 - acc: 0.8173 - precision: 0.7917 - recall: 0.8338 - f1score: 0.8091 - val_loss: 0.5656 - val_acc: 0.7892 - val_precision: 0.7742 - val_recall: 0.8182 - val_f1score: 0.7911\n",
      "Epoch 23/100\n",
      "498/498 [==============================] - 0s 195us/step - loss: 0.5415 - acc: 0.8173 - precision: 0.7942 - recall: 0.8352 - f1score: 0.8091 - val_loss: 0.5595 - val_acc: 0.7892 - val_precision: 0.7742 - val_recall: 0.8182 - val_f1score: 0.7911\n",
      "Epoch 24/100\n",
      "498/498 [==============================] - 0s 193us/step - loss: 0.5341 - acc: 0.8233 - precision: 0.8013 - recall: 0.8558 - f1score: 0.8238 - val_loss: 0.5536 - val_acc: 0.7952 - val_precision: 0.7772 - val_recall: 0.8320 - val_f1score: 0.7980\n",
      "Epoch 25/100\n",
      "498/498 [==============================] - 0s 191us/step - loss: 0.5269 - acc: 0.8233 - precision: 0.8024 - recall: 0.8509 - f1score: 0.8214 - val_loss: 0.5479 - val_acc: 0.7952 - val_precision: 0.7772 - val_recall: 0.8320 - val_f1score: 0.7980\n",
      "Epoch 26/100\n",
      "498/498 [==============================] - 0s 197us/step - loss: 0.5201 - acc: 0.8253 - precision: 0.8012 - recall: 0.8588 - f1score: 0.8214 - val_loss: 0.5423 - val_acc: 0.7892 - val_precision: 0.7661 - val_recall: 0.8320 - val_f1score: 0.7931\n",
      "Epoch 27/100\n",
      "498/498 [==============================] - 0s 195us/step - loss: 0.5133 - acc: 0.8253 - precision: 0.7949 - recall: 0.8490 - f1score: 0.8179 - val_loss: 0.5371 - val_acc: 0.7711 - val_precision: 0.7443 - val_recall: 0.8320 - val_f1score: 0.7797\n",
      "Epoch 28/100\n",
      "498/498 [==============================] - 0s 193us/step - loss: 0.5070 - acc: 0.8253 - precision: 0.7995 - recall: 0.8552 - f1score: 0.8248 - val_loss: 0.5322 - val_acc: 0.7651 - val_precision: 0.7360 - val_recall: 0.8320 - val_f1score: 0.7754\n",
      "Epoch 29/100\n",
      "498/498 [==============================] - 0s 201us/step - loss: 0.5012 - acc: 0.8213 - precision: 0.7935 - recall: 0.8574 - f1score: 0.8211 - val_loss: 0.5276 - val_acc: 0.7651 - val_precision: 0.7360 - val_recall: 0.8320 - val_f1score: 0.7754\n",
      "Epoch 30/100\n",
      "498/498 [==============================] - 0s 195us/step - loss: 0.4956 - acc: 0.8213 - precision: 0.7972 - recall: 0.8575 - f1score: 0.8210 - val_loss: 0.5233 - val_acc: 0.7590 - val_precision: 0.7288 - val_recall: 0.8320 - val_f1score: 0.7714\n",
      "Epoch 31/100\n",
      "498/498 [==============================] - 0s 191us/step - loss: 0.4904 - acc: 0.8213 - precision: 0.7959 - recall: 0.8524 - f1score: 0.8167 - val_loss: 0.5194 - val_acc: 0.7590 - val_precision: 0.7288 - val_recall: 0.8320 - val_f1score: 0.7714\n"
     ]
    },
    {
     "name": "stdout",
     "output_type": "stream",
     "text": [
      "Epoch 32/100\n",
      "498/498 [==============================] - 0s 191us/step - loss: 0.4859 - acc: 0.8233 - precision: 0.7818 - recall: 0.8516 - f1score: 0.8126 - val_loss: 0.5157 - val_acc: 0.7590 - val_precision: 0.7288 - val_recall: 0.8320 - val_f1score: 0.7714\n",
      "Epoch 33/100\n",
      "498/498 [==============================] - 0s 53us/step - loss: 0.4814 - acc: 0.8233 - precision: 0.7847 - recall: 0.8510 - f1score: 0.8135 - val_loss: 0.5122 - val_acc: 0.7590 - val_precision: 0.7288 - val_recall: 0.8320 - val_f1score: 0.7714\n",
      "Epoch 34/100\n",
      "498/498 [==============================] - 0s 189us/step - loss: 0.4773 - acc: 0.8233 - precision: 0.7912 - recall: 0.8542 - f1score: 0.8145 - val_loss: 0.5091 - val_acc: 0.7590 - val_precision: 0.7288 - val_recall: 0.8320 - val_f1score: 0.7714\n",
      "Epoch 35/100\n",
      "498/498 [==============================] - 0s 195us/step - loss: 0.4737 - acc: 0.8233 - precision: 0.7898 - recall: 0.8602 - f1score: 0.8215 - val_loss: 0.5063 - val_acc: 0.7590 - val_precision: 0.7288 - val_recall: 0.8320 - val_f1score: 0.7714\n",
      "Epoch 36/100\n",
      "498/498 [==============================] - 0s 186us/step - loss: 0.4703 - acc: 0.8233 - precision: 0.7967 - recall: 0.8601 - f1score: 0.8212 - val_loss: 0.5038 - val_acc: 0.7651 - val_precision: 0.7338 - val_recall: 0.8457 - val_f1score: 0.7801\n",
      "Epoch 37/100\n",
      "498/498 [==============================] - 0s 203us/step - loss: 0.4673 - acc: 0.8193 - precision: 0.7864 - recall: 0.8646 - f1score: 0.8186 - val_loss: 0.5014 - val_acc: 0.7651 - val_precision: 0.7338 - val_recall: 0.8457 - val_f1score: 0.7801\n",
      "Epoch 38/100\n",
      "498/498 [==============================] - 0s 193us/step - loss: 0.4644 - acc: 0.8193 - precision: 0.7881 - recall: 0.8640 - f1score: 0.8202 - val_loss: 0.4995 - val_acc: 0.7651 - val_precision: 0.7338 - val_recall: 0.8457 - val_f1score: 0.7801\n",
      "Epoch 39/100\n",
      "498/498 [==============================] - 0s 194us/step - loss: 0.4620 - acc: 0.8193 - precision: 0.7887 - recall: 0.8652 - f1score: 0.8208 - val_loss: 0.4976 - val_acc: 0.7711 - val_precision: 0.7358 - val_recall: 0.8559 - val_f1score: 0.7857\n",
      "Epoch 40/100\n",
      "498/498 [==============================] - 0s 191us/step - loss: 0.4597 - acc: 0.8193 - precision: 0.7825 - recall: 0.8570 - f1score: 0.8145 - val_loss: 0.4958 - val_acc: 0.7711 - val_precision: 0.7358 - val_recall: 0.8559 - val_f1score: 0.7857\n",
      "Epoch 41/100\n",
      "498/498 [==============================] - 0s 190us/step - loss: 0.4576 - acc: 0.8213 - precision: 0.7857 - recall: 0.8634 - f1score: 0.8198 - val_loss: 0.4943 - val_acc: 0.7711 - val_precision: 0.7358 - val_recall: 0.8559 - val_f1score: 0.7857\n",
      "Epoch 42/100\n",
      "498/498 [==============================] - 0s 190us/step - loss: 0.4557 - acc: 0.8213 - precision: 0.7878 - recall: 0.8689 - f1score: 0.8226 - val_loss: 0.4929 - val_acc: 0.7711 - val_precision: 0.7358 - val_recall: 0.8559 - val_f1score: 0.7857\n",
      "Epoch 43/100\n",
      "498/498 [==============================] - 0s 53us/step - loss: 0.4540 - acc: 0.8213 - precision: 0.7819 - recall: 0.8670 - f1score: 0.8189 - val_loss: 0.4917 - val_acc: 0.7711 - val_precision: 0.7358 - val_recall: 0.8559 - val_f1score: 0.7857\n",
      "Epoch 44/100\n",
      "498/498 [==============================] - 0s 53us/step - loss: 0.4526 - acc: 0.8213 - precision: 0.7827 - recall: 0.8598 - f1score: 0.8162 - val_loss: 0.4906 - val_acc: 0.7711 - val_precision: 0.7358 - val_recall: 0.8559 - val_f1score: 0.7857\n",
      "Epoch 45/100\n",
      "498/498 [==============================] - 0s 199us/step - loss: 0.4512 - acc: 0.8213 - precision: 0.7848 - recall: 0.8680 - f1score: 0.8186 - val_loss: 0.4897 - val_acc: 0.7711 - val_precision: 0.7358 - val_recall: 0.8559 - val_f1score: 0.7857\n",
      "Epoch 46/100\n",
      "498/498 [==============================] - 0s 189us/step - loss: 0.4499 - acc: 0.8213 - precision: 0.7891 - recall: 0.8661 - f1score: 0.8220 - val_loss: 0.4889 - val_acc: 0.7711 - val_precision: 0.7358 - val_recall: 0.8559 - val_f1score: 0.7857\n",
      "Epoch 47/100\n",
      "498/498 [==============================] - 0s 197us/step - loss: 0.4489 - acc: 0.8213 - precision: 0.7798 - recall: 0.8672 - f1score: 0.8157 - val_loss: 0.4882 - val_acc: 0.7711 - val_precision: 0.7358 - val_recall: 0.8559 - val_f1score: 0.7857\n",
      "Epoch 48/100\n",
      "498/498 [==============================] - 0s 191us/step - loss: 0.4479 - acc: 0.8213 - precision: 0.7871 - recall: 0.8649 - f1score: 0.8198 - val_loss: 0.4874 - val_acc: 0.7711 - val_precision: 0.7358 - val_recall: 0.8559 - val_f1score: 0.7857\n",
      "Epoch 49/100\n",
      "498/498 [==============================] - 0s 195us/step - loss: 0.4470 - acc: 0.8213 - precision: 0.7876 - recall: 0.8745 - f1score: 0.8233 - val_loss: 0.4867 - val_acc: 0.7651 - val_precision: 0.7305 - val_recall: 0.8559 - val_f1score: 0.7817\n",
      "Epoch 50/100\n",
      "498/498 [==============================] - 0s 200us/step - loss: 0.4462 - acc: 0.8213 - precision: 0.7791 - recall: 0.8616 - f1score: 0.8152 - val_loss: 0.4862 - val_acc: 0.7651 - val_precision: 0.7305 - val_recall: 0.8559 - val_f1score: 0.7817\n",
      "Epoch 51/100\n",
      "498/498 [==============================] - 0s 188us/step - loss: 0.4455 - acc: 0.8213 - precision: 0.7874 - recall: 0.8677 - f1score: 0.8238 - val_loss: 0.4857 - val_acc: 0.7651 - val_precision: 0.7305 - val_recall: 0.8559 - val_f1score: 0.7817\n",
      "Epoch 52/100\n",
      "498/498 [==============================] - 0s 197us/step - loss: 0.4450 - acc: 0.8213 - precision: 0.7821 - recall: 0.8599 - f1score: 0.8166 - val_loss: 0.4852 - val_acc: 0.7651 - val_precision: 0.7305 - val_recall: 0.8559 - val_f1score: 0.7817\n",
      "Epoch 53/100\n",
      "498/498 [==============================] - 0s 202us/step - loss: 0.4445 - acc: 0.8213 - precision: 0.7943 - recall: 0.8711 - f1score: 0.8212 - val_loss: 0.4849 - val_acc: 0.7651 - val_precision: 0.7305 - val_recall: 0.8559 - val_f1score: 0.7817\n",
      "Epoch 54/100\n",
      "498/498 [==============================] - 0s 201us/step - loss: 0.4440 - acc: 0.8213 - precision: 0.7861 - recall: 0.8745 - f1score: 0.8229 - val_loss: 0.4845 - val_acc: 0.7651 - val_precision: 0.7305 - val_recall: 0.8559 - val_f1score: 0.7817\n",
      "Epoch 55/100\n",
      "498/498 [==============================] - 0s 191us/step - loss: 0.4436 - acc: 0.8213 - precision: 0.7790 - recall: 0.8750 - f1score: 0.8175 - val_loss: 0.4842 - val_acc: 0.7651 - val_precision: 0.7305 - val_recall: 0.8559 - val_f1score: 0.7817\n",
      "Epoch 56/100\n",
      "498/498 [==============================] - 0s 194us/step - loss: 0.4432 - acc: 0.8213 - precision: 0.7898 - recall: 0.8681 - f1score: 0.8224 - val_loss: 0.4839 - val_acc: 0.7651 - val_precision: 0.7305 - val_recall: 0.8559 - val_f1score: 0.7817\n",
      "Epoch 57/100\n",
      "498/498 [==============================] - 0s 194us/step - loss: 0.4428 - acc: 0.8213 - precision: 0.7941 - recall: 0.8678 - f1score: 0.8222 - val_loss: 0.4837 - val_acc: 0.7651 - val_precision: 0.7305 - val_recall: 0.8559 - val_f1score: 0.7817\n",
      "Epoch 58/100\n",
      "498/498 [==============================] - 0s 194us/step - loss: 0.4425 - acc: 0.8213 - precision: 0.7897 - recall: 0.8712 - f1score: 0.8211 - val_loss: 0.4833 - val_acc: 0.7651 - val_precision: 0.7305 - val_recall: 0.8559 - val_f1score: 0.7817\n",
      "Epoch 59/100\n",
      "498/498 [==============================] - 0s 48us/step - loss: 0.4422 - acc: 0.8213 - precision: 0.7824 - recall: 0.8710 - f1score: 0.8186 - val_loss: 0.4832 - val_acc: 0.7651 - val_precision: 0.7305 - val_recall: 0.8559 - val_f1score: 0.7817\n",
      "Epoch 60/100\n",
      "498/498 [==============================] - 0s 188us/step - loss: 0.4418 - acc: 0.8213 - precision: 0.7834 - recall: 0.8663 - f1score: 0.8200 - val_loss: 0.4829 - val_acc: 0.7651 - val_precision: 0.7305 - val_recall: 0.8559 - val_f1score: 0.7817\n",
      "Epoch 61/100\n",
      "498/498 [==============================] - 0s 189us/step - loss: 0.4416 - acc: 0.8213 - precision: 0.7885 - recall: 0.8655 - f1score: 0.8225 - val_loss: 0.4827 - val_acc: 0.7651 - val_precision: 0.7305 - val_recall: 0.8559 - val_f1score: 0.7817\n",
      "Epoch 62/100\n",
      "498/498 [==============================] - 0s 201us/step - loss: 0.4414 - acc: 0.8213 - precision: 0.7857 - recall: 0.8636 - f1score: 0.8194 - val_loss: 0.4825 - val_acc: 0.7651 - val_precision: 0.7305 - val_recall: 0.8559 - val_f1score: 0.7817\n",
      "Epoch 63/100\n",
      "498/498 [==============================] - 0s 193us/step - loss: 0.4411 - acc: 0.8213 - precision: 0.7799 - recall: 0.8618 - f1score: 0.8162 - val_loss: 0.4823 - val_acc: 0.7651 - val_precision: 0.7305 - val_recall: 0.8559 - val_f1score: 0.7817\n"
     ]
    },
    {
     "name": "stdout",
     "output_type": "stream",
     "text": [
      "Epoch 64/100\n",
      "498/498 [==============================] - 0s 197us/step - loss: 0.4408 - acc: 0.8213 - precision: 0.7865 - recall: 0.8621 - f1score: 0.8190 - val_loss: 0.4821 - val_acc: 0.7651 - val_precision: 0.7305 - val_recall: 0.8559 - val_f1score: 0.7817\n",
      "Epoch 65/100\n",
      "498/498 [==============================] - 0s 200us/step - loss: 0.4406 - acc: 0.8213 - precision: 0.7942 - recall: 0.8674 - f1score: 0.8238 - val_loss: 0.4818 - val_acc: 0.7651 - val_precision: 0.7305 - val_recall: 0.8559 - val_f1score: 0.7817\n",
      "Epoch 66/100\n",
      "498/498 [==============================] - 0s 202us/step - loss: 0.4404 - acc: 0.8213 - precision: 0.7769 - recall: 0.8544 - f1score: 0.8101 - val_loss: 0.4817 - val_acc: 0.7651 - val_precision: 0.7305 - val_recall: 0.8559 - val_f1score: 0.7817\n",
      "Epoch 67/100\n",
      "498/498 [==============================] - 0s 189us/step - loss: 0.4402 - acc: 0.8213 - precision: 0.7791 - recall: 0.8602 - f1score: 0.8146 - val_loss: 0.4816 - val_acc: 0.7651 - val_precision: 0.7305 - val_recall: 0.8559 - val_f1score: 0.7817\n",
      "Epoch 68/100\n",
      "498/498 [==============================] - 0s 192us/step - loss: 0.4400 - acc: 0.8213 - precision: 0.7902 - recall: 0.8693 - f1score: 0.8243 - val_loss: 0.4815 - val_acc: 0.7651 - val_precision: 0.7305 - val_recall: 0.8559 - val_f1score: 0.7817\n",
      "Epoch 69/100\n",
      "498/498 [==============================] - 0s 204us/step - loss: 0.4399 - acc: 0.8213 - precision: 0.7913 - recall: 0.8676 - f1score: 0.8197 - val_loss: 0.4812 - val_acc: 0.7651 - val_precision: 0.7305 - val_recall: 0.8559 - val_f1score: 0.7817\n",
      "Epoch 70/100\n",
      "498/498 [==============================] - 0s 195us/step - loss: 0.4397 - acc: 0.8213 - precision: 0.7699 - recall: 0.8537 - f1score: 0.8045 - val_loss: 0.4810 - val_acc: 0.7651 - val_precision: 0.7305 - val_recall: 0.8559 - val_f1score: 0.7817\n",
      "Epoch 71/100\n",
      "498/498 [==============================] - 0s 196us/step - loss: 0.4395 - acc: 0.8213 - precision: 0.7881 - recall: 0.8657 - f1score: 0.8189 - val_loss: 0.4809 - val_acc: 0.7651 - val_precision: 0.7305 - val_recall: 0.8559 - val_f1score: 0.7817\n",
      "Epoch 72/100\n",
      "498/498 [==============================] - 0s 186us/step - loss: 0.4394 - acc: 0.8213 - precision: 0.7786 - recall: 0.8663 - f1score: 0.8145 - val_loss: 0.4808 - val_acc: 0.7651 - val_precision: 0.7305 - val_recall: 0.8559 - val_f1score: 0.7817\n",
      "Epoch 73/100\n",
      "498/498 [==============================] - 0s 193us/step - loss: 0.4393 - acc: 0.8213 - precision: 0.7868 - recall: 0.8638 - f1score: 0.8146 - val_loss: 0.4807 - val_acc: 0.7651 - val_precision: 0.7305 - val_recall: 0.8559 - val_f1score: 0.7817\n",
      "Epoch 74/100\n",
      "498/498 [==============================] - 0s 56us/step - loss: 0.4390 - acc: 0.8213 - precision: 0.7831 - recall: 0.8666 - f1score: 0.8191 - val_loss: 0.4806 - val_acc: 0.7651 - val_precision: 0.7305 - val_recall: 0.8559 - val_f1score: 0.7817\n",
      "Epoch 75/100\n",
      "498/498 [==============================] - 0s 188us/step - loss: 0.4388 - acc: 0.8213 - precision: 0.7867 - recall: 0.8670 - f1score: 0.8226 - val_loss: 0.4804 - val_acc: 0.7651 - val_precision: 0.7305 - val_recall: 0.8559 - val_f1score: 0.7817\n",
      "Epoch 76/100\n",
      "498/498 [==============================] - 0s 195us/step - loss: 0.4387 - acc: 0.8213 - precision: 0.7823 - recall: 0.8672 - f1score: 0.8197 - val_loss: 0.4800 - val_acc: 0.7651 - val_precision: 0.7305 - val_recall: 0.8559 - val_f1score: 0.7817\n",
      "Epoch 77/100\n",
      "498/498 [==============================] - 0s 192us/step - loss: 0.4387 - acc: 0.8213 - precision: 0.7789 - recall: 0.8649 - f1score: 0.8152 - val_loss: 0.4799 - val_acc: 0.7651 - val_precision: 0.7305 - val_recall: 0.8559 - val_f1score: 0.7817\n",
      "Epoch 78/100\n",
      "498/498 [==============================] - 0s 204us/step - loss: 0.4385 - acc: 0.8213 - precision: 0.7905 - recall: 0.8653 - f1score: 0.8236 - val_loss: 0.4798 - val_acc: 0.7651 - val_precision: 0.7305 - val_recall: 0.8559 - val_f1score: 0.7817\n",
      "Epoch 79/100\n",
      "498/498 [==============================] - 0s 187us/step - loss: 0.4383 - acc: 0.8213 - precision: 0.7874 - recall: 0.8713 - f1score: 0.8249 - val_loss: 0.4797 - val_acc: 0.7651 - val_precision: 0.7305 - val_recall: 0.8559 - val_f1score: 0.7817\n",
      "Epoch 80/100\n",
      "498/498 [==============================] - 0s 195us/step - loss: 0.4383 - acc: 0.8213 - precision: 0.7860 - recall: 0.8725 - f1score: 0.8229 - val_loss: 0.4795 - val_acc: 0.7651 - val_precision: 0.7305 - val_recall: 0.8559 - val_f1score: 0.7817\n",
      "Epoch 81/100\n",
      "498/498 [==============================] - 0s 203us/step - loss: 0.4381 - acc: 0.8213 - precision: 0.7870 - recall: 0.8673 - f1score: 0.8216 - val_loss: 0.4794 - val_acc: 0.7651 - val_precision: 0.7305 - val_recall: 0.8559 - val_f1score: 0.7817\n",
      "Epoch 82/100\n",
      "498/498 [==============================] - 0s 197us/step - loss: 0.4379 - acc: 0.8213 - precision: 0.7866 - recall: 0.8681 - f1score: 0.8212 - val_loss: 0.4792 - val_acc: 0.7711 - val_precision: 0.7358 - val_recall: 0.8559 - val_f1score: 0.7857\n",
      "Epoch 83/100\n",
      "498/498 [==============================] - 0s 191us/step - loss: 0.4378 - acc: 0.8213 - precision: 0.7927 - recall: 0.8666 - f1score: 0.8245 - val_loss: 0.4790 - val_acc: 0.7711 - val_precision: 0.7358 - val_recall: 0.8559 - val_f1score: 0.7857\n",
      "Epoch 84/100\n",
      "498/498 [==============================] - 0s 193us/step - loss: 0.4377 - acc: 0.8213 - precision: 0.7847 - recall: 0.8677 - f1score: 0.8190 - val_loss: 0.4788 - val_acc: 0.7711 - val_precision: 0.7358 - val_recall: 0.8559 - val_f1score: 0.7857\n",
      "Epoch 85/100\n",
      "498/498 [==============================] - 0s 204us/step - loss: 0.4376 - acc: 0.8213 - precision: 0.7861 - recall: 0.8700 - f1score: 0.8221 - val_loss: 0.4787 - val_acc: 0.7711 - val_precision: 0.7358 - val_recall: 0.8559 - val_f1score: 0.7857\n",
      "Epoch 86/100\n",
      "498/498 [==============================] - 0s 190us/step - loss: 0.4374 - acc: 0.8213 - precision: 0.7836 - recall: 0.8678 - f1score: 0.8204 - val_loss: 0.4784 - val_acc: 0.7711 - val_precision: 0.7358 - val_recall: 0.8559 - val_f1score: 0.7857\n",
      "Epoch 87/100\n",
      "498/498 [==============================] - 0s 191us/step - loss: 0.4373 - acc: 0.8213 - precision: 0.7850 - recall: 0.8662 - f1score: 0.8207 - val_loss: 0.4782 - val_acc: 0.7711 - val_precision: 0.7358 - val_recall: 0.8559 - val_f1score: 0.7857\n",
      "Epoch 88/100\n",
      "498/498 [==============================] - 0s 192us/step - loss: 0.4372 - acc: 0.8213 - precision: 0.7769 - recall: 0.8656 - f1score: 0.8141 - val_loss: 0.4780 - val_acc: 0.7711 - val_precision: 0.7358 - val_recall: 0.8559 - val_f1score: 0.7857\n",
      "Epoch 89/100\n",
      "498/498 [==============================] - 0s 197us/step - loss: 0.4371 - acc: 0.8213 - precision: 0.7820 - recall: 0.8597 - f1score: 0.8152 - val_loss: 0.4778 - val_acc: 0.7711 - val_precision: 0.7358 - val_recall: 0.8559 - val_f1score: 0.7857\n",
      "Epoch 90/100\n",
      "498/498 [==============================] - 0s 195us/step - loss: 0.4371 - acc: 0.8213 - precision: 0.7910 - recall: 0.8718 - f1score: 0.8223 - val_loss: 0.4777 - val_acc: 0.7711 - val_precision: 0.7358 - val_recall: 0.8559 - val_f1score: 0.7857\n",
      "Epoch 91/100\n",
      "498/498 [==============================] - 0s 194us/step - loss: 0.4369 - acc: 0.8213 - precision: 0.7880 - recall: 0.8702 - f1score: 0.8211 - val_loss: 0.4775 - val_acc: 0.7711 - val_precision: 0.7358 - val_recall: 0.8559 - val_f1score: 0.7857\n",
      "Epoch 92/100\n",
      "498/498 [==============================] - 0s 54us/step - loss: 0.4367 - acc: 0.8213 - precision: 0.7863 - recall: 0.8659 - f1score: 0.8207 - val_loss: 0.4773 - val_acc: 0.7711 - val_precision: 0.7358 - val_recall: 0.8559 - val_f1score: 0.7857\n",
      "Epoch 93/100\n",
      "498/498 [==============================] - 0s 57us/step - loss: 0.4367 - acc: 0.8193 - precision: 0.7841 - recall: 0.8614 - f1score: 0.8154 - val_loss: 0.4772 - val_acc: 0.7711 - val_precision: 0.7358 - val_recall: 0.8559 - val_f1score: 0.7857\n",
      "Epoch 94/100\n",
      "498/498 [==============================] - 0s 192us/step - loss: 0.4366 - acc: 0.8193 - precision: 0.7825 - recall: 0.8644 - f1score: 0.8169 - val_loss: 0.4771 - val_acc: 0.7711 - val_precision: 0.7358 - val_recall: 0.8559 - val_f1score: 0.7857\n",
      "Epoch 95/100\n",
      "498/498 [==============================] - 0s 195us/step - loss: 0.4365 - acc: 0.8193 - precision: 0.7760 - recall: 0.8630 - f1score: 0.8126 - val_loss: 0.4769 - val_acc: 0.7711 - val_precision: 0.7358 - val_recall: 0.8559 - val_f1score: 0.7857\n"
     ]
    },
    {
     "name": "stdout",
     "output_type": "stream",
     "text": [
      "Epoch 96/100\n",
      "498/498 [==============================] - 0s 196us/step - loss: 0.4363 - acc: 0.8213 - precision: 0.7868 - recall: 0.8572 - f1score: 0.8178 - val_loss: 0.4767 - val_acc: 0.7711 - val_precision: 0.7358 - val_recall: 0.8559 - val_f1score: 0.7857\n",
      "Epoch 97/100\n",
      "498/498 [==============================] - 0s 189us/step - loss: 0.4363 - acc: 0.8213 - precision: 0.7828 - recall: 0.8572 - f1score: 0.8161 - val_loss: 0.4765 - val_acc: 0.7711 - val_precision: 0.7358 - val_recall: 0.8559 - val_f1score: 0.7857\n",
      "Epoch 98/100\n",
      "498/498 [==============================] - 0s 192us/step - loss: 0.4363 - acc: 0.8213 - precision: 0.7860 - recall: 0.8691 - f1score: 0.8202 - val_loss: 0.4764 - val_acc: 0.7711 - val_precision: 0.7358 - val_recall: 0.8559 - val_f1score: 0.7857\n",
      "Epoch 99/100\n",
      "498/498 [==============================] - 0s 194us/step - loss: 0.4362 - acc: 0.8213 - precision: 0.7818 - recall: 0.8602 - f1score: 0.8138 - val_loss: 0.4763 - val_acc: 0.7711 - val_precision: 0.7358 - val_recall: 0.8559 - val_f1score: 0.7857\n",
      "Epoch 100/100\n",
      "498/498 [==============================] - 0s 204us/step - loss: 0.4360 - acc: 0.8213 - precision: 0.7823 - recall: 0.8639 - f1score: 0.8154 - val_loss: 0.4762 - val_acc: 0.7711 - val_precision: 0.7358 - val_recall: 0.8559 - val_f1score: 0.7857\n"
     ]
    }
   ],
   "source": [
    "history = model.fit(X_train, y_train,\n",
    "                    validation_data=(X_val, y_val),\n",
    "                    epochs=100\n",
    "                   )"
   ]
  },
  {
   "cell_type": "markdown",
   "metadata": {},
   "source": [
    "# Ploting the training curves"
   ]
  },
  {
   "cell_type": "code",
   "execution_count": 20,
   "metadata": {},
   "outputs": [
    {
     "data": {
      "image/png": "[encoded data removed]",
      "text/plain": [
       "<Figure size 432x288 with 1 Axes>"
      ]
     },
     "metadata": {
      "needs_background": "light"
     },
     "output_type": "display_data"
    },
    {
     "data": {
      "image/png": "[encoded data removed]",
      "text/plain": [
       "<Figure size 432x288 with 1 Axes>"
      ]
     },
     "metadata": {
      "needs_background": "light"
     },
     "output_type": "display_data"
    },
    {
     "data": {
      "image/png": "[encoded data removed]",
      "text/plain": [
       "<Figure size 432x288 with 1 Axes>"
      ]
     },
     "metadata": {
      "needs_background": "light"
     },
     "output_type": "display_data"
    },
    {
     "data": {
      "image/png": "[encoded data removed]",
      "text/plain": [
       "<Figure size 432x288 with 1 Axes>"
      ]
     },
     "metadata": {
      "needs_background": "light"
     },
     "output_type": "display_data"
    },
    {
     "data": {
      "image/png": "[encoded data removed]",
      "text/plain": [
       "<Figure size 432x288 with 1 Axes>"
      ]
     },
     "metadata": {
      "needs_background": "light"
     },
     "output_type": "display_data"
    }
   ],
   "source": [
    "h = pd.DataFrame(data=history.history)\n",
    "for col in ['loss', 'acc', 'precision', 'recall', 'f1score']:\n",
    "    ax = h[[col, 'val_'+col]].plot()\n",
    "    _ = ax.set_xlabel('epoch')\n",
    "    _ = ax.set_title(col)"
   ]
  },
  {
   "cell_type": "code",
   "execution_count": 21,
   "metadata": {},
   "outputs": [
    {
     "name": "stdout",
     "output_type": "stream",
     "text": [
      "167/167 [==============================] - 0s 33us/step\n",
      "test loss: 0.49\n",
      "test accuracy: 0.78\n",
      "test precision: 0.72\n",
      "test recall: 0.86\n",
      "test f1score: 0.78\n",
      "\n"
     ]
    }
   ],
   "source": [
    "print(\"\"\"test loss: %.2f\n",
    "test accuracy: %.2f\n",
    "test precision: %.2f\n",
    "test recall: %.2f\n",
    "test f1score: %.2f\n",
    "\"\"\" % tuple(model.evaluate(X_test, y_test)))"
   ]
  },
  {
   "cell_type": "markdown",
   "metadata": {},
   "source": [
    "# [Talos](https://autonomio.github.io/talos) for hyperparameter optimization\n",
    "[Here](https://towardsdatascience.com/hyperparameter-optimization-with-keras-b82e6364ca53) is a really good article that goes into more detail "
   ]
  },
  {
   "cell_type": "markdown",
   "metadata": {},
   "source": [
    "There are 6 main components in a Talos workflow\n",
    "* __Scan__ - Search a hyperparameter space\n",
    "* __Analyze__ - Analyze the results of a search\n",
    "* __Evaluate__ - Evaluate the performance of a model\n",
    "* Predict - Make a prediction\n",
    "* Deploy - Package the best performing model\n",
    "* Restore - Restore a packaged model\n",
    "\n",
    "We will focus on Scan, Analyze, and Evaluate"
   ]
  },
  {
   "cell_type": "markdown",
   "metadata": {},
   "source": [
    "# Scan\n",
    "Scan expects a few arguments. The main arguments are\n",
    "1. The data to train on\n",
    "2. A parameter space to search\n",
    "3. A function that takes in a set of parameters and returns a trained model"
   ]
  },
  {
   "cell_type": "markdown",
   "metadata": {},
   "source": [
    "# Defining your hyperparameter space\n",
    "Talos has 2 ways to define values in the parameter dicionary.\n",
    "* list - a list defines a set of discrete values to select from\n",
    "* tuple - a tuple defines a range of values to select from (start, stop, nsteps)"
   ]
  },
  {
   "cell_type": "code",
   "execution_count": 22,
   "metadata": {},
   "outputs": [],
   "source": [
    "params = {\n",
    "    'L1_size': (2,8,6),\n",
    "    'L1_activation': ['relu', 'elu'],\n",
    "    'L2_size': (2,8,6),\n",
    "    'L2_activation': ['relu', 'elu'],\n",
    "    'learning_rate': list(np.logspace(-1, -6, 10))\n",
    "}"
   ]
  },
  {
   "cell_type": "markdown",
   "metadata": {},
   "source": [
    "# Defining your keras model\n",
    "Talos expects a function that takes in\n",
    "* training data (X, y)\n",
    "* validation data (X_val, y_val)\n",
    "* a parameter dictionary\n",
    "\n",
    "We then link the value in the dictionary to the parameters in our model definition\n",
    "\n",
    "The function must return the __output of the fit function (history)__ and the __model__ itself"
   ]
  },
  {
   "cell_type": "code",
   "execution_count": 23,
   "metadata": {},
   "outputs": [],
   "source": [
    "def mammo_model(X, y, X_val, y_val, p):\n",
    "    model = Sequential()\n",
    "    model.add(Dense(p['L1_size'], activation=p['L1_activation'], input_dim=4))\n",
    "    model.add(Dense(p['L2_size'], activation=p['L2_activation']))\n",
    "    model.add(Dense(1, activation='sigmoid'))\n",
    "    model.compile(\n",
    "        loss='binary_crossentropy',\n",
    "        optimizer=SGD(lr=p['learning_rate']),\n",
    "        metrics=['accuracy', metrics.precision, metrics.recall, metrics.f1score]\n",
    "    )\n",
    "    \n",
    "    history = model.fit(X, y,\n",
    "                    validation_data=(X_val, y_val),\n",
    "                    epochs=100,\n",
    "                    verbose=0\n",
    "                )\n",
    "    \n",
    "    return history, model"
   ]
  },
  {
   "cell_type": "markdown",
   "metadata": {},
   "source": [
    "# Execute Scan DO NOT RUN"
   ]
  },
  {
   "cell_type": "code",
   "execution_count": 24,
   "metadata": {},
   "outputs": [
    {
     "name": "stderr",
     "output_type": "stream",
     "text": [
      "  2%|▏         | 3/144 [00:23<18:33,  7.89s/it]"
     ]
    },
    {
     "ename": "KeyboardInterrupt",
     "evalue": "",
     "output_type": "error",
     "traceback": [
      "\u001b[0;31m---------------------------------------------------------------------------\u001b[0m",
      "\u001b[0;31mKeyboardInterrupt\u001b[0m                         Traceback (most recent call last)",
      "\u001b[0;32m<ipython-input-24-842ad773fe15>\u001b[0m in \u001b[0;36m<module>\u001b[0;34m\u001b[0m\n\u001b[1;32m      7\u001b[0m     \u001b[0mx_val\u001b[0m\u001b[0;34m=\u001b[0m\u001b[0mX_val\u001b[0m\u001b[0;34m,\u001b[0m\u001b[0;34m\u001b[0m\u001b[0;34m\u001b[0m\u001b[0m\n\u001b[1;32m      8\u001b[0m     \u001b[0my_val\u001b[0m\u001b[0;34m=\u001b[0m\u001b[0my_val\u001b[0m\u001b[0;34m,\u001b[0m\u001b[0;34m\u001b[0m\u001b[0;34m\u001b[0m\u001b[0m\n\u001b[0;32m----> 9\u001b[0;31m     \u001b[0mfraction_limit\u001b[0m\u001b[0;34m=\u001b[0m\u001b[0;36m0.1\u001b[0m\u001b[0;34m\u001b[0m\u001b[0;34m\u001b[0m\u001b[0m\n\u001b[0m\u001b[1;32m     10\u001b[0m )\n",
      "\u001b[0;32m/opt/conda/lib/python3.7/site-packages/talos/scan/Scan.py\u001b[0m in \u001b[0;36m__init__\u001b[0;34m(self, x, y, params, model, experiment_name, x_val, y_val, val_split, random_method, seed, performance_target, fraction_limit, round_limit, time_limit, boolean_limit, reduction_method, reduction_interval, reduction_window, reduction_threshold, reduction_metric, minimize_loss, disable_progress_bar, print_params, clear_session, save_weights)\u001b[0m\n\u001b[1;32m    194\u001b[0m         \u001b[0;31m# input parameters section ends\u001b[0m\u001b[0;34m\u001b[0m\u001b[0;34m\u001b[0m\u001b[0;34m\u001b[0m\u001b[0m\n\u001b[1;32m    195\u001b[0m \u001b[0;34m\u001b[0m\u001b[0m\n\u001b[0;32m--> 196\u001b[0;31m         \u001b[0mself\u001b[0m\u001b[0;34m.\u001b[0m\u001b[0m_runtime\u001b[0m\u001b[0;34m(\u001b[0m\u001b[0;34m)\u001b[0m\u001b[0;34m\u001b[0m\u001b[0;34m\u001b[0m\u001b[0m\n\u001b[0m\u001b[1;32m    197\u001b[0m \u001b[0;34m\u001b[0m\u001b[0m\n\u001b[1;32m    198\u001b[0m     \u001b[0;32mdef\u001b[0m \u001b[0m_runtime\u001b[0m\u001b[0;34m(\u001b[0m\u001b[0mself\u001b[0m\u001b[0;34m)\u001b[0m\u001b[0;34m:\u001b[0m\u001b[0;34m\u001b[0m\u001b[0;34m\u001b[0m\u001b[0m\n",
      "\u001b[0;32m/opt/conda/lib/python3.7/site-packages/talos/scan/Scan.py\u001b[0m in \u001b[0;36m_runtime\u001b[0;34m(self)\u001b[0m\n\u001b[1;32m    199\u001b[0m \u001b[0;34m\u001b[0m\u001b[0m\n\u001b[1;32m    200\u001b[0m         \u001b[0;32mfrom\u001b[0m \u001b[0;34m.\u001b[0m\u001b[0mscan_run\u001b[0m \u001b[0;32mimport\u001b[0m \u001b[0mscan_run\u001b[0m\u001b[0;34m\u001b[0m\u001b[0;34m\u001b[0m\u001b[0m\n\u001b[0;32m--> 201\u001b[0;31m         \u001b[0mself\u001b[0m \u001b[0;34m=\u001b[0m \u001b[0mscan_run\u001b[0m\u001b[0;34m(\u001b[0m\u001b[0mself\u001b[0m\u001b[0;34m)\u001b[0m\u001b[0;34m\u001b[0m\u001b[0;34m\u001b[0m\u001b[0m\n\u001b[0m",
      "\u001b[0;32m/opt/conda/lib/python3.7/site-packages/talos/scan/scan_run.py\u001b[0m in \u001b[0;36mscan_run\u001b[0;34m(self)\u001b[0m\n\u001b[1;32m     24\u001b[0m         \u001b[0;31m# otherwise proceed with next permutation\u001b[0m\u001b[0;34m\u001b[0m\u001b[0;34m\u001b[0m\u001b[0;34m\u001b[0m\u001b[0m\n\u001b[1;32m     25\u001b[0m         \u001b[0;32mfrom\u001b[0m \u001b[0;34m.\u001b[0m\u001b[0mscan_round\u001b[0m \u001b[0;32mimport\u001b[0m \u001b[0mscan_round\u001b[0m\u001b[0;34m\u001b[0m\u001b[0;34m\u001b[0m\u001b[0m\n\u001b[0;32m---> 26\u001b[0;31m         \u001b[0mself\u001b[0m \u001b[0;34m=\u001b[0m \u001b[0mscan_round\u001b[0m\u001b[0;34m(\u001b[0m\u001b[0mself\u001b[0m\u001b[0;34m)\u001b[0m\u001b[0;34m\u001b[0m\u001b[0;34m\u001b[0m\u001b[0m\n\u001b[0m\u001b[1;32m     27\u001b[0m         \u001b[0mself\u001b[0m\u001b[0;34m.\u001b[0m\u001b[0mpbar\u001b[0m\u001b[0;34m.\u001b[0m\u001b[0mupdate\u001b[0m\u001b[0;34m(\u001b[0m\u001b[0;36m1\u001b[0m\u001b[0;34m)\u001b[0m\u001b[0;34m\u001b[0m\u001b[0;34m\u001b[0m\u001b[0m\n\u001b[1;32m     28\u001b[0m \u001b[0;34m\u001b[0m\u001b[0m\n",
      "\u001b[0;32m/opt/conda/lib/python3.7/site-packages/talos/scan/scan_round.py\u001b[0m in \u001b[0;36mscan_round\u001b[0;34m(self)\u001b[0m\n\u001b[1;32m     17\u001b[0m     \u001b[0;31m# fit the model\u001b[0m\u001b[0;34m\u001b[0m\u001b[0;34m\u001b[0m\u001b[0;34m\u001b[0m\u001b[0m\n\u001b[1;32m     18\u001b[0m     \u001b[0;32mfrom\u001b[0m \u001b[0;34m.\u001b[0m\u001b[0;34m.\u001b[0m\u001b[0mmodel\u001b[0m\u001b[0;34m.\u001b[0m\u001b[0mingest_model\u001b[0m \u001b[0;32mimport\u001b[0m \u001b[0mingest_model\u001b[0m\u001b[0;34m\u001b[0m\u001b[0;34m\u001b[0m\u001b[0m\n\u001b[0;32m---> 19\u001b[0;31m     \u001b[0mself\u001b[0m\u001b[0;34m.\u001b[0m\u001b[0mmodel_history\u001b[0m\u001b[0;34m,\u001b[0m \u001b[0mself\u001b[0m\u001b[0;34m.\u001b[0m\u001b[0mround_model\u001b[0m \u001b[0;34m=\u001b[0m \u001b[0mingest_model\u001b[0m\u001b[0;34m(\u001b[0m\u001b[0mself\u001b[0m\u001b[0;34m)\u001b[0m\u001b[0;34m\u001b[0m\u001b[0;34m\u001b[0m\u001b[0m\n\u001b[0m\u001b[1;32m     20\u001b[0m     \u001b[0mself\u001b[0m\u001b[0;34m.\u001b[0m\u001b[0mround_history\u001b[0m\u001b[0;34m.\u001b[0m\u001b[0mappend\u001b[0m\u001b[0;34m(\u001b[0m\u001b[0mself\u001b[0m\u001b[0;34m.\u001b[0m\u001b[0mmodel_history\u001b[0m\u001b[0;34m.\u001b[0m\u001b[0mhistory\u001b[0m\u001b[0;34m)\u001b[0m\u001b[0;34m\u001b[0m\u001b[0;34m\u001b[0m\u001b[0m\n\u001b[1;32m     21\u001b[0m \u001b[0;34m\u001b[0m\u001b[0m\n",
      "\u001b[0;32m/opt/conda/lib/python3.7/site-packages/talos/model/ingest_model.py\u001b[0m in \u001b[0;36mingest_model\u001b[0;34m(self)\u001b[0m\n\u001b[1;32m      8\u001b[0m                       \u001b[0mself\u001b[0m\u001b[0;34m.\u001b[0m\u001b[0mx_val\u001b[0m\u001b[0;34m,\u001b[0m\u001b[0;34m\u001b[0m\u001b[0;34m\u001b[0m\u001b[0m\n\u001b[1;32m      9\u001b[0m                       \u001b[0mself\u001b[0m\u001b[0;34m.\u001b[0m\u001b[0my_val\u001b[0m\u001b[0;34m,\u001b[0m\u001b[0;34m\u001b[0m\u001b[0;34m\u001b[0m\u001b[0m\n\u001b[0;32m---> 10\u001b[0;31m                       self.round_params)\n\u001b[0m",
      "\u001b[0;32m<ipython-input-23-8e2ed397fe5e>\u001b[0m in \u001b[0;36mmammo_model\u001b[0;34m(X, y, X_val, y_val, p)\u001b[0m\n\u001b[1;32m     13\u001b[0m                     \u001b[0mvalidation_data\u001b[0m\u001b[0;34m=\u001b[0m\u001b[0;34m(\u001b[0m\u001b[0mX_val\u001b[0m\u001b[0;34m,\u001b[0m \u001b[0my_val\u001b[0m\u001b[0;34m)\u001b[0m\u001b[0;34m,\u001b[0m\u001b[0;34m\u001b[0m\u001b[0;34m\u001b[0m\u001b[0m\n\u001b[1;32m     14\u001b[0m                     \u001b[0mepochs\u001b[0m\u001b[0;34m=\u001b[0m\u001b[0;36m100\u001b[0m\u001b[0;34m,\u001b[0m\u001b[0;34m\u001b[0m\u001b[0;34m\u001b[0m\u001b[0m\n\u001b[0;32m---> 15\u001b[0;31m                     \u001b[0mverbose\u001b[0m\u001b[0;34m=\u001b[0m\u001b[0;36m0\u001b[0m\u001b[0;34m\u001b[0m\u001b[0;34m\u001b[0m\u001b[0m\n\u001b[0m\u001b[1;32m     16\u001b[0m                 )\n\u001b[1;32m     17\u001b[0m \u001b[0;34m\u001b[0m\u001b[0m\n",
      "\u001b[0;32m/opt/conda/lib/python3.7/site-packages/keras/engine/training.py\u001b[0m in \u001b[0;36mfit\u001b[0;34m(self, x, y, batch_size, epochs, verbose, callbacks, validation_split, validation_data, shuffle, class_weight, sample_weight, initial_epoch, steps_per_epoch, validation_steps, **kwargs)\u001b[0m\n\u001b[1;32m   1008\u001b[0m         \u001b[0;32melse\u001b[0m\u001b[0;34m:\u001b[0m\u001b[0;34m\u001b[0m\u001b[0;34m\u001b[0m\u001b[0m\n\u001b[1;32m   1009\u001b[0m             \u001b[0mins\u001b[0m \u001b[0;34m=\u001b[0m \u001b[0mx\u001b[0m \u001b[0;34m+\u001b[0m \u001b[0my\u001b[0m \u001b[0;34m+\u001b[0m \u001b[0msample_weights\u001b[0m\u001b[0;34m\u001b[0m\u001b[0;34m\u001b[0m\u001b[0m\n\u001b[0;32m-> 1010\u001b[0;31m         \u001b[0mself\u001b[0m\u001b[0;34m.\u001b[0m\u001b[0m_make_train_function\u001b[0m\u001b[0;34m(\u001b[0m\u001b[0;34m)\u001b[0m\u001b[0;34m\u001b[0m\u001b[0;34m\u001b[0m\u001b[0m\n\u001b[0m\u001b[1;32m   1011\u001b[0m         \u001b[0mf\u001b[0m \u001b[0;34m=\u001b[0m \u001b[0mself\u001b[0m\u001b[0;34m.\u001b[0m\u001b[0mtrain_function\u001b[0m\u001b[0;34m\u001b[0m\u001b[0;34m\u001b[0m\u001b[0m\n\u001b[1;32m   1012\u001b[0m \u001b[0;34m\u001b[0m\u001b[0m\n",
      "\u001b[0;32m/opt/conda/lib/python3.7/site-packages/keras/engine/training.py\u001b[0m in \u001b[0;36m_make_train_function\u001b[0;34m(self)\u001b[0m\n\u001b[1;32m    507\u001b[0m                     training_updates = self.optimizer.get_updates(\n\u001b[1;32m    508\u001b[0m                         \u001b[0mparams\u001b[0m\u001b[0;34m=\u001b[0m\u001b[0mself\u001b[0m\u001b[0;34m.\u001b[0m\u001b[0m_collected_trainable_weights\u001b[0m\u001b[0;34m,\u001b[0m\u001b[0;34m\u001b[0m\u001b[0;34m\u001b[0m\u001b[0m\n\u001b[0;32m--> 509\u001b[0;31m                         loss=self.total_loss)\n\u001b[0m\u001b[1;32m    510\u001b[0m                 updates = (self.updates +\n\u001b[1;32m    511\u001b[0m                            \u001b[0mtraining_updates\u001b[0m \u001b[0;34m+\u001b[0m\u001b[0;34m\u001b[0m\u001b[0;34m\u001b[0m\u001b[0m\n",
      "\u001b[0;32m/opt/conda/lib/python3.7/site-packages/keras/legacy/interfaces.py\u001b[0m in \u001b[0;36mwrapper\u001b[0;34m(*args, **kwargs)\u001b[0m\n\u001b[1;32m     89\u001b[0m                 warnings.warn('Update your `' + object_name + '` call to the ' +\n\u001b[1;32m     90\u001b[0m                               'Keras 2 API: ' + signature, stacklevel=2)\n\u001b[0;32m---> 91\u001b[0;31m             \u001b[0;32mreturn\u001b[0m \u001b[0mfunc\u001b[0m\u001b[0;34m(\u001b[0m\u001b[0;34m*\u001b[0m\u001b[0margs\u001b[0m\u001b[0;34m,\u001b[0m \u001b[0;34m**\u001b[0m\u001b[0mkwargs\u001b[0m\u001b[0;34m)\u001b[0m\u001b[0;34m\u001b[0m\u001b[0;34m\u001b[0m\u001b[0m\n\u001b[0m\u001b[1;32m     92\u001b[0m         \u001b[0mwrapper\u001b[0m\u001b[0;34m.\u001b[0m\u001b[0m_original_function\u001b[0m \u001b[0;34m=\u001b[0m \u001b[0mfunc\u001b[0m\u001b[0;34m\u001b[0m\u001b[0;34m\u001b[0m\u001b[0m\n\u001b[1;32m     93\u001b[0m         \u001b[0;32mreturn\u001b[0m \u001b[0mwrapper\u001b[0m\u001b[0;34m\u001b[0m\u001b[0;34m\u001b[0m\u001b[0m\n",
      "\u001b[0;32m/opt/conda/lib/python3.7/site-packages/keras/optimizers.py\u001b[0m in \u001b[0;36mget_updates\u001b[0;34m(self, loss, params)\u001b[0m\n\u001b[1;32m    191\u001b[0m         \u001b[0;31m# momentum\u001b[0m\u001b[0;34m\u001b[0m\u001b[0;34m\u001b[0m\u001b[0;34m\u001b[0m\u001b[0m\n\u001b[1;32m    192\u001b[0m         \u001b[0mshapes\u001b[0m \u001b[0;34m=\u001b[0m \u001b[0;34m[\u001b[0m\u001b[0mK\u001b[0m\u001b[0;34m.\u001b[0m\u001b[0mint_shape\u001b[0m\u001b[0;34m(\u001b[0m\u001b[0mp\u001b[0m\u001b[0;34m)\u001b[0m \u001b[0;32mfor\u001b[0m \u001b[0mp\u001b[0m \u001b[0;32min\u001b[0m \u001b[0mparams\u001b[0m\u001b[0;34m]\u001b[0m\u001b[0;34m\u001b[0m\u001b[0;34m\u001b[0m\u001b[0m\n\u001b[0;32m--> 193\u001b[0;31m         \u001b[0mmoments\u001b[0m \u001b[0;34m=\u001b[0m \u001b[0;34m[\u001b[0m\u001b[0mK\u001b[0m\u001b[0;34m.\u001b[0m\u001b[0mzeros\u001b[0m\u001b[0;34m(\u001b[0m\u001b[0mshape\u001b[0m\u001b[0;34m)\u001b[0m \u001b[0;32mfor\u001b[0m \u001b[0mshape\u001b[0m \u001b[0;32min\u001b[0m \u001b[0mshapes\u001b[0m\u001b[0;34m]\u001b[0m\u001b[0;34m\u001b[0m\u001b[0;34m\u001b[0m\u001b[0m\n\u001b[0m\u001b[1;32m    194\u001b[0m         \u001b[0mself\u001b[0m\u001b[0;34m.\u001b[0m\u001b[0mweights\u001b[0m \u001b[0;34m=\u001b[0m \u001b[0;34m[\u001b[0m\u001b[0mself\u001b[0m\u001b[0;34m.\u001b[0m\u001b[0miterations\u001b[0m\u001b[0;34m]\u001b[0m \u001b[0;34m+\u001b[0m \u001b[0mmoments\u001b[0m\u001b[0;34m\u001b[0m\u001b[0;34m\u001b[0m\u001b[0m\n\u001b[1;32m    195\u001b[0m         \u001b[0;32mfor\u001b[0m \u001b[0mp\u001b[0m\u001b[0;34m,\u001b[0m \u001b[0mg\u001b[0m\u001b[0;34m,\u001b[0m \u001b[0mm\u001b[0m \u001b[0;32min\u001b[0m \u001b[0mzip\u001b[0m\u001b[0;34m(\u001b[0m\u001b[0mparams\u001b[0m\u001b[0;34m,\u001b[0m \u001b[0mgrads\u001b[0m\u001b[0;34m,\u001b[0m \u001b[0mmoments\u001b[0m\u001b[0;34m)\u001b[0m\u001b[0;34m:\u001b[0m\u001b[0;34m\u001b[0m\u001b[0;34m\u001b[0m\u001b[0m\n",
      "\u001b[0;32m/opt/conda/lib/python3.7/site-packages/keras/optimizers.py\u001b[0m in \u001b[0;36m<listcomp>\u001b[0;34m(.0)\u001b[0m\n\u001b[1;32m    191\u001b[0m         \u001b[0;31m# momentum\u001b[0m\u001b[0;34m\u001b[0m\u001b[0;34m\u001b[0m\u001b[0;34m\u001b[0m\u001b[0m\n\u001b[1;32m    192\u001b[0m         \u001b[0mshapes\u001b[0m \u001b[0;34m=\u001b[0m \u001b[0;34m[\u001b[0m\u001b[0mK\u001b[0m\u001b[0;34m.\u001b[0m\u001b[0mint_shape\u001b[0m\u001b[0;34m(\u001b[0m\u001b[0mp\u001b[0m\u001b[0;34m)\u001b[0m \u001b[0;32mfor\u001b[0m \u001b[0mp\u001b[0m \u001b[0;32min\u001b[0m \u001b[0mparams\u001b[0m\u001b[0;34m]\u001b[0m\u001b[0;34m\u001b[0m\u001b[0;34m\u001b[0m\u001b[0m\n\u001b[0;32m--> 193\u001b[0;31m         \u001b[0mmoments\u001b[0m \u001b[0;34m=\u001b[0m \u001b[0;34m[\u001b[0m\u001b[0mK\u001b[0m\u001b[0;34m.\u001b[0m\u001b[0mzeros\u001b[0m\u001b[0;34m(\u001b[0m\u001b[0mshape\u001b[0m\u001b[0;34m)\u001b[0m \u001b[0;32mfor\u001b[0m \u001b[0mshape\u001b[0m \u001b[0;32min\u001b[0m \u001b[0mshapes\u001b[0m\u001b[0;34m]\u001b[0m\u001b[0;34m\u001b[0m\u001b[0;34m\u001b[0m\u001b[0m\n\u001b[0m\u001b[1;32m    194\u001b[0m         \u001b[0mself\u001b[0m\u001b[0;34m.\u001b[0m\u001b[0mweights\u001b[0m \u001b[0;34m=\u001b[0m \u001b[0;34m[\u001b[0m\u001b[0mself\u001b[0m\u001b[0;34m.\u001b[0m\u001b[0miterations\u001b[0m\u001b[0;34m]\u001b[0m \u001b[0;34m+\u001b[0m \u001b[0mmoments\u001b[0m\u001b[0;34m\u001b[0m\u001b[0;34m\u001b[0m\u001b[0m\n\u001b[1;32m    195\u001b[0m         \u001b[0;32mfor\u001b[0m \u001b[0mp\u001b[0m\u001b[0;34m,\u001b[0m \u001b[0mg\u001b[0m\u001b[0;34m,\u001b[0m \u001b[0mm\u001b[0m \u001b[0;32min\u001b[0m \u001b[0mzip\u001b[0m\u001b[0;34m(\u001b[0m\u001b[0mparams\u001b[0m\u001b[0;34m,\u001b[0m \u001b[0mgrads\u001b[0m\u001b[0;34m,\u001b[0m \u001b[0mmoments\u001b[0m\u001b[0;34m)\u001b[0m\u001b[0;34m:\u001b[0m\u001b[0;34m\u001b[0m\u001b[0;34m\u001b[0m\u001b[0m\n",
      "\u001b[0;32m/opt/conda/lib/python3.7/site-packages/keras/backend/tensorflow_backend.py\u001b[0m in \u001b[0;36mzeros\u001b[0;34m(shape, dtype, name)\u001b[0m\n\u001b[1;32m    702\u001b[0m     \u001b[0mv\u001b[0m \u001b[0;34m=\u001b[0m \u001b[0mtf\u001b[0m\u001b[0;34m.\u001b[0m\u001b[0mzeros\u001b[0m\u001b[0;34m(\u001b[0m\u001b[0mshape\u001b[0m\u001b[0;34m=\u001b[0m\u001b[0mshape\u001b[0m\u001b[0;34m,\u001b[0m \u001b[0mdtype\u001b[0m\u001b[0;34m=\u001b[0m\u001b[0mtf_dtype\u001b[0m\u001b[0;34m,\u001b[0m \u001b[0mname\u001b[0m\u001b[0;34m=\u001b[0m\u001b[0mname\u001b[0m\u001b[0;34m)\u001b[0m\u001b[0;34m\u001b[0m\u001b[0;34m\u001b[0m\u001b[0m\n\u001b[1;32m    703\u001b[0m     \u001b[0;32mif\u001b[0m \u001b[0mpy_all\u001b[0m\u001b[0;34m(\u001b[0m\u001b[0mv\u001b[0m\u001b[0;34m.\u001b[0m\u001b[0mget_shape\u001b[0m\u001b[0;34m(\u001b[0m\u001b[0;34m)\u001b[0m\u001b[0;34m.\u001b[0m\u001b[0mas_list\u001b[0m\u001b[0;34m(\u001b[0m\u001b[0;34m)\u001b[0m\u001b[0;34m)\u001b[0m\u001b[0;34m:\u001b[0m\u001b[0;34m\u001b[0m\u001b[0;34m\u001b[0m\u001b[0m\n\u001b[0;32m--> 704\u001b[0;31m         \u001b[0;32mreturn\u001b[0m \u001b[0mvariable\u001b[0m\u001b[0;34m(\u001b[0m\u001b[0mv\u001b[0m\u001b[0;34m,\u001b[0m \u001b[0mdtype\u001b[0m\u001b[0;34m=\u001b[0m\u001b[0mdtype\u001b[0m\u001b[0;34m,\u001b[0m \u001b[0mname\u001b[0m\u001b[0;34m=\u001b[0m\u001b[0mname\u001b[0m\u001b[0;34m)\u001b[0m\u001b[0;34m\u001b[0m\u001b[0;34m\u001b[0m\u001b[0m\n\u001b[0m\u001b[1;32m    705\u001b[0m     \u001b[0;32mreturn\u001b[0m \u001b[0mv\u001b[0m\u001b[0;34m\u001b[0m\u001b[0;34m\u001b[0m\u001b[0m\n\u001b[1;32m    706\u001b[0m \u001b[0;34m\u001b[0m\u001b[0m\n",
      "\u001b[0;32m/opt/conda/lib/python3.7/site-packages/keras/backend/tensorflow_backend.py\u001b[0m in \u001b[0;36mvariable\u001b[0;34m(value, dtype, name, constraint)\u001b[0m\n\u001b[1;32m    400\u001b[0m         \u001b[0mv\u001b[0m\u001b[0;34m.\u001b[0m\u001b[0m_uses_learning_phase\u001b[0m \u001b[0;34m=\u001b[0m \u001b[0;32mFalse\u001b[0m\u001b[0;34m\u001b[0m\u001b[0;34m\u001b[0m\u001b[0m\n\u001b[1;32m    401\u001b[0m         \u001b[0;32mreturn\u001b[0m \u001b[0mv\u001b[0m\u001b[0;34m\u001b[0m\u001b[0;34m\u001b[0m\u001b[0m\n\u001b[0;32m--> 402\u001b[0;31m     \u001b[0mv\u001b[0m \u001b[0;34m=\u001b[0m \u001b[0mtf\u001b[0m\u001b[0;34m.\u001b[0m\u001b[0mVariable\u001b[0m\u001b[0;34m(\u001b[0m\u001b[0mvalue\u001b[0m\u001b[0;34m,\u001b[0m \u001b[0mdtype\u001b[0m\u001b[0;34m=\u001b[0m\u001b[0mtf\u001b[0m\u001b[0;34m.\u001b[0m\u001b[0mas_dtype\u001b[0m\u001b[0;34m(\u001b[0m\u001b[0mdtype\u001b[0m\u001b[0;34m)\u001b[0m\u001b[0;34m,\u001b[0m \u001b[0mname\u001b[0m\u001b[0;34m=\u001b[0m\u001b[0mname\u001b[0m\u001b[0;34m)\u001b[0m\u001b[0;34m\u001b[0m\u001b[0;34m\u001b[0m\u001b[0m\n\u001b[0m\u001b[1;32m    403\u001b[0m     \u001b[0;32mif\u001b[0m \u001b[0misinstance\u001b[0m\u001b[0;34m(\u001b[0m\u001b[0mvalue\u001b[0m\u001b[0;34m,\u001b[0m \u001b[0mnp\u001b[0m\u001b[0;34m.\u001b[0m\u001b[0mndarray\u001b[0m\u001b[0;34m)\u001b[0m\u001b[0;34m:\u001b[0m\u001b[0;34m\u001b[0m\u001b[0;34m\u001b[0m\u001b[0m\n\u001b[1;32m    404\u001b[0m         \u001b[0mv\u001b[0m\u001b[0;34m.\u001b[0m\u001b[0m_keras_shape\u001b[0m \u001b[0;34m=\u001b[0m \u001b[0mvalue\u001b[0m\u001b[0;34m.\u001b[0m\u001b[0mshape\u001b[0m\u001b[0;34m\u001b[0m\u001b[0;34m\u001b[0m\u001b[0m\n",
      "\u001b[0;32m/opt/conda/lib/python3.7/site-packages/tensorflow/python/ops/variables.py\u001b[0m in \u001b[0;36m__call__\u001b[0;34m(cls, *args, **kwargs)\u001b[0m\n\u001b[1;32m    211\u001b[0m   \u001b[0;32mdef\u001b[0m \u001b[0m__call__\u001b[0m\u001b[0;34m(\u001b[0m\u001b[0mcls\u001b[0m\u001b[0;34m,\u001b[0m \u001b[0;34m*\u001b[0m\u001b[0margs\u001b[0m\u001b[0;34m,\u001b[0m \u001b[0;34m**\u001b[0m\u001b[0mkwargs\u001b[0m\u001b[0;34m)\u001b[0m\u001b[0;34m:\u001b[0m\u001b[0;34m\u001b[0m\u001b[0;34m\u001b[0m\u001b[0m\n\u001b[1;32m    212\u001b[0m     \u001b[0;32mif\u001b[0m \u001b[0mcls\u001b[0m \u001b[0;32mis\u001b[0m \u001b[0mVariableV1\u001b[0m\u001b[0;34m:\u001b[0m\u001b[0;34m\u001b[0m\u001b[0;34m\u001b[0m\u001b[0m\n\u001b[0;32m--> 213\u001b[0;31m       \u001b[0;32mreturn\u001b[0m \u001b[0mcls\u001b[0m\u001b[0;34m.\u001b[0m\u001b[0m_variable_v1_call\u001b[0m\u001b[0;34m(\u001b[0m\u001b[0;34m*\u001b[0m\u001b[0margs\u001b[0m\u001b[0;34m,\u001b[0m \u001b[0;34m**\u001b[0m\u001b[0mkwargs\u001b[0m\u001b[0;34m)\u001b[0m\u001b[0;34m\u001b[0m\u001b[0;34m\u001b[0m\u001b[0m\n\u001b[0m\u001b[1;32m    214\u001b[0m     \u001b[0;32melif\u001b[0m \u001b[0mcls\u001b[0m \u001b[0;32mis\u001b[0m \u001b[0mVariable\u001b[0m\u001b[0;34m:\u001b[0m\u001b[0;34m\u001b[0m\u001b[0;34m\u001b[0m\u001b[0m\n\u001b[1;32m    215\u001b[0m       \u001b[0;32mreturn\u001b[0m \u001b[0mcls\u001b[0m\u001b[0;34m.\u001b[0m\u001b[0m_variable_v2_call\u001b[0m\u001b[0;34m(\u001b[0m\u001b[0;34m*\u001b[0m\u001b[0margs\u001b[0m\u001b[0;34m,\u001b[0m \u001b[0;34m**\u001b[0m\u001b[0mkwargs\u001b[0m\u001b[0;34m)\u001b[0m\u001b[0;34m\u001b[0m\u001b[0;34m\u001b[0m\u001b[0m\n",
      "\u001b[0;32m/opt/conda/lib/python3.7/site-packages/tensorflow/python/ops/variables.py\u001b[0m in \u001b[0;36m_variable_v1_call\u001b[0;34m(cls, initial_value, trainable, collections, validate_shape, caching_device, name, variable_def, dtype, expected_shape, import_scope, constraint, use_resource, synchronization, aggregation)\u001b[0m\n\u001b[1;32m    174\u001b[0m         \u001b[0muse_resource\u001b[0m\u001b[0;34m=\u001b[0m\u001b[0muse_resource\u001b[0m\u001b[0;34m,\u001b[0m\u001b[0;34m\u001b[0m\u001b[0;34m\u001b[0m\u001b[0m\n\u001b[1;32m    175\u001b[0m         \u001b[0msynchronization\u001b[0m\u001b[0;34m=\u001b[0m\u001b[0msynchronization\u001b[0m\u001b[0;34m,\u001b[0m\u001b[0;34m\u001b[0m\u001b[0;34m\u001b[0m\u001b[0m\n\u001b[0;32m--> 176\u001b[0;31m         aggregation=aggregation)\n\u001b[0m\u001b[1;32m    177\u001b[0m \u001b[0;34m\u001b[0m\u001b[0m\n\u001b[1;32m    178\u001b[0m   def _variable_v2_call(cls,\n",
      "\u001b[0;32m/opt/conda/lib/python3.7/site-packages/tensorflow/python/ops/variables.py\u001b[0m in \u001b[0;36m<lambda>\u001b[0;34m(**kwargs)\u001b[0m\n\u001b[1;32m    153\u001b[0m                         aggregation=VariableAggregation.NONE):\n\u001b[1;32m    154\u001b[0m     \u001b[0;34m\"\"\"Call on Variable class. Useful to force the signature.\"\"\"\u001b[0m\u001b[0;34m\u001b[0m\u001b[0;34m\u001b[0m\u001b[0m\n\u001b[0;32m--> 155\u001b[0;31m     \u001b[0mprevious_getter\u001b[0m \u001b[0;34m=\u001b[0m \u001b[0;32mlambda\u001b[0m \u001b[0;34m**\u001b[0m\u001b[0mkwargs\u001b[0m\u001b[0;34m:\u001b[0m \u001b[0mdefault_variable_creator\u001b[0m\u001b[0;34m(\u001b[0m\u001b[0;32mNone\u001b[0m\u001b[0;34m,\u001b[0m \u001b[0;34m**\u001b[0m\u001b[0mkwargs\u001b[0m\u001b[0;34m)\u001b[0m\u001b[0;34m\u001b[0m\u001b[0;34m\u001b[0m\u001b[0m\n\u001b[0m\u001b[1;32m    156\u001b[0m     \u001b[0;32mfor\u001b[0m \u001b[0mgetter\u001b[0m \u001b[0;32min\u001b[0m \u001b[0mops\u001b[0m\u001b[0;34m.\u001b[0m\u001b[0mget_default_graph\u001b[0m\u001b[0;34m(\u001b[0m\u001b[0;34m)\u001b[0m\u001b[0;34m.\u001b[0m\u001b[0m_variable_creator_stack\u001b[0m\u001b[0;34m:\u001b[0m  \u001b[0;31m# pylint: disable=protected-access\u001b[0m\u001b[0;34m\u001b[0m\u001b[0;34m\u001b[0m\u001b[0m\n\u001b[1;32m    157\u001b[0m       \u001b[0mprevious_getter\u001b[0m \u001b[0;34m=\u001b[0m \u001b[0m_make_getter\u001b[0m\u001b[0;34m(\u001b[0m\u001b[0mgetter\u001b[0m\u001b[0;34m,\u001b[0m \u001b[0mprevious_getter\u001b[0m\u001b[0;34m)\u001b[0m\u001b[0;34m\u001b[0m\u001b[0;34m\u001b[0m\u001b[0m\n",
      "\u001b[0;32m/opt/conda/lib/python3.7/site-packages/tensorflow/python/ops/variable_scope.py\u001b[0m in \u001b[0;36mdefault_variable_creator\u001b[0;34m(next_creator, **kwargs)\u001b[0m\n\u001b[1;32m   2493\u001b[0m         \u001b[0mcaching_device\u001b[0m\u001b[0;34m=\u001b[0m\u001b[0mcaching_device\u001b[0m\u001b[0;34m,\u001b[0m \u001b[0mname\u001b[0m\u001b[0;34m=\u001b[0m\u001b[0mname\u001b[0m\u001b[0;34m,\u001b[0m \u001b[0mdtype\u001b[0m\u001b[0;34m=\u001b[0m\u001b[0mdtype\u001b[0m\u001b[0;34m,\u001b[0m\u001b[0;34m\u001b[0m\u001b[0;34m\u001b[0m\u001b[0m\n\u001b[1;32m   2494\u001b[0m         \u001b[0mconstraint\u001b[0m\u001b[0;34m=\u001b[0m\u001b[0mconstraint\u001b[0m\u001b[0;34m,\u001b[0m \u001b[0mvariable_def\u001b[0m\u001b[0;34m=\u001b[0m\u001b[0mvariable_def\u001b[0m\u001b[0;34m,\u001b[0m\u001b[0;34m\u001b[0m\u001b[0;34m\u001b[0m\u001b[0m\n\u001b[0;32m-> 2495\u001b[0;31m         expected_shape=expected_shape, import_scope=import_scope)\n\u001b[0m\u001b[1;32m   2496\u001b[0m \u001b[0;34m\u001b[0m\u001b[0m\n\u001b[1;32m   2497\u001b[0m \u001b[0;34m\u001b[0m\u001b[0m\n",
      "\u001b[0;32m/opt/conda/lib/python3.7/site-packages/tensorflow/python/ops/variables.py\u001b[0m in \u001b[0;36m__call__\u001b[0;34m(cls, *args, **kwargs)\u001b[0m\n\u001b[1;32m    215\u001b[0m       \u001b[0;32mreturn\u001b[0m \u001b[0mcls\u001b[0m\u001b[0;34m.\u001b[0m\u001b[0m_variable_v2_call\u001b[0m\u001b[0;34m(\u001b[0m\u001b[0;34m*\u001b[0m\u001b[0margs\u001b[0m\u001b[0;34m,\u001b[0m \u001b[0;34m**\u001b[0m\u001b[0mkwargs\u001b[0m\u001b[0;34m)\u001b[0m\u001b[0;34m\u001b[0m\u001b[0;34m\u001b[0m\u001b[0m\n\u001b[1;32m    216\u001b[0m     \u001b[0;32melse\u001b[0m\u001b[0;34m:\u001b[0m\u001b[0;34m\u001b[0m\u001b[0;34m\u001b[0m\u001b[0m\n\u001b[0;32m--> 217\u001b[0;31m       \u001b[0;32mreturn\u001b[0m \u001b[0msuper\u001b[0m\u001b[0;34m(\u001b[0m\u001b[0mVariableMetaclass\u001b[0m\u001b[0;34m,\u001b[0m \u001b[0mcls\u001b[0m\u001b[0;34m)\u001b[0m\u001b[0;34m.\u001b[0m\u001b[0m__call__\u001b[0m\u001b[0;34m(\u001b[0m\u001b[0;34m*\u001b[0m\u001b[0margs\u001b[0m\u001b[0;34m,\u001b[0m \u001b[0;34m**\u001b[0m\u001b[0mkwargs\u001b[0m\u001b[0;34m)\u001b[0m\u001b[0;34m\u001b[0m\u001b[0;34m\u001b[0m\u001b[0m\n\u001b[0m\u001b[1;32m    218\u001b[0m \u001b[0;34m\u001b[0m\u001b[0m\n\u001b[1;32m    219\u001b[0m \u001b[0;34m\u001b[0m\u001b[0m\n",
      "\u001b[0;32m/opt/conda/lib/python3.7/site-packages/tensorflow/python/ops/variables.py\u001b[0m in \u001b[0;36m__init__\u001b[0;34m(self, initial_value, trainable, collections, validate_shape, caching_device, name, variable_def, dtype, expected_shape, import_scope, constraint)\u001b[0m\n\u001b[1;32m   1393\u001b[0m           \u001b[0mdtype\u001b[0m\u001b[0;34m=\u001b[0m\u001b[0mdtype\u001b[0m\u001b[0;34m,\u001b[0m\u001b[0;34m\u001b[0m\u001b[0;34m\u001b[0m\u001b[0m\n\u001b[1;32m   1394\u001b[0m           \u001b[0mexpected_shape\u001b[0m\u001b[0;34m=\u001b[0m\u001b[0mexpected_shape\u001b[0m\u001b[0;34m,\u001b[0m\u001b[0;34m\u001b[0m\u001b[0;34m\u001b[0m\u001b[0m\n\u001b[0;32m-> 1395\u001b[0;31m           constraint=constraint)\n\u001b[0m\u001b[1;32m   1396\u001b[0m \u001b[0;34m\u001b[0m\u001b[0m\n\u001b[1;32m   1397\u001b[0m   \u001b[0;32mdef\u001b[0m \u001b[0m__repr__\u001b[0m\u001b[0;34m(\u001b[0m\u001b[0mself\u001b[0m\u001b[0;34m)\u001b[0m\u001b[0;34m:\u001b[0m\u001b[0;34m\u001b[0m\u001b[0;34m\u001b[0m\u001b[0m\n",
      "\u001b[0;32m/opt/conda/lib/python3.7/site-packages/tensorflow/python/ops/variables.py\u001b[0m in \u001b[0;36m_init_from_args\u001b[0;34m(self, initial_value, trainable, collections, validate_shape, caching_device, name, dtype, expected_shape, constraint)\u001b[0m\n\u001b[1;32m   1545\u001b[0m             self._try_guard_against_uninitialized_dependencies(\n\u001b[1;32m   1546\u001b[0m                 self._initial_value),\n\u001b[0;32m-> 1547\u001b[0;31m             validate_shape=validate_shape).op\n\u001b[0m\u001b[1;32m   1548\u001b[0m \u001b[0;34m\u001b[0m\u001b[0m\n\u001b[1;32m   1549\u001b[0m         \u001b[0;31m# TODO(vrv): Change this class to not take caching_device, but\u001b[0m\u001b[0;34m\u001b[0m\u001b[0;34m\u001b[0m\u001b[0;34m\u001b[0m\u001b[0m\n",
      "\u001b[0;32m/opt/conda/lib/python3.7/site-packages/tensorflow/python/ops/state_ops.py\u001b[0m in \u001b[0;36massign\u001b[0;34m(ref, value, validate_shape, use_locking, name)\u001b[0m\n\u001b[1;32m    221\u001b[0m     return gen_state_ops.assign(\n\u001b[1;32m    222\u001b[0m         \u001b[0mref\u001b[0m\u001b[0;34m,\u001b[0m \u001b[0mvalue\u001b[0m\u001b[0;34m,\u001b[0m \u001b[0muse_locking\u001b[0m\u001b[0;34m=\u001b[0m\u001b[0muse_locking\u001b[0m\u001b[0;34m,\u001b[0m \u001b[0mname\u001b[0m\u001b[0;34m=\u001b[0m\u001b[0mname\u001b[0m\u001b[0;34m,\u001b[0m\u001b[0;34m\u001b[0m\u001b[0;34m\u001b[0m\u001b[0m\n\u001b[0;32m--> 223\u001b[0;31m         validate_shape=validate_shape)\n\u001b[0m\u001b[1;32m    224\u001b[0m   \u001b[0;32mreturn\u001b[0m \u001b[0mref\u001b[0m\u001b[0;34m.\u001b[0m\u001b[0massign\u001b[0m\u001b[0;34m(\u001b[0m\u001b[0mvalue\u001b[0m\u001b[0;34m,\u001b[0m \u001b[0mname\u001b[0m\u001b[0;34m=\u001b[0m\u001b[0mname\u001b[0m\u001b[0;34m)\u001b[0m\u001b[0;34m\u001b[0m\u001b[0;34m\u001b[0m\u001b[0m\n\u001b[1;32m    225\u001b[0m \u001b[0;34m\u001b[0m\u001b[0m\n",
      "\u001b[0;32m/opt/conda/lib/python3.7/site-packages/tensorflow/python/ops/gen_state_ops.py\u001b[0m in \u001b[0;36massign\u001b[0;34m(ref, value, validate_shape, use_locking, name)\u001b[0m\n\u001b[1;32m     62\u001b[0m   _, _, _op = _op_def_lib._apply_op_helper(\n\u001b[1;32m     63\u001b[0m         \u001b[0;34m\"Assign\"\u001b[0m\u001b[0;34m,\u001b[0m \u001b[0mref\u001b[0m\u001b[0;34m=\u001b[0m\u001b[0mref\u001b[0m\u001b[0;34m,\u001b[0m \u001b[0mvalue\u001b[0m\u001b[0;34m=\u001b[0m\u001b[0mvalue\u001b[0m\u001b[0;34m,\u001b[0m \u001b[0mvalidate_shape\u001b[0m\u001b[0;34m=\u001b[0m\u001b[0mvalidate_shape\u001b[0m\u001b[0;34m,\u001b[0m\u001b[0;34m\u001b[0m\u001b[0;34m\u001b[0m\u001b[0m\n\u001b[0;32m---> 64\u001b[0;31m                   use_locking=use_locking, name=name)\n\u001b[0m\u001b[1;32m     65\u001b[0m   \u001b[0m_result\u001b[0m \u001b[0;34m=\u001b[0m \u001b[0m_op\u001b[0m\u001b[0;34m.\u001b[0m\u001b[0moutputs\u001b[0m\u001b[0;34m[\u001b[0m\u001b[0;34m:\u001b[0m\u001b[0;34m]\u001b[0m\u001b[0;34m\u001b[0m\u001b[0;34m\u001b[0m\u001b[0m\n\u001b[1;32m     66\u001b[0m   \u001b[0m_inputs_flat\u001b[0m \u001b[0;34m=\u001b[0m \u001b[0m_op\u001b[0m\u001b[0;34m.\u001b[0m\u001b[0minputs\u001b[0m\u001b[0;34m\u001b[0m\u001b[0;34m\u001b[0m\u001b[0m\n",
      "\u001b[0;32m/opt/conda/lib/python3.7/site-packages/tensorflow/python/framework/op_def_library.py\u001b[0m in \u001b[0;36m_apply_op_helper\u001b[0;34m(self, op_type_name, name, **keywords)\u001b[0m\n\u001b[1;32m    509\u001b[0m                 \u001b[0mdtype\u001b[0m\u001b[0;34m=\u001b[0m\u001b[0mdtype\u001b[0m\u001b[0;34m,\u001b[0m\u001b[0;34m\u001b[0m\u001b[0;34m\u001b[0m\u001b[0m\n\u001b[1;32m    510\u001b[0m                 \u001b[0mas_ref\u001b[0m\u001b[0;34m=\u001b[0m\u001b[0minput_arg\u001b[0m\u001b[0;34m.\u001b[0m\u001b[0mis_ref\u001b[0m\u001b[0;34m,\u001b[0m\u001b[0;34m\u001b[0m\u001b[0;34m\u001b[0m\u001b[0m\n\u001b[0;32m--> 511\u001b[0;31m                 preferred_dtype=default_dtype)\n\u001b[0m\u001b[1;32m    512\u001b[0m           \u001b[0;32mexcept\u001b[0m \u001b[0mTypeError\u001b[0m \u001b[0;32mas\u001b[0m \u001b[0merr\u001b[0m\u001b[0;34m:\u001b[0m\u001b[0;34m\u001b[0m\u001b[0;34m\u001b[0m\u001b[0m\n\u001b[1;32m    513\u001b[0m             \u001b[0;32mif\u001b[0m \u001b[0mdtype\u001b[0m \u001b[0;32mis\u001b[0m \u001b[0;32mNone\u001b[0m\u001b[0;34m:\u001b[0m\u001b[0;34m\u001b[0m\u001b[0;34m\u001b[0m\u001b[0m\n",
      "\u001b[0;32m/opt/conda/lib/python3.7/site-packages/tensorflow/python/framework/ops.py\u001b[0m in \u001b[0;36minternal_convert_to_tensor\u001b[0;34m(value, dtype, name, as_ref, preferred_dtype, ctx, accept_symbolic_tensors)\u001b[0m\n\u001b[1;32m   1140\u001b[0m     \u001b[0mdtype\u001b[0m \u001b[0;34m=\u001b[0m \u001b[0mdtypes\u001b[0m\u001b[0;34m.\u001b[0m\u001b[0mas_dtype\u001b[0m\u001b[0;34m(\u001b[0m\u001b[0mdtype\u001b[0m\u001b[0;34m)\u001b[0m\u001b[0;34m\u001b[0m\u001b[0;34m\u001b[0m\u001b[0m\n\u001b[1;32m   1141\u001b[0m   \u001b[0munwrapped_type\u001b[0m \u001b[0;34m=\u001b[0m \u001b[0mtype\u001b[0m\u001b[0;34m(\u001b[0m\u001b[0mvalue\u001b[0m\u001b[0;34m)\u001b[0m\u001b[0;34m\u001b[0m\u001b[0;34m\u001b[0m\u001b[0m\n\u001b[0;32m-> 1142\u001b[0;31m   \u001b[0mconversion_func_list\u001b[0m \u001b[0;34m=\u001b[0m \u001b[0m_tensor_conversion_func_cache\u001b[0m\u001b[0;34m.\u001b[0m\u001b[0mget\u001b[0m\u001b[0;34m(\u001b[0m\u001b[0munwrapped_type\u001b[0m\u001b[0;34m,\u001b[0m \u001b[0;32mNone\u001b[0m\u001b[0;34m)\u001b[0m\u001b[0;34m\u001b[0m\u001b[0;34m\u001b[0m\u001b[0m\n\u001b[0m\u001b[1;32m   1143\u001b[0m   \u001b[0;32mif\u001b[0m \u001b[0mconversion_func_list\u001b[0m \u001b[0;32mis\u001b[0m \u001b[0;32mNone\u001b[0m\u001b[0;34m:\u001b[0m\u001b[0;34m\u001b[0m\u001b[0;34m\u001b[0m\u001b[0m\n\u001b[1;32m   1144\u001b[0m     \u001b[0;32mwith\u001b[0m \u001b[0m_tensor_conversion_func_lock\u001b[0m\u001b[0;34m:\u001b[0m\u001b[0;34m\u001b[0m\u001b[0;34m\u001b[0m\u001b[0m\n",
      "\u001b[0;31mKeyboardInterrupt\u001b[0m: "
     ]
    }
   ],
   "source": [
    "h = ta.Scan(\n",
    "    X_train,\n",
    "    y_train,\n",
    "    params,\n",
    "    mammo_model,\n",
    "    'Mammography',\n",
    "    x_val=X_val,\n",
    "    y_val=y_val,\n",
    "    fraction_limit=0.1\n",
    ")"
   ]
  },
  {
   "cell_type": "markdown",
   "metadata": {},
   "source": [
    "# Viewing your results"
   ]
  },
  {
   "cell_type": "code",
   "execution_count": null,
   "metadata": {},
   "outputs": [],
   "source": [
    "bestmodel = h.best_model(metric='val_f1score')"
   ]
  },
  {
   "cell_type": "code",
   "execution_count": null,
   "metadata": {},
   "outputs": [],
   "source": [
    "bestmodel.summary()"
   ]
  },
  {
   "cell_type": "code",
   "execution_count": null,
   "metadata": {
    "scrolled": true
   },
   "outputs": [],
   "source": [
    "h.data.sort_values('val_f1score', ascending=False)"
   ]
  },
  {
   "cell_type": "markdown",
   "metadata": {},
   "source": [
    "# Analyze\n",
    "We can use analyze to see which hyperparameters have an effect on the performance"
   ]
  },
  {
   "cell_type": "code",
   "execution_count": null,
   "metadata": {},
   "outputs": [],
   "source": [
    "a = ta.Analyze(h)\n",
    "a.plot_corr('val_f1score', ['loss', 'acc', 'precision', 'recall', 'f1score',\n",
    "                            'val_loss', 'val_acc', 'val_precision', 'val_recall'])"
   ]
  },
  {
   "cell_type": "code",
   "execution_count": null,
   "metadata": {},
   "outputs": [],
   "source": [
    "a.plot_hist('L2_size')"
   ]
  },
  {
   "cell_type": "markdown",
   "metadata": {},
   "source": [
    "# Evaluate\n",
    "Evaluate gives us the F1 score of the model evaluated on our test data. It split the data into 5 groups returns the 5 F1 scores. It also prints out the mean and standard deviation."
   ]
  },
  {
   "cell_type": "code",
   "execution_count": null,
   "metadata": {},
   "outputs": [],
   "source": [
    "e = ta.Evaluate(h)\n",
    "e.evaluate(np.array(X_test), np.array(y_test), 'binary', 'val_f1score', print_out=True)"
   ]
  },
  {
   "cell_type": "code",
   "execution_count": null,
   "metadata": {},
   "outputs": [],
   "source": []
  }
 ],
 "metadata": {
  "kernelspec": {
   "display_name": "Python 3",
   "language": "python",
   "name": "python3"
  },
  "language_info": {
   "codemirror_mode": {
    "name": "ipython",
    "version": 3
   },
   "file_extension": ".py",
   "mimetype": "text/x-python",
   "name": "python",
   "nbconvert_exporter": "python",
   "pygments_lexer": "ipython3",
   "version": "3.7.3"
  }
 },
 "nbformat": 4,
 "nbformat_minor": 2
}
