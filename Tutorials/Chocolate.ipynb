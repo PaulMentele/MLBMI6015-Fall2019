{
 "cells": [
  {
   "cell_type": "code",
   "execution_count": 1,
   "metadata": {},
   "outputs": [],
   "source": [
    "import pandas as pd\n",
    "import numpy as np\n",
    "import chocolate as choco\n",
    "import sklearn.metrics as skm\n",
    "from sklearn.model_selection import train_test_split\n",
    "from sklearn.preprocessing import StandardScaler\n",
    "\n",
    "from sklearn.ensemble import RandomForestClassifier\n",
    "from sklearn.linear_model import LogisticRegression\n",
    "from sklearn.svm import SVC\n",
    "from sklearn.naive_bayes import GaussianNB\n",
    "from sklearn.neighbors import KNeighborsClassifier\n",
    "from sklearn.neural_network import MLPClassifier\n",
    "\n",
    "from itertools import product\n",
    "import warnings\n",
    "warnings.filterwarnings(\"ignore\")\n",
    "np.random.seed(0)"
   ]
  },
  {
   "cell_type": "markdown",
   "metadata": {},
   "source": [
    "# Data Loading/Preprocessing"
   ]
  },
  {
   "cell_type": "code",
   "execution_count": 2,
   "metadata": {},
   "outputs": [],
   "source": [
    "df = pd.read_csv('~/DATA/mammographic_masses.data', na_values='?',\n",
    "                 names=['BI-RADS', 'Age', 'Shape', 'Margin', 'Density', 'Severity'])\n",
    "df = df.drop('BI-RADS', axis=1).dropna()"
   ]
  },
  {
   "cell_type": "code",
   "execution_count": 3,
   "metadata": {},
   "outputs": [],
   "source": [
    "X_train, X_test, y_train, y_test = train_test_split(df.iloc[:,:4], df.iloc[:,4], train_size=0.6)\n",
    "X_val, X_test, y_val, y_test = train_test_split(X_test, y_test, train_size=0.5)"
   ]
  },
  {
   "cell_type": "code",
   "execution_count": 4,
   "metadata": {},
   "outputs": [],
   "source": [
    "sc = StandardScaler()\n",
    "X_train = sc.fit_transform(X_train)\n",
    "X_test = sc.transform(X_test)\n",
    "X_val = sc.transform(X_val)"
   ]
  },
  {
   "cell_type": "markdown",
   "metadata": {},
   "source": [
    "# [Chocolate](https://chocolate.readthedocs.io/tutorials/basics.html)\n",
    "\n",
    "[Define your search space](https://chocolate.readthedocs.io/api/space.html)"
   ]
  },
  {
   "cell_type": "code",
   "execution_count": 5,
   "metadata": {},
   "outputs": [],
   "source": [
    "svc_space = {\n",
    "    \"gamma\": 'auto',\n",
    "    \"C\": choco.log(-3, 3, 10),\n",
    "    \"kernel\": choco.choice(['linear', 'poly', 'rbf', 'sigmoid']),\n",
    "    \"tol\": choco.log(-5, -2, 10)\n",
    "}\n",
    "\n",
    "rfc_space = {\n",
    "    \"max_depth\": choco.quantized_uniform(2, 10, 2),\n",
    "    \"min_samples_leaf\": choco.quantized_uniform(2, 10, 2),\n",
    "    \"n_estimators\": choco.quantized_uniform(25, 525, 25)\n",
    "}\n",
    "\n",
    "gnb_space = {\n",
    "    \"var_smoothing\": choco.log(-12, -6, 10)\n",
    "}\n",
    "\n",
    "knn_space = {\n",
    "    \"n_neighbors\": choco.quantized_uniform(1, 10, 1),\n",
    "    \"weights\": choco.choice(['uniform', 'distance']),\n",
    "    \"leaf_size\": choco.quantized_uniform(15, 315, 20),\n",
    "    \"p\": choco.choice([1,2,3])\n",
    "}\n",
    "\n",
    "mlp_space = {\n",
    "    \"hidden_layer_sizes\": choco.choice(\n",
    "        list(product(range(2, 9), range(2, 9))) +\n",
    "            [(i,) for i in range(2,9)]\n",
    "        ),\n",
    "    \"activation\": choco.choice(['relu', 'logistic']),\n",
    "    \"learning_rate_init\": choco.log(-12, -1, 10)\n",
    "}"
   ]
  },
  {
   "cell_type": "markdown",
   "metadata": {},
   "source": [
    "Choose the metric to optmize over"
   ]
  },
  {
   "cell_type": "code",
   "execution_count": 6,
   "metadata": {},
   "outputs": [],
   "source": [
    "def f1_score(trn_x, trn_y, tst_x, tst_y, model, **params):\n",
    "    m = model(**params).fit(trn_x, trn_y)\n",
    "    y_pred = m.predict(tst_x)\n",
    "    return -1*skm.f1_score(tst_y, y_pred)"
   ]
  },
  {
   "cell_type": "markdown",
   "metadata": {},
   "source": [
    "Choose your [sampler](https://chocolate.readthedocs.io/api/sample.html) or [searcher](https://chocolate.readthedocs.io/api/search.html)"
   ]
  },
  {
   "cell_type": "code",
   "execution_count": 14,
   "metadata": {},
   "outputs": [],
   "source": [
    "def run_chocolate(model, param_space, X_train, y_train, X_val, y_val, clear_db=False, n_runs=10):\n",
    "    conn = choco.SQLiteConnection(url=\"sqlite:///chocolate_dbs/%s.db\" % model.__name__)\n",
    "    if clear_db: conn.clear()\n",
    "    # searcher = choco.Random(conn, space)\n",
    "    searcher = choco.Bayes(conn, param_space)\n",
    "\n",
    "    for _ in range(n_runs):\n",
    "        token, params = searcher.next()\n",
    "        loss = f1_score(X_train, y_train, X_val, y_val, model, **params)\n",
    "        searcher.update(token, loss)\n",
    "\n",
    "    return conn"
   ]
  },
  {
   "cell_type": "code",
   "execution_count": 15,
   "metadata": {},
   "outputs": [],
   "source": [
    "def getResults(conn):\n",
    "    if isinstance(conn, choco.SQLiteConnection):\n",
    "        df = conn.results_as_dataframe()\n",
    "    elif type(conn) == str:\n",
    "        conn = choco.SQLiteConnection(url=\"sqlite:///chocolate_dbs/%s.db\" % conn)\n",
    "        df = conn.results_as_dataframe()\n",
    "    else:\n",
    "        raise ValueError()\n",
    "    # Reorder Columns\n",
    "    cols = list(df.columns)\n",
    "    cols.remove('_loss')\n",
    "    df = df[['_loss']+cols]\n",
    "    \n",
    "    return df"
   ]
  },
  {
   "cell_type": "code",
   "execution_count": 16,
   "metadata": {},
   "outputs": [],
   "source": [
    "def getBestParams(conn):\n",
    "    if isinstance(conn, choco.SQLiteConnection):\n",
    "        df = conn.results_as_dataframe()\n",
    "    elif type(conn) == str:\n",
    "        conn = choco.SQLiteConnection(url=\"sqlite:///chocolate_dbs/%s.db\" % conn)\n",
    "        df = conn.results_as_dataframe()\n",
    "    else:\n",
    "        raise ValueError()\n",
    "        \n",
    "    df = df.sort_values('_loss').iloc[0].dropna().drop('_loss')\n",
    "    return df.to_dict()"
   ]
  },
  {
   "cell_type": "markdown",
   "metadata": {},
   "source": [
    "# Baseline Validation F1 Scores"
   ]
  },
  {
   "cell_type": "code",
   "execution_count": 17,
   "metadata": {},
   "outputs": [],
   "source": [
    "svc_f1 = -f1_score(X_train, y_train, X_test, y_test, SVC)\n",
    "rfc_f1 = -f1_score(X_train, y_train, X_test, y_test, RandomForestClassifier)\n",
    "gnb_f1 = -f1_score(X_train, y_train, X_test, y_test, GaussianNB)\n",
    "knn_f1 = -f1_score(X_train, y_train, X_test, y_test, KNeighborsClassifier)\n",
    "mlp_f1 = -f1_score(X_train, y_train, X_test, y_test, MLPClassifier)"
   ]
  },
  {
   "cell_type": "code",
   "execution_count": 18,
   "metadata": {},
   "outputs": [
    {
     "name": "stdout",
     "output_type": "stream",
     "text": [
      "\n",
      "Baseline F1 scores\n",
      "-----------------------------\n",
      "SVC: 0.79\n",
      "RandomForestClassifier: 0.74\n",
      "GaussianNB: 0.76\n",
      "KNeighborsClassifier: 0.75\n",
      "MLPClassifier: 0.77\n",
      "\n"
     ]
    }
   ],
   "source": [
    "print(\"\"\"\n",
    "Baseline F1 scores\n",
    "-----------------------------\n",
    "SVC: %.2f\n",
    "RandomForestClassifier: %.2f\n",
    "GaussianNB: %.2f\n",
    "KNeighborsClassifier: %.2f\n",
    "MLPClassifier: %.2f\n",
    "\"\"\" % (svc_f1, rfc_f1, gnb_f1, knn_f1, mlp_f1))"
   ]
  },
  {
   "cell_type": "markdown",
   "metadata": {},
   "source": [
    "# Chocolate Hyperparameter Search"
   ]
  },
  {
   "cell_type": "code",
   "execution_count": 19,
   "metadata": {},
   "outputs": [],
   "source": [
    "N_RUNS = 30\n",
    "CLEAR_DB = True\n",
    "\n",
    "svc_db = run_chocolate(\n",
    "    SVC,\n",
    "    svc_space,\n",
    "    X_train,\n",
    "    y_train,model\n",
    "    X_val,\n",
    "    y_val,\n",
    "    n_runs=N_RUNS,\n",
    "    clear_db=CLEAR_DB\n",
    ")\n",
    "\n",
    "rfc_db = run_chocolate(\n",
    "    RandomForestClassifier,\n",
    "    rfc_space,\n",
    "    X_train,\n",
    "    y_train,\n",
    "    X_val,\n",
    "    y_val,\n",
    "    n_runs=N_RUNS,\n",
    "    clear_db=CLEAR_DB\n",
    ")\n",
    "\n",
    "gnb_db = run_chocolate(\n",
    "    GaussianNB,\n",
    "    gnb_space,\n",
    "    X_train,\n",
    "    y_train,\n",
    "    X_val,\n",
    "    y_val,\n",
    "    n_runs=N_RUNS,\n",
    "    clear_db=CLEAR_DB\n",
    ")\n",
    "\n",
    "knn_db = run_chocolate(\n",
    "    KNeighborsClassifier,\n",
    "    knn_space,\n",
    "    X_train,\n",
    "    y_train,\n",
    "    X_val,\n",
    "    y_val,\n",
    "    n_runs=N_RUNS,\n",
    "    clear_db=CLEAR_DB\n",
    ")\n",
    "\n",
    "mlp_db = run_chocolate(\n",
    "    MLPClassifier,\n",
    "    mlp_space,\n",
    "    X_train,\n",
    "    y_train,\n",
    "    X_val,\n",
    "    y_val,\n",
    "    n_runs=N_RUNS,\n",
    "    clear_db=CLEAR_DB\n",
    ")"
   ]
  },
  {
   "cell_type": "code",
   "execution_count": 20,
   "metadata": {
    "scrolled": true
   },
   "outputs": [
    {
     "data": {
      "text/html": [
       "<div>\n",
       "<style scoped>\n",
       "    .dataframe tbody tr th:only-of-type {\n",
       "        vertical-align: middle;\n",
       "    }\n",
       "\n",
       "    .dataframe tbody tr th {\n",
       "        vertical-align: top;\n",
       "    }\n",
       "\n",
       "    .dataframe thead th {\n",
       "        text-align: right;\n",
       "    }\n",
       "</style>\n",
       "<table border=\"1\" class=\"dataframe\">\n",
       "  <thead>\n",
       "    <tr style=\"text-align: right;\">\n",
       "      <th></th>\n",
       "      <th>_loss</th>\n",
       "      <th>C</th>\n",
       "      <th>gamma</th>\n",
       "      <th>kernel</th>\n",
       "      <th>tol</th>\n",
       "    </tr>\n",
       "    <tr>\n",
       "      <th>id</th>\n",
       "      <th></th>\n",
       "      <th></th>\n",
       "      <th></th>\n",
       "      <th></th>\n",
       "      <th></th>\n",
       "    </tr>\n",
       "  </thead>\n",
       "  <tbody>\n",
       "    <tr>\n",
       "      <th>24</th>\n",
       "      <td>-0.831579</td>\n",
       "      <td>0.001000</td>\n",
       "      <td>auto</td>\n",
       "      <td>linear</td>\n",
       "      <td>0.000067</td>\n",
       "    </tr>\n",
       "    <tr>\n",
       "      <th>4</th>\n",
       "      <td>-0.831579</td>\n",
       "      <td>0.004944</td>\n",
       "      <td>auto</td>\n",
       "      <td>sigmoid</td>\n",
       "      <td>0.000089</td>\n",
       "    </tr>\n",
       "    <tr>\n",
       "      <th>12</th>\n",
       "      <td>-0.831579</td>\n",
       "      <td>0.001000</td>\n",
       "      <td>auto</td>\n",
       "      <td>linear</td>\n",
       "      <td>0.000010</td>\n",
       "    </tr>\n",
       "    <tr>\n",
       "      <th>6</th>\n",
       "      <td>-0.831579</td>\n",
       "      <td>0.004742</td>\n",
       "      <td>auto</td>\n",
       "      <td>sigmoid</td>\n",
       "      <td>0.009608</td>\n",
       "    </tr>\n",
       "    <tr>\n",
       "      <th>10</th>\n",
       "      <td>-0.831579</td>\n",
       "      <td>0.001000</td>\n",
       "      <td>auto</td>\n",
       "      <td>linear</td>\n",
       "      <td>0.010000</td>\n",
       "    </tr>\n",
       "  </tbody>\n",
       "</table>\n",
       "</div>"
      ],
      "text/plain": [
       "       _loss         C gamma   kernel       tol\n",
       "id                                             \n",
       "24 -0.831579  0.001000  auto   linear  0.000067\n",
       "4  -0.831579  0.004944  auto  sigmoid  0.000089\n",
       "12 -0.831579  0.001000  auto   linear  0.000010\n",
       "6  -0.831579  0.004742  auto  sigmoid  0.009608\n",
       "10 -0.831579  0.001000  auto   linear  0.010000"
      ]
     },
     "execution_count": 20,
     "metadata": {},
     "output_type": "execute_result"
    }
   ],
   "source": [
    "getResults('SVC').sort_values('_loss').head()"
   ]
  },
  {
   "cell_type": "code",
   "execution_count": 21,
   "metadata": {
    "scrolled": true
   },
   "outputs": [
    {
     "data": {
      "text/html": [
       "<div>\n",
       "<style scoped>\n",
       "    .dataframe tbody tr th:only-of-type {\n",
       "        vertical-align: middle;\n",
       "    }\n",
       "\n",
       "    .dataframe tbody tr th {\n",
       "        vertical-align: top;\n",
       "    }\n",
       "\n",
       "    .dataframe thead th {\n",
       "        text-align: right;\n",
       "    }\n",
       "</style>\n",
       "<table border=\"1\" class=\"dataframe\">\n",
       "  <thead>\n",
       "    <tr style=\"text-align: right;\">\n",
       "      <th></th>\n",
       "      <th>_loss</th>\n",
       "      <th>max_depth</th>\n",
       "      <th>min_samples_leaf</th>\n",
       "      <th>n_estimators</th>\n",
       "    </tr>\n",
       "    <tr>\n",
       "      <th>id</th>\n",
       "      <th></th>\n",
       "      <th></th>\n",
       "      <th></th>\n",
       "      <th></th>\n",
       "    </tr>\n",
       "  </thead>\n",
       "  <tbody>\n",
       "    <tr>\n",
       "      <th>0</th>\n",
       "      <td>-0.832432</td>\n",
       "      <td>6</td>\n",
       "      <td>8</td>\n",
       "      <td>275</td>\n",
       "    </tr>\n",
       "    <tr>\n",
       "      <th>1</th>\n",
       "      <td>-0.832432</td>\n",
       "      <td>4</td>\n",
       "      <td>4</td>\n",
       "      <td>100</td>\n",
       "    </tr>\n",
       "    <tr>\n",
       "      <th>18</th>\n",
       "      <td>-0.832432</td>\n",
       "      <td>4</td>\n",
       "      <td>8</td>\n",
       "      <td>25</td>\n",
       "    </tr>\n",
       "    <tr>\n",
       "      <th>27</th>\n",
       "      <td>-0.826087</td>\n",
       "      <td>6</td>\n",
       "      <td>8</td>\n",
       "      <td>100</td>\n",
       "    </tr>\n",
       "    <tr>\n",
       "      <th>26</th>\n",
       "      <td>-0.826087</td>\n",
       "      <td>4</td>\n",
       "      <td>6</td>\n",
       "      <td>500</td>\n",
       "    </tr>\n",
       "  </tbody>\n",
       "</table>\n",
       "</div>"
      ],
      "text/plain": [
       "       _loss  max_depth  min_samples_leaf  n_estimators\n",
       "id                                                     \n",
       "0  -0.832432          6                 8           275\n",
       "1  -0.832432          4                 4           100\n",
       "18 -0.832432          4                 8            25\n",
       "27 -0.826087          6                 8           100\n",
       "26 -0.826087          4                 6           500"
      ]
     },
     "execution_count": 21,
     "metadata": {},
     "output_type": "execute_result"
    }
   ],
   "source": [
    "getResults('RandomForestClassifier').sort_values('_loss').head()"
   ]
  },
  {
   "cell_type": "code",
   "execution_count": 22,
   "metadata": {
    "scrolled": true
   },
   "outputs": [
    {
     "data": {
      "text/html": [
       "<div>\n",
       "<style scoped>\n",
       "    .dataframe tbody tr th:only-of-type {\n",
       "        vertical-align: middle;\n",
       "    }\n",
       "\n",
       "    .dataframe tbody tr th {\n",
       "        vertical-align: top;\n",
       "    }\n",
       "\n",
       "    .dataframe thead th {\n",
       "        text-align: right;\n",
       "    }\n",
       "</style>\n",
       "<table border=\"1\" class=\"dataframe\">\n",
       "  <thead>\n",
       "    <tr style=\"text-align: right;\">\n",
       "      <th></th>\n",
       "      <th>_loss</th>\n",
       "      <th>var_smoothing</th>\n",
       "    </tr>\n",
       "    <tr>\n",
       "      <th>id</th>\n",
       "      <th></th>\n",
       "      <th></th>\n",
       "    </tr>\n",
       "  </thead>\n",
       "  <tbody>\n",
       "    <tr>\n",
       "      <th>0</th>\n",
       "      <td>-0.821622</td>\n",
       "      <td>1.002888e-12</td>\n",
       "    </tr>\n",
       "    <tr>\n",
       "      <th>27</th>\n",
       "      <td>-0.821622</td>\n",
       "      <td>6.023558e-09</td>\n",
       "    </tr>\n",
       "    <tr>\n",
       "      <th>26</th>\n",
       "      <td>-0.821622</td>\n",
       "      <td>5.555348e-08</td>\n",
       "    </tr>\n",
       "    <tr>\n",
       "      <th>25</th>\n",
       "      <td>-0.821622</td>\n",
       "      <td>8.580490e-09</td>\n",
       "    </tr>\n",
       "    <tr>\n",
       "      <th>24</th>\n",
       "      <td>-0.821622</td>\n",
       "      <td>5.102313e-10</td>\n",
       "    </tr>\n",
       "  </tbody>\n",
       "</table>\n",
       "</div>"
      ],
      "text/plain": [
       "       _loss  var_smoothing\n",
       "id                         \n",
       "0  -0.821622   1.002888e-12\n",
       "27 -0.821622   6.023558e-09\n",
       "26 -0.821622   5.555348e-08\n",
       "25 -0.821622   8.580490e-09\n",
       "24 -0.821622   5.102313e-10"
      ]
     },
     "execution_count": 22,
     "metadata": {},
     "output_type": "execute_result"
    }
   ],
   "source": [
    "getResults('GaussianNB').sort_values('_loss').head()"
   ]
  },
  {
   "cell_type": "code",
   "execution_count": 23,
   "metadata": {
    "scrolled": true
   },
   "outputs": [
    {
     "data": {
      "text/html": [
       "<div>\n",
       "<style scoped>\n",
       "    .dataframe tbody tr th:only-of-type {\n",
       "        vertical-align: middle;\n",
       "    }\n",
       "\n",
       "    .dataframe tbody tr th {\n",
       "        vertical-align: top;\n",
       "    }\n",
       "\n",
       "    .dataframe thead th {\n",
       "        text-align: right;\n",
       "    }\n",
       "</style>\n",
       "<table border=\"1\" class=\"dataframe\">\n",
       "  <thead>\n",
       "    <tr style=\"text-align: right;\">\n",
       "      <th></th>\n",
       "      <th>_loss</th>\n",
       "      <th>leaf_size</th>\n",
       "      <th>n_neighbors</th>\n",
       "      <th>p</th>\n",
       "      <th>weights</th>\n",
       "    </tr>\n",
       "    <tr>\n",
       "      <th>id</th>\n",
       "      <th></th>\n",
       "      <th></th>\n",
       "      <th></th>\n",
       "      <th></th>\n",
       "      <th></th>\n",
       "    </tr>\n",
       "  </thead>\n",
       "  <tbody>\n",
       "    <tr>\n",
       "      <th>23</th>\n",
       "      <td>-0.804348</td>\n",
       "      <td>15</td>\n",
       "      <td>5</td>\n",
       "      <td>1</td>\n",
       "      <td>uniform</td>\n",
       "    </tr>\n",
       "    <tr>\n",
       "      <th>7</th>\n",
       "      <td>-0.804348</td>\n",
       "      <td>155</td>\n",
       "      <td>5</td>\n",
       "      <td>1</td>\n",
       "      <td>uniform</td>\n",
       "    </tr>\n",
       "    <tr>\n",
       "      <th>15</th>\n",
       "      <td>-0.797814</td>\n",
       "      <td>15</td>\n",
       "      <td>9</td>\n",
       "      <td>3</td>\n",
       "      <td>uniform</td>\n",
       "    </tr>\n",
       "    <tr>\n",
       "      <th>28</th>\n",
       "      <td>-0.795580</td>\n",
       "      <td>155</td>\n",
       "      <td>9</td>\n",
       "      <td>1</td>\n",
       "      <td>uniform</td>\n",
       "    </tr>\n",
       "    <tr>\n",
       "      <th>22</th>\n",
       "      <td>-0.791209</td>\n",
       "      <td>295</td>\n",
       "      <td>9</td>\n",
       "      <td>3</td>\n",
       "      <td>uniform</td>\n",
       "    </tr>\n",
       "  </tbody>\n",
       "</table>\n",
       "</div>"
      ],
      "text/plain": [
       "       _loss  leaf_size  n_neighbors  p  weights\n",
       "id                                              \n",
       "23 -0.804348         15            5  1  uniform\n",
       "7  -0.804348        155            5  1  uniform\n",
       "15 -0.797814         15            9  3  uniform\n",
       "28 -0.795580        155            9  1  uniform\n",
       "22 -0.791209        295            9  3  uniform"
      ]
     },
     "execution_count": 23,
     "metadata": {},
     "output_type": "execute_result"
    }
   ],
   "source": [
    "getResults('KNeighborsClassifier').sort_values('_loss').head()"
   ]
  },
  {
   "cell_type": "code",
   "execution_count": 24,
   "metadata": {
    "scrolled": true
   },
   "outputs": [
    {
     "data": {
      "text/html": [
       "<div>\n",
       "<style scoped>\n",
       "    .dataframe tbody tr th:only-of-type {\n",
       "        vertical-align: middle;\n",
       "    }\n",
       "\n",
       "    .dataframe tbody tr th {\n",
       "        vertical-align: top;\n",
       "    }\n",
       "\n",
       "    .dataframe thead th {\n",
       "        text-align: right;\n",
       "    }\n",
       "</style>\n",
       "<table border=\"1\" class=\"dataframe\">\n",
       "  <thead>\n",
       "    <tr style=\"text-align: right;\">\n",
       "      <th></th>\n",
       "      <th>_loss</th>\n",
       "      <th>activation</th>\n",
       "      <th>hidden_layer_sizes</th>\n",
       "      <th>learning_rate_init</th>\n",
       "    </tr>\n",
       "    <tr>\n",
       "      <th>id</th>\n",
       "      <th></th>\n",
       "      <th></th>\n",
       "      <th></th>\n",
       "      <th></th>\n",
       "    </tr>\n",
       "  </thead>\n",
       "  <tbody>\n",
       "    <tr>\n",
       "      <th>17</th>\n",
       "      <td>-0.838710</td>\n",
       "      <td>relu</td>\n",
       "      <td>(3,)</td>\n",
       "      <td>0.099997</td>\n",
       "    </tr>\n",
       "    <tr>\n",
       "      <th>28</th>\n",
       "      <td>-0.823529</td>\n",
       "      <td>logistic</td>\n",
       "      <td>(2, 4)</td>\n",
       "      <td>0.001326</td>\n",
       "    </tr>\n",
       "    <tr>\n",
       "      <th>8</th>\n",
       "      <td>-0.822222</td>\n",
       "      <td>relu</td>\n",
       "      <td>(7, 5)</td>\n",
       "      <td>0.001135</td>\n",
       "    </tr>\n",
       "    <tr>\n",
       "      <th>19</th>\n",
       "      <td>-0.810811</td>\n",
       "      <td>relu</td>\n",
       "      <td>(7, 7)</td>\n",
       "      <td>0.099997</td>\n",
       "    </tr>\n",
       "    <tr>\n",
       "      <th>14</th>\n",
       "      <td>-0.806630</td>\n",
       "      <td>relu</td>\n",
       "      <td>(6, 5)</td>\n",
       "      <td>0.099997</td>\n",
       "    </tr>\n",
       "  </tbody>\n",
       "</table>\n",
       "</div>"
      ],
      "text/plain": [
       "       _loss activation hidden_layer_sizes  learning_rate_init\n",
       "id                                                            \n",
       "17 -0.838710       relu               (3,)            0.099997\n",
       "28 -0.823529   logistic             (2, 4)            0.001326\n",
       "8  -0.822222       relu             (7, 5)            0.001135\n",
       "19 -0.810811       relu             (7, 7)            0.099997\n",
       "14 -0.806630       relu             (6, 5)            0.099997"
      ]
     },
     "execution_count": 24,
     "metadata": {},
     "output_type": "execute_result"
    }
   ],
   "source": [
    "getResults('MLPClassifier').sort_values('_loss').head()"
   ]
  },
  {
   "cell_type": "code",
   "execution_count": 25,
   "metadata": {},
   "outputs": [
    {
     "data": {
      "text/plain": [
       "{'activation': 'relu',\n",
       " 'hidden_layer_sizes': (3,),\n",
       " 'learning_rate_init': 0.09999746718847377}"
      ]
     },
     "execution_count": 25,
     "metadata": {},
     "output_type": "execute_result"
    }
   ],
   "source": [
    "getBestParams('MLPClassifier')"
   ]
  },
  {
   "cell_type": "code",
   "execution_count": 26,
   "metadata": {
    "scrolled": true
   },
   "outputs": [],
   "source": [
    "svc_f1_hpo = -f1_score(X_train, y_train, X_test, y_test, SVC, **getBestParams('SVC'))\n",
    "\n",
    "best_rfc = getBestParams('RandomForestClassifier')\n",
    "best_rfc['n_estimators'] = int(best_rfc['n_estimators'])\n",
    "best_rfc['min_samples_leaf'] = int(best_rfc['min_samples_leaf'])\n",
    "rfc_f1_hpo = -f1_score(X_train, y_train, X_test, y_test, RandomForestClassifier, **best_rfc)\n",
    "\n",
    "gnb_f1_hpo = -f1_score(X_train, y_train, X_test, y_test, GaussianNB, **getBestParams('GaussianNB'))\n",
    "\n",
    "knn_f1_hpo = -f1_score(X_train, y_train, X_test, y_test, KNeighborsClassifier, **getBestParams('KNeighborsClassifier'))\n",
    "\n",
    "mlp_f1_hpo = -f1_score(X_train, y_train, X_test, y_test, MLPClassifier, **getBestParams('MLPClassifier'))"
   ]
  },
  {
   "cell_type": "code",
   "execution_count": 27,
   "metadata": {},
   "outputs": [
    {
     "name": "stdout",
     "output_type": "stream",
     "text": [
      "\n",
      "Baseline F1 scores\n",
      "-----------------------------\n",
      "SVC: 0.79\n",
      "RandomForestClassifier: 0.74\n",
      "GaussianNB: 0.76\n",
      "KNeighborsClassifier: 0.75\n",
      "MLPClassifier: 0.77\n",
      "\n"
     ]
    }
   ],
   "source": [
    "print(\"\"\"\n",
    "Baseline F1 scores\n",
    "-----------------------------\n",
    "SVC: %.2f\n",
    "RandomForestClassifier: %.2f\n",
    "GaussianNB: %.2f\n",
    "KNeighborsClassifier: %.2f\n",
    "MLPClassifier: %.2f\n",
    "\"\"\" % (svc_f1, rfc_f1, gnb_f1, knn_f1, mlp_f1))"
   ]
  },
  {
   "cell_type": "code",
   "execution_count": 28,
   "metadata": {},
   "outputs": [
    {
     "name": "stdout",
     "output_type": "stream",
     "text": [
      "\n",
      "After Hyperparameter Optimization\n",
      "----------------------------------\n",
      "SVC: 0.77\n",
      "RandomForestClassifier: 0.80\n",
      "GaussianNB: 0.76\n",
      "KNeighborsClassifier: 0.78\n",
      "MLPClassifier: 0.79\n",
      "\n"
     ]
    }
   ],
   "source": [
    "print(\"\"\"\n",
    "After Hyperparameter Optimization\n",
    "----------------------------------\n",
    "SVC: %.2f\n",
    "RandomForestClassifier: %.2f\n",
    "GaussianNB: %.2f\n",
    "KNeighborsClassifier: %.2f\n",
    "MLPClassifier: %.2f\n",
    "\"\"\" % (svc_f1_hpo, rfc_f1_hpo, gnb_f1_hpo, knn_f1_hpo, mlp_f1_hpo))"
   ]
  },
  {
   "cell_type": "code",
   "execution_count": null,
   "metadata": {},
   "outputs": [],
   "source": []
  }
 ],
 "metadata": {
  "kernelspec": {
   "display_name": "Python 3",
   "language": "python",
   "name": "python3"
  },
  "language_info": {
   "codemirror_mode": {
    "name": "ipython",
    "version": 3
   },
   "file_extension": ".py",
   "mimetype": "text/x-python",
   "name": "python",
   "nbconvert_exporter": "python",
   "pygments_lexer": "ipython3",
   "version": "3.7.3"
  }
 },
 "nbformat": 4,
 "nbformat_minor": 2
}
